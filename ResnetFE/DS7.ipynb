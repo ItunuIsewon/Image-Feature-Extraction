{
 "cells": [
  {
   "cell_type": "code",
   "execution_count": 3,
   "id": "8156597b",
   "metadata": {},
   "outputs": [
    {
     "name": "stderr",
     "output_type": "stream",
     "text": [
      "2024-04-25 15:26:00.697917: E external/local_xla/xla/stream_executor/cuda/cuda_dnn.cc:9261] Unable to register cuDNN factory: Attempting to register factory for plugin cuDNN when one has already been registered\n",
      "2024-04-25 15:26:00.698056: E external/local_xla/xla/stream_executor/cuda/cuda_fft.cc:607] Unable to register cuFFT factory: Attempting to register factory for plugin cuFFT when one has already been registered\n",
      "2024-04-25 15:26:00.701877: E external/local_xla/xla/stream_executor/cuda/cuda_blas.cc:1515] Unable to register cuBLAS factory: Attempting to register factory for plugin cuBLAS when one has already been registered\n",
      "2024-04-25 15:26:00.729366: I tensorflow/core/platform/cpu_feature_guard.cc:182] This TensorFlow binary is optimized to use available CPU instructions in performance-critical operations.\n",
      "To enable the following instructions: AVX2 AVX512F AVX512_VNNI FMA, in other operations, rebuild TensorFlow with the appropriate compiler flags.\n",
      "2024-04-25 15:26:04.447471: W tensorflow/compiler/tf2tensorrt/utils/py_utils.cc:38] TF-TRT Warning: Could not find TensorRT\n"
     ]
    }
   ],
   "source": [
    "#import required libraries\n",
    "import os\n",
    "os.environ['TF_ENABLE_ONEDNN_OPTS'] = '0'\n",
    "os.environ['TF_DETERMINISTIC_OPS'] = '1'\n",
    "import cv2\n",
    "import numpy as np\n",
    "from imutils import paths\n",
    "from sklearn.preprocessing import LabelEncoder\n",
    "from sklearn.model_selection import StratifiedKFold, train_test_split\n",
    "from sklearn.svm import SVC\n",
    "from sklearn.neighbors import KNeighborsClassifier\n",
    "from sklearn.ensemble import RandomForestClassifier\n",
    "from sklearn.ensemble import AdaBoostClassifier\n",
    "from sklearn.metrics import classification_report, roc_auc_score, matthews_corrcoef, precision_score, f1_score, recall_score\n",
    "from xgboost import XGBClassifier\n",
    "from sklearn.naive_bayes import GaussianNB\n",
    "from tensorflow.keras.models import Sequential\n",
    "from tensorflow.keras.layers import Conv2D, MaxPooling2D, Flatten, Dense, SimpleRNN,Dropout\n",
    "from tensorflow.keras.utils import to_categorical\n",
    "import pandas as pd\n",
    "import time\n",
    "import psutil\n",
    "import tensorflow as tf\n",
    "from tensorflow.keras.optimizers import Adam\n",
    "from tensorflow.keras.callbacks import EarlyStopping\n",
    "import tensorflow as tf\n",
    "from tensorflow.keras.applications import VGG16\n",
    "from tensorflow.keras.applications import VGG19\n",
    "from tensorflow.keras.preprocessing import image\n",
    "from tensorflow.keras.applications.vgg16 import preprocess_input, decode_predictions\n",
    "from tensorflow.keras.models import Sequential\n",
    "from tensorflow.keras.layers import Dense, Dropout, Flatten\n",
    "import keras\n",
    "\n",
    "tf.keras.utils.set_random_seed(0)\n",
    "tf.config.experimental.enable_op_determinism()"
   ]
  },
  {
   "cell_type": "code",
   "execution_count": 2,
   "id": "0a9bc0f8-8892-44d1-9f4b-d0c89a38ff2c",
   "metadata": {},
   "outputs": [],
   "source": [
    "#!pip install tensorflow-tensorrt\n"
   ]
  },
  {
   "cell_type": "code",
   "execution_count": 3,
   "id": "c08f9a20",
   "metadata": {},
   "outputs": [],
   "source": [
    "#!pip install opencv-python\n",
    "#!pip install imutils\n",
    "#!pip install scikit-learn\n",
    "#!pip install xgboost\n"
   ]
  },
  {
   "cell_type": "code",
   "execution_count": 4,
   "id": "8016367c",
   "metadata": {},
   "outputs": [],
   "source": [
    "#Class to load the dataset images from device\n",
    "\n",
    "class SimpleDatasetLoader:\n",
    "    # Method: Constructor\n",
    "    def __init__(self, preprocessors=None):\n",
    "        \"\"\"\n",
    "        :param preprocessors: List of image preprocessors\n",
    "        \"\"\"\n",
    "        self.preprocessors = preprocessors\n",
    "\n",
    "        if self.preprocessors is None:\n",
    "            self.preprocessors = []\n",
    "\n",
    "    # Method: Used to load a list of images for pre-processing\n",
    "    def load(self, image_paths, verbose=-1):\n",
    "        \"\"\"\n",
    "        :param image_paths: List of image paths\n",
    "        :param verbose: Parameter for printing information to console\n",
    "        :return: Tuple of data and labels\n",
    "        \"\"\"\n",
    "        data, labels = [], []\n",
    "\n",
    "        for i, image_path in enumerate(image_paths):\n",
    "            image = cv2.imread(image_path)\n",
    "            label = image_path.split(os.path.sep)[-2]\n",
    "\n",
    "            if self.preprocessors is not None:\n",
    "                for p in self.preprocessors:\n",
    "                    image = p.preprocess(image)\n",
    "\n",
    "            data.append(image)\n",
    "            labels.append(label)\n",
    "\n",
    "            if verbose > 0 and i > 0 and (i+1) % verbose == 0:\n",
    "                print('[INFO]: Processed {}/{}'.format(i+1, len(image_paths)))\n",
    "\n",
    "        return (np.array(data), np.array(labels))"
   ]
  },
  {
   "cell_type": "code",
   "execution_count": 5,
   "id": "6db2af8e",
   "metadata": {},
   "outputs": [],
   "source": [
    "#Class Preprocessror \n",
    "class SimplePreprocessor:\n",
    "    # Method: Constructor\n",
    "    def __init__(self, width, height, interpolation=cv2.INTER_AREA):\n",
    "        \"\"\"\n",
    "        :param width: Image width\n",
    "        :param height: Image height\n",
    "        :param interpolation: Interpolation algorithm\n",
    "        \"\"\"\n",
    "        self.width = width\n",
    "        self.height = height\n",
    "        self.interpolation = interpolation\n",
    "\n",
    "    # Method: Used to resize the image to a fixed size (ignoring the aspect ratio)\n",
    "    def preprocess(self, image):\n",
    "        \"\"\"\n",
    "        :param image: Image\n",
    "        :return: Re-sized image\n",
    "        \"\"\"\n",
    "        return cv2.resize(image, (self.width, self.height), interpolation=self.interpolation)"
   ]
  },
  {
   "cell_type": "code",
   "execution_count": 6,
   "id": "11731516",
   "metadata": {},
   "outputs": [],
   "source": [
    "from imutils import paths\n",
    "from sklearn.preprocessing import LabelEncoder\n",
    "from sklearn.model_selection import train_test_split\n",
    "from sklearn.metrics import classification_report\n",
    "from __main__ import SimplePreprocessor\n",
    "from __main__ import SimpleDatasetLoader"
   ]
  },
  {
   "cell_type": "code",
   "execution_count": 7,
   "id": "253976fb",
   "metadata": {},
   "outputs": [
    {
     "name": "stdout",
     "output_type": "stream",
     "text": [
      "[INFO]: Images loading....\n",
      "[INFO]: Processed 1000/10015\n",
      "[INFO]: Processed 2000/10015\n",
      "[INFO]: Processed 3000/10015\n",
      "[INFO]: Processed 4000/10015\n",
      "[INFO]: Processed 5000/10015\n",
      "[INFO]: Processed 6000/10015\n",
      "[INFO]: Processed 7000/10015\n",
      "[INFO]: Processed 8000/10015\n",
      "[INFO]: Processed 9000/10015\n",
      "[INFO]: Processed 10000/10015\n",
      "(10015, 224, 224, 3)\n",
      "(10015,)\n"
     ]
    }
   ],
   "source": [
    "# Function to load and preprocess data using SimpleDatasetLoader\n",
    "def load_and_preprocess_data(image_paths, target_size):\n",
    "    sp = SimplePreprocessor(target_size[0], target_size[1])\n",
    "    sdl = SimpleDatasetLoader(preprocessors=[sp])\n",
    "    data, labels = sdl.load(image_paths, verbose=1000)\n",
    "\n",
    "    print(data.shape)\n",
    "    print(labels.shape)\n",
    "\n",
    "    # Convert labels to one-hot encoding\n",
    "    le = LabelEncoder()\n",
    "    labels = le.fit_transform(labels)\n",
    "    #labels = to_categorical(labels)\n",
    "\n",
    "    return data, labels\n",
    "\n",
    "\n",
    "\n",
    "# Get list of image paths\n",
    "image_paths = list(paths.list_images(\"../HAM10000/\"))\n",
    "\n",
    "# Define target size for images\n",
    "target_size = (224, 224)  # Change this to your desired size\n",
    "\n",
    "# Load and preprocess data\n",
    "print('[INFO]: Images loading....')\n",
    "data, labels = load_and_preprocess_data(image_paths, target_size)"
   ]
  },
  {
   "cell_type": "code",
   "execution_count": 8,
   "id": "5b8bade7-be6f-4028-8313-11ad6e920fb2",
   "metadata": {},
   "outputs": [
    {
     "name": "stderr",
     "output_type": "stream",
     "text": [
      "2024-04-21 22:07:35.100154: I tensorflow/core/common_runtime/gpu/gpu_device.cc:1929] Created device /job:localhost/replica:0/task:0/device:GPU:0 with 1288 MB memory:  -> device: 0, name: NVIDIA A100-SXM4-40GB, pci bus id: 0000:65:00.0, compute capability: 8.0\n"
     ]
    },
    {
     "name": "stdout",
     "output_type": "stream",
     "text": [
      "313/313 [==============================] - 552s 2s/step\n",
      "(10015, 100352)\n"
     ]
    }
   ],
   "source": [
    "from tensorflow.keras.applications import  ResNet50, EfficientNetB0\n",
    "from tensorflow.keras.models import Model\n",
    "with tf.device('/CPU:0'):\n",
    "    base_model = ResNet50(weights='imagenet', include_top=False, input_shape=(target_size[0], target_size[1], 3))\n",
    "    model = Model(inputs=base_model.input, outputs=base_model.output)\n",
    "    features = model.predict(data, batch_size=32, verbose=1)\n",
    "\n",
    "# Flatten the features\n",
    "features_flatten = features.reshape(features.shape[0], -1)\n",
    "    \n",
    "print(features_flatten.shape)"
   ]
  },
  {
   "cell_type": "code",
   "execution_count": 9,
   "id": "b28dc9e4-da07-475a-8f3b-6704bc2fc246",
   "metadata": {},
   "outputs": [],
   "source": [
    "data = features_flatten"
   ]
  },
  {
   "cell_type": "code",
   "execution_count": 10,
   "id": "52246a66-a31d-4db3-a230-74cf9adad531",
   "metadata": {},
   "outputs": [],
   "source": [
    "num_classes = len(np.unique(labels))"
   ]
  },
  {
   "cell_type": "code",
   "execution_count": 11,
   "id": "eea8357b-fc36-46ea-a4d9-5eb4c0dda9fc",
   "metadata": {
    "editable": true,
    "slideshow": {
     "slide_type": ""
    },
    "tags": []
   },
   "outputs": [],
   "source": [
    "import gc\n",
    "import os\n",
    "\n",
    "def calculate_sensitivity_specificity(y_true, y_pred, class_label):\n",
    "    # Create a binary confusion matrix for the specified class\n",
    "    true_positive = sum((y_true == class_label) & (y_pred == class_label))\n",
    "    false_positive = sum((y_true != class_label) & (y_pred == class_label))\n",
    "    true_negative = sum((y_true != class_label) & (y_pred != class_label))\n",
    "    false_negative = sum((y_true == class_label) & (y_pred != class_label))\n",
    "\n",
    "    # Calculate sensitivity and specificity\n",
    "    sensitivity = true_positive / (true_positive + false_negative) if (true_positive + false_negative) > 0 else 0\n",
    "    specificity = true_negative / (true_negative + false_positive) if (true_negative + false_positive) > 0 else 0\n",
    "\n",
    "    return sensitivity, specificity\n",
    "# Initialize a DataFrame to store results\n",
    "results_df = pd.DataFrame(columns=['Model', 'Average Accuracy', 'Average Sensitivity', 'Average Specificity',\n",
    "                                   'Average AUC-ROC', 'Average MCC', 'Average Precision', 'Average F1 Score',\n",
    "                                   'Memory Used (MB)', 'Time (s)'])\n",
    "\n",
    "# Function to evaluate a model\n",
    "def evaluate_model(model, name, data, labels):\n",
    "    accuracy_list = []\n",
    "    sensitivity_list = []\n",
    "    specificity_list = []\n",
    "    auc_roc_list = []\n",
    "    mcc_list = []\n",
    "    precision_list = []\n",
    "    f1_list = []\n",
    "    time_start = time.time()\n",
    "    memory_start = psutil.Process(os.getpid()).memory_info().rss / 1024 ** 2\n",
    "\n",
    "    skf = StratifiedKFold(n_splits=10, shuffle=True, random_state=0)\n",
    "    if name == \"VGG16\" or name == \"EfficientNetB0\" or name == \"ResNet50\":\n",
    "        with tf.device('/GPU:0'):\n",
    "            tf.random.set_seed(0)\n",
    "            for fold, (train_index, test_index) in enumerate(skf.split(data, labels)):\n",
    "                print(f'\\n[INFO] Fold {fold + 1} / 10 for {name}')\n",
    "\n",
    "                X_train, X_test = data[train_index], data[test_index]\n",
    "                y_train, y_test = to_categorical(labels[train_index]), to_categorical(labels[test_index])\n",
    "\n",
    "                # Adding early stopping to prevent overfitting\n",
    "                early_stopping = EarlyStopping(monitor='loss', patience=3, restore_best_weights=True)\n",
    "                keras.utils.set_random_seed(0)\n",
    "                np.random.seed(0)\n",
    "                tf.random.set_seed(0)\n",
    "                #tf.config.run_functions_eagerly(True)\n",
    "                tf.data.experimental.enable_debug_mode()\n",
    "                # Train the model\n",
    "                # Example of using tf.data.Dataset\n",
    "                #train_dataset = tf.data.Dataset.from_tensor_slices((X_train, y_train))\n",
    "                #train_dataset = train_dataset.shuffle(buffer_size=len(X_train)).batch(64)\n",
    "\n",
    "                train_dataset = tf.data.Dataset.from_tensor_slices((X_train, y_train))\n",
    "                train_dataset = train_dataset.shuffle(buffer_size=len(X_train)).batch(64)\n",
    "\n",
    "                model.fit(train_dataset, epochs=20, callbacks=[early_stopping])\n",
    "\n",
    "\n",
    "                # Evaluate the model\n",
    "                predictions = model.predict(X_test)\n",
    "                y_pred = np.argmax(predictions, axis=1)\n",
    "                y_test_encoded = np.argmax(y_test, axis=1)\n",
    "\n",
    "                # print(y_test)\n",
    "                # print(y_test_encoded)\n",
    "                # print(y_pred)\n",
    "                # print(predictions)\n",
    "                # Calculate evaluation metrics for the current fold\n",
    "                # Calculate evaluation metrics for the current fold\n",
    "                accuracy = np.mean(y_pred == y_test_encoded)\n",
    "                sensitivities = []\n",
    "                specificities = []\n",
    "                for class_label in range(num_classes):\n",
    "                    sen, spe = calculate_sensitivity_specificity(y_test_encoded, y_pred, class_label)\n",
    "                    sensitivities.append(sen)\n",
    "                    specificities.append(spe)\n",
    "                sensitivity = sum(sensitivities) / num_classes\n",
    "                specificity = sum(specificities) / num_classes\n",
    "                auc_roc = roc_auc_score(y_test, predictions,multi_class='ovr')\n",
    "                mcc = matthews_corrcoef(y_test_encoded, y_pred)\n",
    "                precision = precision_score(y_test_encoded, y_pred, average='macro')\n",
    "                f1 = f1_score(y_test_encoded, y_pred, average='macro')\n",
    "                # Append metrics to lists\n",
    "                accuracy_list.append(accuracy)\n",
    "                sensitivity_list.append(sensitivity)\n",
    "                specificity_list.append(specificity)\n",
    "                auc_roc_list.append(auc_roc)\n",
    "                mcc_list.append(mcc)\n",
    "                precision_list.append(precision)\n",
    "                f1_list.append(f1)\n",
    "\n",
    "                # Print metrics for the current fold\n",
    "                print(f\"Accuracy: {accuracy}\")\n",
    "                print(f\"Sensitivity: {sensitivity}\")\n",
    "                print(f\"Specificity: {specificity}\")\n",
    "                print(f\"AUC-ROC: {auc_roc}\")\n",
    "                print(f\"MCC: {mcc}\")\n",
    "                print(f\"Precision: {precision}\")\n",
    "                print(f\"F1 Score: {f1}\")\n",
    "                gc.collect()\n",
    "\n",
    "            # Calculate average metrics\n",
    "            average_accuracy = np.mean(accuracy_list)\n",
    "            average_sensitivity = np.mean(sensitivity_list)\n",
    "            average_specificity = np.mean(specificity_list)\n",
    "            average_auc_roc = np.mean(auc_roc_list)\n",
    "            average_mcc = np.mean(mcc_list)\n",
    "            average_precision = np.mean(precision_list)\n",
    "            average_f1 = np.mean(f1_list)\n",
    "\n",
    "            time_end = time.time()\n",
    "            memory_end = psutil.Process(os.getpid()).memory_info().rss / 1024 ** 2\n",
    "            del X_train, X_test, y_train, y_test\n",
    "            gc.collect()\n",
    "            tf.keras.backend.clear_session()\n",
    "    else:\n",
    "        for fold, (train_index, test_index) in enumerate(skf.split(data, labels)):\n",
    "            print(f'\\n[INFO] Fold {fold + 1} / 10 for {name}')\n",
    "\n",
    "            X_train, X_test = data[train_index], data[test_index]\n",
    "            y_train, y_test = labels[train_index], labels[test_index]\n",
    "\n",
    "            # Train the model\n",
    "            model.fit(X_train, y_train)\n",
    "\n",
    "            # Evaluate the model\n",
    "            predictions = model.predict(X_test)\n",
    "            y_prob = model.predict_proba(X_test)\n",
    "            y_pred = predictions\n",
    "            y_test_encoded = y_test\n",
    "\n",
    "            # Calculate evaluation metrics for the current fold\n",
    "            accuracy = np.mean(y_pred == y_test_encoded)\n",
    "            sensitivities = []\n",
    "            specificities = []\n",
    "            for class_label in range(num_classes):\n",
    "                sen, spe = calculate_sensitivity_specificity(y_test, y_pred, class_label)\n",
    "                sensitivities.append(sen)\n",
    "                specificities.append(spe)\n",
    "            sensitivity = sum(sensitivities) / num_classes\n",
    "            specificity = sum(specificities) / num_classes\n",
    "            auc_roc = roc_auc_score(y_test, y_prob,multi_class='ovr')\n",
    "            mcc = matthews_corrcoef(y_test, y_pred)\n",
    "            precision = precision_score(y_test, y_pred, average='macro')\n",
    "            f1 = f1_score(y_test, y_pred, average='macro')\n",
    "            # Append metrics to lists\n",
    "            accuracy_list.append(accuracy)\n",
    "            sensitivity_list.append(sensitivity)\n",
    "            specificity_list.append(specificity)\n",
    "            auc_roc_list.append(auc_roc)\n",
    "            mcc_list.append(mcc)\n",
    "            precision_list.append(precision)\n",
    "            f1_list.append(f1)\n",
    "\n",
    "            # Print metrics for the current fold\n",
    "            print(f\"Accuracy: {accuracy}\")\n",
    "            print(f\"Sensitivity: {sensitivity}\")\n",
    "            print(f\"Specificity: {specificity}\")\n",
    "            print(f\"AUC-ROC: {auc_roc}\")\n",
    "            print(f\"MCC: {mcc}\")\n",
    "            print(f\"Precision: {precision}\")\n",
    "            print(f\"F1 Score: {f1}\")\n",
    "            gc.collect()\n",
    "\n",
    "        # Calculate average metrics\n",
    "        average_accuracy = np.mean(accuracy_list)\n",
    "        average_sensitivity = np.mean(sensitivity_list)\n",
    "        average_specificity = np.mean(specificity_list)\n",
    "        average_auc_roc = np.mean(auc_roc_list)\n",
    "        average_mcc = np.mean(mcc_list)\n",
    "        average_precision = np.mean(precision_list)\n",
    "        average_f1 = np.mean(f1_list)\n",
    "\n",
    "        time_end = time.time()\n",
    "        memory_end = psutil.Process(os.getpid()).memory_info().rss / 1024 ** 2\n",
    "        \n",
    "\n",
    "    # Append results to DataFrame\n",
    "    results_df.loc[len(results_df)] = [name, average_accuracy, average_sensitivity, average_specificity,\n",
    "                                       average_auc_roc, average_mcc, average_precision, average_f1,\n",
    "                                       memory_end - memory_start, time_end - time_start]\n",
    "\n",
    "\n",
    "\n"
   ]
  },
  {
   "cell_type": "code",
   "execution_count": 12,
   "id": "743d006a",
   "metadata": {
    "editable": true,
    "slideshow": {
     "slide_type": ""
    },
    "tags": []
   },
   "outputs": [
    {
     "name": "stdout",
     "output_type": "stream",
     "text": [
      "\n",
      "[INFO] Fold 1 / 10 for LR\n"
     ]
    },
    {
     "name": "stderr",
     "output_type": "stream",
     "text": [
      "/opt/tljh/user/lib/python3.10/site-packages/sklearn/linear_model/_logistic.py:460: ConvergenceWarning: lbfgs failed to converge (status=1):\n",
      "STOP: TOTAL NO. of ITERATIONS REACHED LIMIT.\n",
      "\n",
      "Increase the number of iterations (max_iter) or scale the data as shown in:\n",
      "    https://scikit-learn.org/stable/modules/preprocessing.html\n",
      "Please also refer to the documentation for alternative solver options:\n",
      "    https://scikit-learn.org/stable/modules/linear_model.html#logistic-regression\n",
      "  n_iter_i = _check_optimize_result(\n"
     ]
    },
    {
     "name": "stdout",
     "output_type": "stream",
     "text": [
      "Accuracy: 0.8243512974051896\n",
      "Sensitivity: 0.651794726528202\n",
      "Specificity: 0.9545342789066538\n",
      "AUC-ROC: 0.9537262342921559\n",
      "MCC: 0.6596171513200884\n",
      "Precision: 0.7489202562064737\n",
      "F1 Score: 0.6883077822682954\n",
      "\n",
      "[INFO] Fold 2 / 10 for LR\n"
     ]
    },
    {
     "name": "stderr",
     "output_type": "stream",
     "text": [
      "/opt/tljh/user/lib/python3.10/site-packages/sklearn/linear_model/_logistic.py:460: ConvergenceWarning: lbfgs failed to converge (status=1):\n",
      "STOP: TOTAL NO. of ITERATIONS REACHED LIMIT.\n",
      "\n",
      "Increase the number of iterations (max_iter) or scale the data as shown in:\n",
      "    https://scikit-learn.org/stable/modules/preprocessing.html\n",
      "Please also refer to the documentation for alternative solver options:\n",
      "    https://scikit-learn.org/stable/modules/linear_model.html#logistic-regression\n",
      "  n_iter_i = _check_optimize_result(\n"
     ]
    },
    {
     "name": "stdout",
     "output_type": "stream",
     "text": [
      "Accuracy: 0.8153692614770459\n",
      "Sensitivity: 0.6049248778459866\n",
      "Specificity: 0.9480504189215847\n",
      "AUC-ROC: 0.9545313047240713\n",
      "MCC: 0.6310714006299426\n",
      "Precision: 0.721813570618605\n",
      "F1 Score: 0.6515649796932391\n",
      "\n",
      "[INFO] Fold 3 / 10 for LR\n"
     ]
    },
    {
     "name": "stderr",
     "output_type": "stream",
     "text": [
      "/opt/tljh/user/lib/python3.10/site-packages/sklearn/linear_model/_logistic.py:460: ConvergenceWarning: lbfgs failed to converge (status=1):\n",
      "STOP: TOTAL NO. of ITERATIONS REACHED LIMIT.\n",
      "\n",
      "Increase the number of iterations (max_iter) or scale the data as shown in:\n",
      "    https://scikit-learn.org/stable/modules/preprocessing.html\n",
      "Please also refer to the documentation for alternative solver options:\n",
      "    https://scikit-learn.org/stable/modules/linear_model.html#logistic-regression\n",
      "  n_iter_i = _check_optimize_result(\n"
     ]
    },
    {
     "name": "stdout",
     "output_type": "stream",
     "text": [
      "Accuracy: 0.8013972055888223\n",
      "Sensitivity: 0.6223432093368128\n",
      "Specificity: 0.9468355728971927\n",
      "AUC-ROC: 0.9418845277526774\n",
      "MCC: 0.6088669428964837\n",
      "Precision: 0.6993190014032393\n",
      "F1 Score: 0.6532183080995174\n",
      "\n",
      "[INFO] Fold 4 / 10 for LR\n"
     ]
    },
    {
     "name": "stderr",
     "output_type": "stream",
     "text": [
      "/opt/tljh/user/lib/python3.10/site-packages/sklearn/linear_model/_logistic.py:460: ConvergenceWarning: lbfgs failed to converge (status=1):\n",
      "STOP: TOTAL NO. of ITERATIONS REACHED LIMIT.\n",
      "\n",
      "Increase the number of iterations (max_iter) or scale the data as shown in:\n",
      "    https://scikit-learn.org/stable/modules/preprocessing.html\n",
      "Please also refer to the documentation for alternative solver options:\n",
      "    https://scikit-learn.org/stable/modules/linear_model.html#logistic-regression\n",
      "  n_iter_i = _check_optimize_result(\n"
     ]
    },
    {
     "name": "stdout",
     "output_type": "stream",
     "text": [
      "Accuracy: 0.812375249500998\n",
      "Sensitivity: 0.5911818865945293\n",
      "Specificity: 0.9478419383983189\n",
      "AUC-ROC: 0.9405381321524029\n",
      "MCC: 0.6286901523724608\n",
      "Precision: 0.6666318122888032\n",
      "F1 Score: 0.6160649098385085\n",
      "\n",
      "[INFO] Fold 5 / 10 for LR\n"
     ]
    },
    {
     "name": "stderr",
     "output_type": "stream",
     "text": [
      "/opt/tljh/user/lib/python3.10/site-packages/sklearn/linear_model/_logistic.py:460: ConvergenceWarning: lbfgs failed to converge (status=1):\n",
      "STOP: TOTAL NO. of ITERATIONS REACHED LIMIT.\n",
      "\n",
      "Increase the number of iterations (max_iter) or scale the data as shown in:\n",
      "    https://scikit-learn.org/stable/modules/preprocessing.html\n",
      "Please also refer to the documentation for alternative solver options:\n",
      "    https://scikit-learn.org/stable/modules/linear_model.html#logistic-regression\n",
      "  n_iter_i = _check_optimize_result(\n"
     ]
    },
    {
     "name": "stdout",
     "output_type": "stream",
     "text": [
      "Accuracy: 0.8253493013972056\n",
      "Sensitivity: 0.6557411861913172\n",
      "Specificity: 0.9525693110384091\n",
      "AUC-ROC: 0.9546969279397042\n",
      "MCC: 0.6572745598326876\n",
      "Precision: 0.7163118362124278\n",
      "F1 Score: 0.6745542143750575\n",
      "\n",
      "[INFO] Fold 6 / 10 for LR\n"
     ]
    },
    {
     "name": "stderr",
     "output_type": "stream",
     "text": [
      "/opt/tljh/user/lib/python3.10/site-packages/sklearn/linear_model/_logistic.py:460: ConvergenceWarning: lbfgs failed to converge (status=1):\n",
      "STOP: TOTAL NO. of ITERATIONS REACHED LIMIT.\n",
      "\n",
      "Increase the number of iterations (max_iter) or scale the data as shown in:\n",
      "    https://scikit-learn.org/stable/modules/preprocessing.html\n",
      "Please also refer to the documentation for alternative solver options:\n",
      "    https://scikit-learn.org/stable/modules/linear_model.html#logistic-regression\n",
      "  n_iter_i = _check_optimize_result(\n"
     ]
    },
    {
     "name": "stdout",
     "output_type": "stream",
     "text": [
      "Accuracy: 0.8181818181818182\n",
      "Sensitivity: 0.6187656220967447\n",
      "Specificity: 0.950202969075726\n",
      "AUC-ROC: 0.9544891975561071\n",
      "MCC: 0.6381782100178843\n",
      "Precision: 0.7130401768159839\n",
      "F1 Score: 0.6511319231321561\n",
      "\n",
      "[INFO] Fold 7 / 10 for LR\n"
     ]
    },
    {
     "name": "stderr",
     "output_type": "stream",
     "text": [
      "/opt/tljh/user/lib/python3.10/site-packages/sklearn/linear_model/_logistic.py:460: ConvergenceWarning: lbfgs failed to converge (status=1):\n",
      "STOP: TOTAL NO. of ITERATIONS REACHED LIMIT.\n",
      "\n",
      "Increase the number of iterations (max_iter) or scale the data as shown in:\n",
      "    https://scikit-learn.org/stable/modules/preprocessing.html\n",
      "Please also refer to the documentation for alternative solver options:\n",
      "    https://scikit-learn.org/stable/modules/linear_model.html#logistic-regression\n",
      "  n_iter_i = _check_optimize_result(\n"
     ]
    },
    {
     "name": "stdout",
     "output_type": "stream",
     "text": [
      "Accuracy: 0.8201798201798202\n",
      "Sensitivity: 0.609859657400641\n",
      "Specificity: 0.9483286816708855\n",
      "AUC-ROC: 0.9439774681424434\n",
      "MCC: 0.637935410651364\n",
      "Precision: 0.7256042348947295\n",
      "F1 Score: 0.6533735815590621\n",
      "\n",
      "[INFO] Fold 8 / 10 for LR\n"
     ]
    },
    {
     "name": "stderr",
     "output_type": "stream",
     "text": [
      "/opt/tljh/user/lib/python3.10/site-packages/sklearn/linear_model/_logistic.py:460: ConvergenceWarning: lbfgs failed to converge (status=1):\n",
      "STOP: TOTAL NO. of ITERATIONS REACHED LIMIT.\n",
      "\n",
      "Increase the number of iterations (max_iter) or scale the data as shown in:\n",
      "    https://scikit-learn.org/stable/modules/preprocessing.html\n",
      "Please also refer to the documentation for alternative solver options:\n",
      "    https://scikit-learn.org/stable/modules/linear_model.html#logistic-regression\n",
      "  n_iter_i = _check_optimize_result(\n"
     ]
    },
    {
     "name": "stdout",
     "output_type": "stream",
     "text": [
      "Accuracy: 0.8171828171828172\n",
      "Sensitivity: 0.6725668982298683\n",
      "Specificity: 0.9475836730918061\n",
      "AUC-ROC: 0.9608789142144387\n",
      "MCC: 0.6357023069481247\n",
      "Precision: 0.7027372333369686\n",
      "F1 Score: 0.6828836704345189\n",
      "\n",
      "[INFO] Fold 9 / 10 for LR\n"
     ]
    },
    {
     "name": "stderr",
     "output_type": "stream",
     "text": [
      "/opt/tljh/user/lib/python3.10/site-packages/sklearn/linear_model/_logistic.py:460: ConvergenceWarning: lbfgs failed to converge (status=1):\n",
      "STOP: TOTAL NO. of ITERATIONS REACHED LIMIT.\n",
      "\n",
      "Increase the number of iterations (max_iter) or scale the data as shown in:\n",
      "    https://scikit-learn.org/stable/modules/preprocessing.html\n",
      "Please also refer to the documentation for alternative solver options:\n",
      "    https://scikit-learn.org/stable/modules/linear_model.html#logistic-regression\n",
      "  n_iter_i = _check_optimize_result(\n"
     ]
    },
    {
     "name": "stdout",
     "output_type": "stream",
     "text": [
      "Accuracy: 0.8171828171828172\n",
      "Sensitivity: 0.564086198482293\n",
      "Specificity: 0.9495584357064036\n",
      "AUC-ROC: 0.9462221202711918\n",
      "MCC: 0.6355996586787875\n",
      "Precision: 0.6028013927692901\n",
      "F1 Score: 0.5794800211418834\n",
      "\n",
      "[INFO] Fold 10 / 10 for LR\n"
     ]
    },
    {
     "name": "stderr",
     "output_type": "stream",
     "text": [
      "/opt/tljh/user/lib/python3.10/site-packages/sklearn/linear_model/_logistic.py:460: ConvergenceWarning: lbfgs failed to converge (status=1):\n",
      "STOP: TOTAL NO. of ITERATIONS REACHED LIMIT.\n",
      "\n",
      "Increase the number of iterations (max_iter) or scale the data as shown in:\n",
      "    https://scikit-learn.org/stable/modules/preprocessing.html\n",
      "Please also refer to the documentation for alternative solver options:\n",
      "    https://scikit-learn.org/stable/modules/linear_model.html#logistic-regression\n",
      "  n_iter_i = _check_optimize_result(\n"
     ]
    },
    {
     "name": "stdout",
     "output_type": "stream",
     "text": [
      "Accuracy: 0.8101898101898102\n",
      "Sensitivity: 0.6151383079021672\n",
      "Specificity: 0.9518105855938016\n",
      "AUC-ROC: 0.9507812703480225\n",
      "MCC: 0.6301696794834978\n",
      "Precision: 0.675033263769793\n",
      "F1 Score: 0.6398682421400999\n"
     ]
    }
   ],
   "source": [
    "from sklearn.linear_model import LogisticRegression\n",
    "# SVM\n",
    "lr_model = LogisticRegression(n_jobs=-1, random_state=0)\n",
    "evaluate_model(lr_model, 'LR', data, labels)\n",
    "\n"
   ]
  },
  {
   "cell_type": "code",
   "execution_count": 13,
   "id": "1ad87131-764c-448b-8476-2e415110115e",
   "metadata": {},
   "outputs": [
    {
     "name": "stdout",
     "output_type": "stream",
     "text": [
      "\n",
      "[INFO] Fold 1 / 10 for NB\n"
     ]
    },
    {
     "name": "stderr",
     "output_type": "stream",
     "text": [
      "/opt/tljh/user/lib/python3.10/site-packages/sklearn/metrics/_classification.py:1471: UndefinedMetricWarning: Precision is ill-defined and being set to 0.0 in labels with no predicted samples. Use `zero_division` parameter to control this behavior.\n",
      "  _warn_prf(average, modifier, msg_start, len(result))\n"
     ]
    },
    {
     "name": "stdout",
     "output_type": "stream",
     "text": [
      "Accuracy: 0.6347305389221557\n",
      "Sensitivity: 0.24740135486404144\n",
      "Specificity: 0.9015427568243265\n",
      "AUC-ROC: 0.5753360172102627\n",
      "MCC: 0.2718334811472551\n",
      "Precision: 0.2510245965936278\n",
      "F1 Score: 0.24583101963433476\n",
      "\n",
      "[INFO] Fold 2 / 10 for NB\n"
     ]
    },
    {
     "name": "stderr",
     "output_type": "stream",
     "text": [
      "/opt/tljh/user/lib/python3.10/site-packages/sklearn/metrics/_classification.py:1471: UndefinedMetricWarning: Precision is ill-defined and being set to 0.0 in labels with no predicted samples. Use `zero_division` parameter to control this behavior.\n",
      "  _warn_prf(average, modifier, msg_start, len(result))\n"
     ]
    },
    {
     "name": "stdout",
     "output_type": "stream",
     "text": [
      "Accuracy: 0.627744510978044\n",
      "Sensitivity: 0.23852554598823256\n",
      "Specificity: 0.8979439114954756\n",
      "AUC-ROC: 0.5704380481220285\n",
      "MCC: 0.24985418043663385\n",
      "Precision: 0.24582840766901423\n",
      "F1 Score: 0.24025263016701143\n",
      "\n",
      "[INFO] Fold 3 / 10 for NB\n"
     ]
    },
    {
     "name": "stderr",
     "output_type": "stream",
     "text": [
      "/opt/tljh/user/lib/python3.10/site-packages/sklearn/metrics/_classification.py:1471: UndefinedMetricWarning: Precision is ill-defined and being set to 0.0 in labels with no predicted samples. Use `zero_division` parameter to control this behavior.\n",
      "  _warn_prf(average, modifier, msg_start, len(result))\n"
     ]
    },
    {
     "name": "stdout",
     "output_type": "stream",
     "text": [
      "Accuracy: 0.6137724550898204\n",
      "Sensitivity: 0.22581355044041612\n",
      "Specificity: 0.9008720150101179\n",
      "AUC-ROC: 0.5634640724356406\n",
      "MCC: 0.248745429504152\n",
      "Precision: 0.2199280811448987\n",
      "F1 Score: 0.22182332781184375\n",
      "\n",
      "[INFO] Fold 4 / 10 for NB\n",
      "Accuracy: 0.6327345309381237\n",
      "Sensitivity: 0.2574177092818131\n",
      "Specificity: 0.9013816973411259\n",
      "AUC-ROC: 0.5813343764333933\n",
      "MCC: 0.2734487412950764\n",
      "Precision: 0.32000512496622624\n",
      "F1 Score: 0.26484965912347663\n",
      "\n",
      "[INFO] Fold 5 / 10 for NB\n"
     ]
    },
    {
     "name": "stderr",
     "output_type": "stream",
     "text": [
      "/opt/tljh/user/lib/python3.10/site-packages/sklearn/metrics/_classification.py:1471: UndefinedMetricWarning: Precision is ill-defined and being set to 0.0 in labels with no predicted samples. Use `zero_division` parameter to control this behavior.\n",
      "  _warn_prf(average, modifier, msg_start, len(result))\n"
     ]
    },
    {
     "name": "stdout",
     "output_type": "stream",
     "text": [
      "Accuracy: 0.6447105788423154\n",
      "Sensitivity: 0.2602077939968834\n",
      "Specificity: 0.9031448122140479\n",
      "AUC-ROC: 0.5844430052398228\n",
      "MCC: 0.28838009814136817\n",
      "Precision: 0.2635885877945453\n",
      "F1 Score: 0.26108422982785545\n",
      "\n",
      "[INFO] Fold 6 / 10 for NB\n"
     ]
    },
    {
     "name": "stderr",
     "output_type": "stream",
     "text": [
      "/opt/tljh/user/lib/python3.10/site-packages/sklearn/metrics/_classification.py:1471: UndefinedMetricWarning: Precision is ill-defined and being set to 0.0 in labels with no predicted samples. Use `zero_division` parameter to control this behavior.\n",
      "  _warn_prf(average, modifier, msg_start, len(result))\n"
     ]
    },
    {
     "name": "stdout",
     "output_type": "stream",
     "text": [
      "Accuracy: 0.6383616383616384\n",
      "Sensitivity: 0.2667073385363935\n",
      "Specificity: 0.9046576760015881\n",
      "AUC-ROC: 0.5872756746936935\n",
      "MCC: 0.28803592108623344\n",
      "Precision: 0.3354597731057613\n",
      "F1 Score: 0.2761212619828375\n",
      "\n",
      "[INFO] Fold 7 / 10 for NB\n"
     ]
    },
    {
     "name": "stderr",
     "output_type": "stream",
     "text": [
      "/opt/tljh/user/lib/python3.10/site-packages/sklearn/metrics/_classification.py:1471: UndefinedMetricWarning: Precision is ill-defined and being set to 0.0 in labels with no predicted samples. Use `zero_division` parameter to control this behavior.\n",
      "  _warn_prf(average, modifier, msg_start, len(result))\n"
     ]
    },
    {
     "name": "stdout",
     "output_type": "stream",
     "text": [
      "Accuracy: 0.6223776223776224\n",
      "Sensitivity: 0.22565679431638927\n",
      "Specificity: 0.90229449173305\n",
      "AUC-ROC: 0.5661058618378898\n",
      "MCC: 0.2554112665326149\n",
      "Precision: 0.22068425209600329\n",
      "F1 Score: 0.2228165309868572\n",
      "\n",
      "[INFO] Fold 8 / 10 for NB\n"
     ]
    },
    {
     "name": "stderr",
     "output_type": "stream",
     "text": [
      "/opt/tljh/user/lib/python3.10/site-packages/sklearn/metrics/_classification.py:1471: UndefinedMetricWarning: Precision is ill-defined and being set to 0.0 in labels with no predicted samples. Use `zero_division` parameter to control this behavior.\n",
      "  _warn_prf(average, modifier, msg_start, len(result))\n"
     ]
    },
    {
     "name": "stdout",
     "output_type": "stream",
     "text": [
      "Accuracy: 0.6103896103896104\n",
      "Sensitivity: 0.24638901478342173\n",
      "Specificity: 0.8960411777079823\n",
      "AUC-ROC: 0.5734453121926377\n",
      "MCC: 0.2352636770172518\n",
      "Precision: 0.23882113113639675\n",
      "F1 Score: 0.2424014708701287\n",
      "\n",
      "[INFO] Fold 9 / 10 for NB\n"
     ]
    },
    {
     "name": "stderr",
     "output_type": "stream",
     "text": [
      "/opt/tljh/user/lib/python3.10/site-packages/sklearn/metrics/_classification.py:1471: UndefinedMetricWarning: Precision is ill-defined and being set to 0.0 in labels with no predicted samples. Use `zero_division` parameter to control this behavior.\n",
      "  _warn_prf(average, modifier, msg_start, len(result))\n"
     ]
    },
    {
     "name": "stdout",
     "output_type": "stream",
     "text": [
      "Accuracy: 0.6483516483516484\n",
      "Sensitivity: 0.25318262601290564\n",
      "Specificity: 0.9072656564691676\n",
      "AUC-ROC: 0.5829724187282302\n",
      "MCC: 0.29740172789069225\n",
      "Precision: 0.2506706278469975\n",
      "F1 Score: 0.25135136434341243\n",
      "\n",
      "[INFO] Fold 10 / 10 for NB\n",
      "Accuracy: 0.6243756243756243\n",
      "Sensitivity: 0.2536775128193039\n",
      "Specificity: 0.9004660413521025\n",
      "AUC-ROC: 0.5785171883277588\n",
      "MCC: 0.2575010184590156\n",
      "Precision: 0.2631081204595764\n",
      "F1 Score: 0.2559302730908138\n"
     ]
    }
   ],
   "source": [
    "#NB\n",
    "nb_model = GaussianNB()\n",
    "evaluate_model(nb_model, 'NB', data, labels)"
   ]
  },
  {
   "cell_type": "code",
   "execution_count": 14,
   "id": "04aacd84",
   "metadata": {},
   "outputs": [
    {
     "name": "stdout",
     "output_type": "stream",
     "text": [
      "\n",
      "[INFO] Fold 1 / 10 for KNN\n",
      "Accuracy: 0.7245508982035929\n",
      "Sensitivity: 0.4251637670614216\n",
      "Specificity: 0.9255679422653043\n",
      "AUC-ROC: 0.8076452540305592\n",
      "MCC: 0.4489969811161218\n",
      "Precision: 0.525586920610128\n",
      "F1 Score: 0.43594559423992696\n",
      "\n",
      "[INFO] Fold 2 / 10 for KNN\n",
      "Accuracy: 0.7425149700598802\n",
      "Sensitivity: 0.4516221192127376\n",
      "Specificity: 0.9259918472639793\n",
      "AUC-ROC: 0.8383532818633065\n",
      "MCC: 0.4762932603329219\n",
      "Precision: 0.6305386840178377\n",
      "F1 Score: 0.4728939895818372\n",
      "\n",
      "[INFO] Fold 3 / 10 for KNN\n"
     ]
    },
    {
     "name": "stderr",
     "output_type": "stream",
     "text": [
      "/opt/tljh/user/lib/python3.10/site-packages/sklearn/metrics/_classification.py:1471: UndefinedMetricWarning: Precision is ill-defined and being set to 0.0 in labels with no predicted samples. Use `zero_division` parameter to control this behavior.\n",
      "  _warn_prf(average, modifier, msg_start, len(result))\n"
     ]
    },
    {
     "name": "stdout",
     "output_type": "stream",
     "text": [
      "Accuracy: 0.7345309381237525\n",
      "Sensitivity: 0.355435004688736\n",
      "Specificity: 0.9265191668527272\n",
      "AUC-ROC: 0.7983632818454426\n",
      "MCC: 0.4594246762503125\n",
      "Precision: 0.37715421715932\n",
      "F1 Score: 0.35272196529597216\n",
      "\n",
      "[INFO] Fold 4 / 10 for KNN\n",
      "Accuracy: 0.7215568862275449\n",
      "Sensitivity: 0.3662878584269529\n",
      "Specificity: 0.9225768836340836\n",
      "AUC-ROC: 0.8202048843850198\n",
      "MCC: 0.43327848135063385\n",
      "Precision: 0.4499135260360022\n",
      "F1 Score: 0.37353544972796016\n",
      "\n",
      "[INFO] Fold 5 / 10 for KNN\n"
     ]
    },
    {
     "name": "stderr",
     "output_type": "stream",
     "text": [
      "/opt/tljh/user/lib/python3.10/site-packages/sklearn/metrics/_classification.py:1471: UndefinedMetricWarning: Precision is ill-defined and being set to 0.0 in labels with no predicted samples. Use `zero_division` parameter to control this behavior.\n",
      "  _warn_prf(average, modifier, msg_start, len(result))\n"
     ]
    },
    {
     "name": "stdout",
     "output_type": "stream",
     "text": [
      "Accuracy: 0.7514970059880239\n",
      "Sensitivity: 0.4051568540978239\n",
      "Specificity: 0.933195104818734\n",
      "AUC-ROC: 0.8303647471868357\n",
      "MCC: 0.4989761448147477\n",
      "Precision: 0.5105666175131175\n",
      "F1 Score: 0.4079307654090973\n",
      "\n",
      "[INFO] Fold 6 / 10 for KNN\n",
      "Accuracy: 0.7422577422577422\n",
      "Sensitivity: 0.4411811224989045\n",
      "Specificity: 0.9248642056598454\n",
      "AUC-ROC: 0.8192592034059308\n",
      "MCC: 0.4696462162057538\n",
      "Precision: 0.5563777285796772\n",
      "F1 Score: 0.4552739297334763\n",
      "\n",
      "[INFO] Fold 7 / 10 for KNN\n",
      "Accuracy: 0.7332667332667333\n",
      "Sensitivity: 0.395496095082815\n",
      "Specificity: 0.9211383205264358\n",
      "AUC-ROC: 0.8394941779321863\n",
      "MCC: 0.4476635017474423\n",
      "Precision: 0.5935090625805495\n",
      "F1 Score: 0.402162960994836\n",
      "\n",
      "[INFO] Fold 8 / 10 for KNN\n",
      "Accuracy: 0.7262737262737263\n",
      "Sensitivity: 0.411333957597217\n",
      "Specificity: 0.9225218048559615\n",
      "AUC-ROC: 0.8071611737077589\n",
      "MCC: 0.4409813764963909\n",
      "Precision: 0.5640802839193774\n",
      "F1 Score: 0.42870995678448404\n",
      "\n",
      "[INFO] Fold 9 / 10 for KNN\n",
      "Accuracy: 0.7422577422577422\n",
      "Sensitivity: 0.42250961950817306\n",
      "Specificity: 0.9271064201768496\n",
      "AUC-ROC: 0.8049118493475198\n",
      "MCC: 0.47933040196823834\n",
      "Precision: 0.48070248126912457\n",
      "F1 Score: 0.4185360379857741\n",
      "\n",
      "[INFO] Fold 10 / 10 for KNN\n",
      "Accuracy: 0.7372627372627373\n",
      "Sensitivity: 0.429256494168541\n",
      "Specificity: 0.9237963763560213\n",
      "AUC-ROC: 0.8454153778395703\n",
      "MCC: 0.4612002561569212\n",
      "Precision: 0.5760487592405473\n",
      "F1 Score: 0.4492826908620252\n"
     ]
    }
   ],
   "source": [
    "\n",
    "# KNN\n",
    "knn_model = KNeighborsClassifier()\n",
    "evaluate_model(knn_model, 'KNN', data, labels)\n",
    "\n"
   ]
  },
  {
   "cell_type": "code",
   "execution_count": 15,
   "id": "46ce2ad5",
   "metadata": {
    "editable": true,
    "slideshow": {
     "slide_type": ""
    },
    "tags": []
   },
   "outputs": [
    {
     "name": "stdout",
     "output_type": "stream",
     "text": [
      "\n",
      "[INFO] Fold 1 / 10 for Random Forest\n"
     ]
    },
    {
     "name": "stderr",
     "output_type": "stream",
     "text": [
      "/opt/tljh/user/lib/python3.10/site-packages/sklearn/metrics/_classification.py:1471: UndefinedMetricWarning: Precision is ill-defined and being set to 0.0 in labels with no predicted samples. Use `zero_division` parameter to control this behavior.\n",
      "  _warn_prf(average, modifier, msg_start, len(result))\n"
     ]
    },
    {
     "name": "stdout",
     "output_type": "stream",
     "text": [
      "Accuracy: 0.7095808383233533\n",
      "Sensitivity: 0.22439856096572516\n",
      "Specificity: 0.8886042472560017\n",
      "AUC-ROC: 0.8707229341474214\n",
      "MCC: 0.3133956728141519\n",
      "Precision: 0.40036936851902516\n",
      "F1 Score: 0.2445006590897001\n",
      "\n",
      "[INFO] Fold 2 / 10 for Random Forest\n"
     ]
    },
    {
     "name": "stderr",
     "output_type": "stream",
     "text": [
      "/opt/tljh/user/lib/python3.10/site-packages/sklearn/metrics/_classification.py:1471: UndefinedMetricWarning: Precision is ill-defined and being set to 0.0 in labels with no predicted samples. Use `zero_division` parameter to control this behavior.\n",
      "  _warn_prf(average, modifier, msg_start, len(result))\n"
     ]
    },
    {
     "name": "stdout",
     "output_type": "stream",
     "text": [
      "Accuracy: 0.719560878243513\n",
      "Sensitivity: 0.237834271416361\n",
      "Specificity: 0.8907242772556581\n",
      "AUC-ROC: 0.8877936075612111\n",
      "MCC: 0.34498769296967335\n",
      "Precision: 0.49808829962140067\n",
      "F1 Score: 0.2658561439487163\n",
      "\n",
      "[INFO] Fold 3 / 10 for Random Forest\n"
     ]
    },
    {
     "name": "stderr",
     "output_type": "stream",
     "text": [
      "/opt/tljh/user/lib/python3.10/site-packages/sklearn/metrics/_classification.py:1471: UndefinedMetricWarning: Precision is ill-defined and being set to 0.0 in labels with no predicted samples. Use `zero_division` parameter to control this behavior.\n",
      "  _warn_prf(average, modifier, msg_start, len(result))\n"
     ]
    },
    {
     "name": "stdout",
     "output_type": "stream",
     "text": [
      "Accuracy: 0.7095808383233533\n",
      "Sensitivity: 0.22408601886213825\n",
      "Specificity: 0.8867009084329646\n",
      "AUC-ROC: 0.869304528997913\n",
      "MCC: 0.3101164342219893\n",
      "Precision: 0.4556873269744557\n",
      "F1 Score: 0.24822997793260487\n",
      "\n",
      "[INFO] Fold 4 / 10 for Random Forest\n"
     ]
    },
    {
     "name": "stderr",
     "output_type": "stream",
     "text": [
      "/opt/tljh/user/lib/python3.10/site-packages/sklearn/metrics/_classification.py:1471: UndefinedMetricWarning: Precision is ill-defined and being set to 0.0 in labels with no predicted samples. Use `zero_division` parameter to control this behavior.\n",
      "  _warn_prf(average, modifier, msg_start, len(result))\n"
     ]
    },
    {
     "name": "stdout",
     "output_type": "stream",
     "text": [
      "Accuracy: 0.716566866267465\n",
      "Sensitivity: 0.22313666986468944\n",
      "Specificity: 0.8891840993688346\n",
      "AUC-ROC: 0.8684247790963076\n",
      "MCC: 0.3331373565116894\n",
      "Precision: 0.43204848786765465\n",
      "F1 Score: 0.24418828884991775\n",
      "\n",
      "[INFO] Fold 5 / 10 for Random Forest\n"
     ]
    },
    {
     "name": "stderr",
     "output_type": "stream",
     "text": [
      "/opt/tljh/user/lib/python3.10/site-packages/sklearn/metrics/_classification.py:1471: UndefinedMetricWarning: Precision is ill-defined and being set to 0.0 in labels with no predicted samples. Use `zero_division` parameter to control this behavior.\n",
      "  _warn_prf(average, modifier, msg_start, len(result))\n"
     ]
    },
    {
     "name": "stdout",
     "output_type": "stream",
     "text": [
      "Accuracy: 0.7245508982035929\n",
      "Sensitivity: 0.23956192014808902\n",
      "Specificity: 0.890962891871301\n",
      "AUC-ROC: 0.8911941162502889\n",
      "MCC: 0.35705736078846884\n",
      "Precision: 0.564681487599852\n",
      "F1 Score: 0.27116371524499844\n",
      "\n",
      "[INFO] Fold 6 / 10 for Random Forest\n"
     ]
    },
    {
     "name": "stderr",
     "output_type": "stream",
     "text": [
      "/opt/tljh/user/lib/python3.10/site-packages/sklearn/metrics/_classification.py:1471: UndefinedMetricWarning: Precision is ill-defined and being set to 0.0 in labels with no predicted samples. Use `zero_division` parameter to control this behavior.\n",
      "  _warn_prf(average, modifier, msg_start, len(result))\n"
     ]
    },
    {
     "name": "stdout",
     "output_type": "stream",
     "text": [
      "Accuracy: 0.7132867132867133\n",
      "Sensitivity: 0.219862615194699\n",
      "Specificity: 0.8910788457994577\n",
      "AUC-ROC: 0.8704674991929716\n",
      "MCC: 0.3226360757005273\n",
      "Precision: 0.40255228621632017\n",
      "F1 Score: 0.23687552622487168\n",
      "\n",
      "[INFO] Fold 7 / 10 for Random Forest\n"
     ]
    },
    {
     "name": "stderr",
     "output_type": "stream",
     "text": [
      "/opt/tljh/user/lib/python3.10/site-packages/sklearn/metrics/_classification.py:1471: UndefinedMetricWarning: Precision is ill-defined and being set to 0.0 in labels with no predicted samples. Use `zero_division` parameter to control this behavior.\n",
      "  _warn_prf(average, modifier, msg_start, len(result))\n"
     ]
    },
    {
     "name": "stdout",
     "output_type": "stream",
     "text": [
      "Accuracy: 0.7062937062937062\n",
      "Sensitivity: 0.20804543350348556\n",
      "Specificity: 0.8850592977061984\n",
      "AUC-ROC: 0.8732093857813431\n",
      "MCC: 0.2927643024451977\n",
      "Precision: 0.382235434150095\n",
      "F1 Score: 0.2226026578587792\n",
      "\n",
      "[INFO] Fold 8 / 10 for Random Forest\n"
     ]
    },
    {
     "name": "stderr",
     "output_type": "stream",
     "text": [
      "/opt/tljh/user/lib/python3.10/site-packages/sklearn/metrics/_classification.py:1471: UndefinedMetricWarning: Precision is ill-defined and being set to 0.0 in labels with no predicted samples. Use `zero_division` parameter to control this behavior.\n",
      "  _warn_prf(average, modifier, msg_start, len(result))\n"
     ]
    },
    {
     "name": "stdout",
     "output_type": "stream",
     "text": [
      "Accuracy: 0.7072927072927073\n",
      "Sensitivity: 0.219212900047037\n",
      "Specificity: 0.8860147451151731\n",
      "AUC-ROC: 0.8949151534095507\n",
      "MCC: 0.2987015247408423\n",
      "Precision: 0.4355058192510593\n",
      "F1 Score: 0.2396465730926011\n",
      "\n",
      "[INFO] Fold 9 / 10 for Random Forest\n"
     ]
    },
    {
     "name": "stderr",
     "output_type": "stream",
     "text": [
      "/opt/tljh/user/lib/python3.10/site-packages/sklearn/metrics/_classification.py:1471: UndefinedMetricWarning: Precision is ill-defined and being set to 0.0 in labels with no predicted samples. Use `zero_division` parameter to control this behavior.\n",
      "  _warn_prf(average, modifier, msg_start, len(result))\n"
     ]
    },
    {
     "name": "stdout",
     "output_type": "stream",
     "text": [
      "Accuracy: 0.7092907092907093\n",
      "Sensitivity: 0.21491220012796677\n",
      "Specificity: 0.8860302041039742\n",
      "AUC-ROC: 0.8640657375146049\n",
      "MCC: 0.3033735507268436\n",
      "Precision: 0.5051749000128456\n",
      "F1 Score: 0.23440654345064946\n",
      "\n",
      "[INFO] Fold 10 / 10 for Random Forest\n"
     ]
    },
    {
     "name": "stderr",
     "output_type": "stream",
     "text": [
      "/opt/tljh/user/lib/python3.10/site-packages/sklearn/metrics/_classification.py:1471: UndefinedMetricWarning: Precision is ill-defined and being set to 0.0 in labels with no predicted samples. Use `zero_division` parameter to control this behavior.\n",
      "  _warn_prf(average, modifier, msg_start, len(result))\n"
     ]
    },
    {
     "name": "stdout",
     "output_type": "stream",
     "text": [
      "Accuracy: 0.7122877122877123\n",
      "Sensitivity: 0.22666081649290604\n",
      "Specificity: 0.8876637929261489\n",
      "AUC-ROC: 0.8725874279898015\n",
      "MCC: 0.31750195984964885\n",
      "Precision: 0.4728740719128645\n",
      "F1 Score: 0.2528587006612664\n"
     ]
    }
   ],
   "source": [
    "# Random Forest\n",
    "rf_model = RandomForestClassifier(random_state=0, n_jobs=-1)\n",
    "evaluate_model(rf_model, 'Random Forest', data, labels)\n"
   ]
  },
  {
   "cell_type": "code",
   "execution_count": null,
   "id": "aaa8cf7c",
   "metadata": {},
   "outputs": [
    {
     "name": "stdout",
     "output_type": "stream",
     "text": [
      "\n",
      "[INFO] Fold 1 / 10 for LGBM\n",
      "[LightGBM] [Info] Total Bins 16605785\n",
      "[LightGBM] [Info] Number of data points in the train set: 9013, number of used features: 99318\n",
      "[LightGBM] [Info] Start training from score -3.422843\n",
      "[LightGBM] [Info] Start training from score -2.970858\n",
      "[LightGBM] [Info] Start training from score -2.209729\n",
      "[LightGBM] [Info] Start training from score -4.471694\n",
      "[LightGBM] [Info] Start training from score -2.196670\n",
      "[LightGBM] [Info] Start training from score -0.401092\n",
      "[LightGBM] [Info] Start training from score -4.254393\n",
      "[LightGBM] [Warning] No further splits with positive gain, best gain: -inf\n",
      "Accuracy: 0.7954091816367266\n",
      "Sensitivity: 0.45346113768288604\n",
      "Specificity: 0.9357459693141991\n",
      "AUC-ROC: 0.9401777284158493\n",
      "MCC: 0.5763068652513839\n",
      "Precision: 0.7753341494007173\n",
      "F1 Score: 0.517165654771803\n",
      "\n",
      "[INFO] Fold 2 / 10 for LGBM\n",
      "[LightGBM] [Info] Total Bins 16590816\n",
      "[LightGBM] [Info] Number of data points in the train set: 9013, number of used features: 99331\n",
      "[LightGBM] [Info] Start training from score -3.422843\n",
      "[LightGBM] [Info] Start training from score -2.970858\n",
      "[LightGBM] [Info] Start training from score -2.209729\n",
      "[LightGBM] [Info] Start training from score -4.471694\n",
      "[LightGBM] [Info] Start training from score -2.196670\n",
      "[LightGBM] [Info] Start training from score -0.401092\n",
      "[LightGBM] [Info] Start training from score -4.254393\n",
      "[LightGBM] [Warning] No further splits with positive gain, best gain: -inf\n",
      "Accuracy: 0.7904191616766467\n",
      "Sensitivity: 0.43093290715891996\n",
      "Specificity: 0.9298042554674942\n",
      "AUC-ROC: 0.9356263085855098\n",
      "MCC: 0.5580685916412368\n",
      "Precision: 0.749585982901141\n",
      "F1 Score: 0.4975097595349232\n",
      "\n",
      "[INFO] Fold 3 / 10 for LGBM\n",
      "[LightGBM] [Info] Total Bins 16609078\n",
      "[LightGBM] [Info] Number of data points in the train set: 9013, number of used features: 99350\n",
      "[LightGBM] [Info] Start training from score -3.422843\n",
      "[LightGBM] [Info] Start training from score -2.970858\n",
      "[LightGBM] [Info] Start training from score -2.209729\n",
      "[LightGBM] [Info] Start training from score -4.471694\n",
      "[LightGBM] [Info] Start training from score -2.196670\n",
      "[LightGBM] [Info] Start training from score -0.401092\n",
      "[LightGBM] [Info] Start training from score -4.254393\n",
      "[LightGBM] [Warning] No further splits with positive gain, best gain: -inf\n",
      "[LightGBM] [Warning] No further splits with positive gain, best gain: -inf\n",
      "[LightGBM] [Warning] No further splits with positive gain, best gain: -inf\n"
     ]
    },
    {
     "name": "stderr",
     "output_type": "stream",
     "text": [
      "/opt/tljh/user/lib/python3.10/site-packages/sklearn/metrics/_classification.py:1471: UndefinedMetricWarning: Precision is ill-defined and being set to 0.0 in labels with no predicted samples. Use `zero_division` parameter to control this behavior.\n",
      "  _warn_prf(average, modifier, msg_start, len(result))\n"
     ]
    },
    {
     "name": "stdout",
     "output_type": "stream",
     "text": [
      "Accuracy: 0.7674650698602794\n",
      "Sensitivity: 0.36270986644120967\n",
      "Specificity: 0.9244238937934895\n",
      "AUC-ROC: 0.9221463203851396\n",
      "MCC: 0.503842778355078\n",
      "Precision: 0.48778139899812906\n",
      "F1 Score: 0.4029652870302351\n",
      "\n",
      "[INFO] Fold 4 / 10 for LGBM\n",
      "[LightGBM] [Info] Total Bins 16596244\n",
      "[LightGBM] [Info] Number of data points in the train set: 9013, number of used features: 99319\n",
      "[LightGBM] [Info] Start training from score -3.422843\n",
      "[LightGBM] [Info] Start training from score -2.968696\n",
      "[LightGBM] [Info] Start training from score -2.209729\n",
      "[LightGBM] [Info] Start training from score -4.471694\n",
      "[LightGBM] [Info] Start training from score -2.197668\n",
      "[LightGBM] [Info] Start training from score -0.401092\n",
      "[LightGBM] [Info] Start training from score -4.254393\n",
      "[LightGBM] [Warning] No further splits with positive gain, best gain: -inf\n",
      "[LightGBM] [Warning] No further splits with positive gain, best gain: -inf\n",
      "[LightGBM] [Warning] No further splits with positive gain, best gain: -inf\n"
     ]
    },
    {
     "name": "stderr",
     "output_type": "stream",
     "text": [
      "/opt/tljh/user/lib/python3.10/site-packages/sklearn/metrics/_classification.py:1471: UndefinedMetricWarning: Precision is ill-defined and being set to 0.0 in labels with no predicted samples. Use `zero_division` parameter to control this behavior.\n",
      "  _warn_prf(average, modifier, msg_start, len(result))\n"
     ]
    },
    {
     "name": "stdout",
     "output_type": "stream",
     "text": [
      "Accuracy: 0.7924151696606786\n",
      "Sensitivity: 0.42851503559361326\n",
      "Specificity: 0.931145551464496\n",
      "AUC-ROC: 0.9419628891329532\n",
      "MCC: 0.5629262308934534\n",
      "Precision: 0.6495717200150697\n",
      "F1 Score: 0.4918486777932363\n",
      "\n",
      "[INFO] Fold 5 / 10 for LGBM\n",
      "[LightGBM] [Info] Total Bins 16614269\n",
      "[LightGBM] [Info] Number of data points in the train set: 9013, number of used features: 99348\n",
      "[LightGBM] [Info] Start training from score -3.422843\n",
      "[LightGBM] [Info] Start training from score -2.968696\n",
      "[LightGBM] [Info] Start training from score -2.209729\n",
      "[LightGBM] [Info] Start training from score -4.462032\n",
      "[LightGBM] [Info] Start training from score -2.197668\n",
      "[LightGBM] [Info] Start training from score -0.401258\n",
      "[LightGBM] [Info] Start training from score -4.254393\n"
     ]
    },
    {
     "name": "stderr",
     "output_type": "stream",
     "text": [
      "/opt/tljh/user/lib/python3.10/site-packages/sklearn/metrics/_classification.py:1471: UndefinedMetricWarning: Precision is ill-defined and being set to 0.0 in labels with no predicted samples. Use `zero_division` parameter to control this behavior.\n",
      "  _warn_prf(average, modifier, msg_start, len(result))\n"
     ]
    },
    {
     "name": "stdout",
     "output_type": "stream",
     "text": [
      "Accuracy: 0.7964071856287425\n",
      "Sensitivity: 0.42205975534774265\n",
      "Specificity: 0.9332566038097976\n",
      "AUC-ROC: 0.9401168164724226\n",
      "MCC: 0.571295662795938\n",
      "Precision: 0.6495886572932609\n",
      "F1 Score: 0.48307135835256404\n",
      "\n",
      "[INFO] Fold 6 / 10 for LGBM\n",
      "[LightGBM] [Info] Total Bins 16605900\n",
      "[LightGBM] [Info] Number of data points in the train set: 9014, number of used features: 99335\n",
      "[LightGBM] [Info] Start training from score -3.422954\n",
      "[LightGBM] [Info] Start training from score -2.968807\n",
      "[LightGBM] [Info] Start training from score -2.208829\n",
      "[LightGBM] [Info] Start training from score -4.462143\n",
      "[LightGBM] [Info] Start training from score -2.197779\n",
      "[LightGBM] [Info] Start training from score -0.401369\n",
      "[LightGBM] [Info] Start training from score -4.254504\n",
      "[LightGBM] [Warning] No further splits with positive gain, best gain: -inf\n",
      "[LightGBM] [Warning] No further splits with positive gain, best gain: -inf\n"
     ]
    },
    {
     "name": "stderr",
     "output_type": "stream",
     "text": [
      "/opt/tljh/user/lib/python3.10/site-packages/sklearn/metrics/_classification.py:1471: UndefinedMetricWarning: Precision is ill-defined and being set to 0.0 in labels with no predicted samples. Use `zero_division` parameter to control this behavior.\n",
      "  _warn_prf(average, modifier, msg_start, len(result))\n"
     ]
    },
    {
     "name": "stdout",
     "output_type": "stream",
     "text": [
      "Accuracy: 0.7892107892107892\n",
      "Sensitivity: 0.41742123331783937\n",
      "Specificity: 0.9317545767596073\n",
      "AUC-ROC: 0.9336000952282019\n",
      "MCC: 0.5553622209480056\n",
      "Precision: 0.5968215664644235\n",
      "F1 Score: 0.4714271907032538\n",
      "\n",
      "[INFO] Fold 7 / 10 for LGBM\n",
      "[LightGBM] [Info] Total Bins 16636941\n",
      "[LightGBM] [Info] Number of data points in the train set: 9014, number of used features: 99381\n",
      "[LightGBM] [Info] Start training from score -3.422954\n",
      "[LightGBM] [Info] Start training from score -2.968807\n",
      "[LightGBM] [Info] Start training from score -2.209840\n",
      "[LightGBM] [Info] Start training from score -4.462143\n",
      "[LightGBM] [Info] Start training from score -2.196781\n",
      "[LightGBM] [Info] Start training from score -0.401369\n",
      "[LightGBM] [Info] Start training from score -4.254504\n"
     ]
    }
   ],
   "source": [
    "import lightgbm\n",
    "# LGBM\n",
    "lgb_model = lightgbm.LGBMClassifier(random_state=0, n_jobs = -1, force_col_wise= True)\n",
    "evaluate_model(lgb_model, 'LGBM', data, labels)"
   ]
  },
  {
   "cell_type": "code",
   "execution_count": null,
   "id": "12d62fef",
   "metadata": {},
   "outputs": [],
   "source": [
    "# Save results to a CSV file\n",
    "results_df.to_csv('DS7_ResNet_LGBM.csv', index=False)"
   ]
  },
  {
   "cell_type": "code",
   "execution_count": null,
   "id": "53e08610-4212-476c-8792-3406ab2bbe44",
   "metadata": {
    "editable": true,
    "slideshow": {
     "slide_type": ""
    },
    "tags": []
   },
   "outputs": [],
   "source": [
    "results_df"
   ]
  },
  {
   "cell_type": "code",
   "execution_count": null,
   "id": "5dfc3aa5-9f81-477b-93c3-f9f1aaba4ef2",
   "metadata": {
    "editable": true,
    "slideshow": {
     "slide_type": ""
    },
    "tags": []
   },
   "outputs": [],
   "source": []
  }
 ],
 "metadata": {
  "kernelspec": {
   "display_name": "Python 3 (ipykernel)",
   "language": "python",
   "name": "python3"
  },
  "language_info": {
   "codemirror_mode": {
    "name": "ipython",
    "version": 3
   },
   "file_extension": ".py",
   "mimetype": "text/x-python",
   "name": "python",
   "nbconvert_exporter": "python",
   "pygments_lexer": "ipython3",
   "version": "3.10.10"
  }
 },
 "nbformat": 4,
 "nbformat_minor": 5
}
