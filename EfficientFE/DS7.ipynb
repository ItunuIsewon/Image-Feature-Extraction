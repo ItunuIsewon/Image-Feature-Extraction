{
 "cells": [
  {
   "cell_type": "code",
   "execution_count": 1,
   "id": "8156597b",
   "metadata": {},
   "outputs": [
    {
     "name": "stderr",
     "output_type": "stream",
     "text": [
      "2024-04-06 03:07:13.883556: E external/local_xla/xla/stream_executor/cuda/cuda_dnn.cc:9261] Unable to register cuDNN factory: Attempting to register factory for plugin cuDNN when one has already been registered\n",
      "2024-04-06 03:07:13.883623: E external/local_xla/xla/stream_executor/cuda/cuda_fft.cc:607] Unable to register cuFFT factory: Attempting to register factory for plugin cuFFT when one has already been registered\n",
      "2024-04-06 03:07:13.887248: E external/local_xla/xla/stream_executor/cuda/cuda_blas.cc:1515] Unable to register cuBLAS factory: Attempting to register factory for plugin cuBLAS when one has already been registered\n",
      "2024-04-06 03:07:13.908494: I tensorflow/core/platform/cpu_feature_guard.cc:182] This TensorFlow binary is optimized to use available CPU instructions in performance-critical operations.\n",
      "To enable the following instructions: AVX2 AVX512F AVX512_VNNI FMA, in other operations, rebuild TensorFlow with the appropriate compiler flags.\n",
      "2024-04-06 03:07:16.646427: W tensorflow/compiler/tf2tensorrt/utils/py_utils.cc:38] TF-TRT Warning: Could not find TensorRT\n"
     ]
    }
   ],
   "source": [
    "#import required libraries\n",
    "import os\n",
    "os.environ['TF_ENABLE_ONEDNN_OPTS'] = '0'\n",
    "os.environ['TF_DETERMINISTIC_OPS'] = '1'\n",
    "import cv2\n",
    "import numpy as np\n",
    "from imutils import paths\n",
    "from sklearn.preprocessing import LabelEncoder\n",
    "from sklearn.model_selection import StratifiedKFold, train_test_split\n",
    "from sklearn.svm import SVC\n",
    "from sklearn.neighbors import KNeighborsClassifier\n",
    "from sklearn.ensemble import RandomForestClassifier\n",
    "from sklearn.ensemble import AdaBoostClassifier\n",
    "from sklearn.metrics import classification_report, roc_auc_score, matthews_corrcoef, precision_score, f1_score, recall_score\n",
    "from xgboost import XGBClassifier\n",
    "from sklearn.naive_bayes import GaussianNB\n",
    "from tensorflow.keras.models import Sequential\n",
    "from tensorflow.keras.layers import Conv2D, MaxPooling2D, Flatten, Dense, SimpleRNN,Dropout\n",
    "from tensorflow.keras.utils import to_categorical\n",
    "import pandas as pd\n",
    "import time\n",
    "import psutil\n",
    "import tensorflow as tf\n",
    "from tensorflow.keras.optimizers import Adam\n",
    "from tensorflow.keras.callbacks import EarlyStopping\n",
    "import tensorflow as tf\n",
    "from tensorflow.keras.applications import VGG16\n",
    "from tensorflow.keras.applications import VGG19\n",
    "from tensorflow.keras.preprocessing import image\n",
    "from tensorflow.keras.applications.vgg16 import preprocess_input, decode_predictions\n",
    "from tensorflow.keras.models import Sequential\n",
    "from tensorflow.keras.layers import Dense, Dropout, Flatten\n",
    "import keras\n",
    "\n",
    "tf.keras.utils.set_random_seed(0)\n",
    "tf.config.experimental.enable_op_determinism()"
   ]
  },
  {
   "cell_type": "code",
   "execution_count": 2,
   "id": "0a9bc0f8-8892-44d1-9f4b-d0c89a38ff2c",
   "metadata": {},
   "outputs": [],
   "source": [
    "#!pip install tensorflow-tensorrt\n"
   ]
  },
  {
   "cell_type": "code",
   "execution_count": 3,
   "id": "c08f9a20",
   "metadata": {},
   "outputs": [],
   "source": [
    "#!pip install opencv-python\n",
    "#!pip install imutils\n",
    "#!pip install scikit-learn\n",
    "#!pip install xgboost\n"
   ]
  },
  {
   "cell_type": "code",
   "execution_count": 4,
   "id": "8016367c",
   "metadata": {},
   "outputs": [],
   "source": [
    "#Class to load the dataset images from device\n",
    "\n",
    "class SimpleDatasetLoader:\n",
    "    # Method: Constructor\n",
    "    def __init__(self, preprocessors=None):\n",
    "        \"\"\"\n",
    "        :param preprocessors: List of image preprocessors\n",
    "        \"\"\"\n",
    "        self.preprocessors = preprocessors\n",
    "\n",
    "        if self.preprocessors is None:\n",
    "            self.preprocessors = []\n",
    "\n",
    "    # Method: Used to load a list of images for pre-processing\n",
    "    def load(self, image_paths, verbose=-1):\n",
    "        \"\"\"\n",
    "        :param image_paths: List of image paths\n",
    "        :param verbose: Parameter for printing information to console\n",
    "        :return: Tuple of data and labels\n",
    "        \"\"\"\n",
    "        data, labels = [], []\n",
    "\n",
    "        for i, image_path in enumerate(image_paths):\n",
    "            image = cv2.imread(image_path)\n",
    "            label = image_path.split(os.path.sep)[-2]\n",
    "\n",
    "            if self.preprocessors is not None:\n",
    "                for p in self.preprocessors:\n",
    "                    image = p.preprocess(image)\n",
    "\n",
    "            data.append(image)\n",
    "            labels.append(label)\n",
    "\n",
    "            if verbose > 0 and i > 0 and (i+1) % verbose == 0:\n",
    "                print('[INFO]: Processed {}/{}'.format(i+1, len(image_paths)))\n",
    "\n",
    "        return (np.array(data), np.array(labels))"
   ]
  },
  {
   "cell_type": "code",
   "execution_count": 5,
   "id": "6db2af8e",
   "metadata": {},
   "outputs": [],
   "source": [
    "#Class Preprocessror \n",
    "class SimplePreprocessor:\n",
    "    # Method: Constructor\n",
    "    def __init__(self, width, height, interpolation=cv2.INTER_AREA):\n",
    "        \"\"\"\n",
    "        :param width: Image width\n",
    "        :param height: Image height\n",
    "        :param interpolation: Interpolation algorithm\n",
    "        \"\"\"\n",
    "        self.width = width\n",
    "        self.height = height\n",
    "        self.interpolation = interpolation\n",
    "\n",
    "    # Method: Used to resize the image to a fixed size (ignoring the aspect ratio)\n",
    "    def preprocess(self, image):\n",
    "        \"\"\"\n",
    "        :param image: Image\n",
    "        :return: Re-sized image\n",
    "        \"\"\"\n",
    "        return cv2.resize(image, (self.width, self.height), interpolation=self.interpolation)"
   ]
  },
  {
   "cell_type": "code",
   "execution_count": 6,
   "id": "11731516",
   "metadata": {},
   "outputs": [],
   "source": [
    "from imutils import paths\n",
    "from sklearn.preprocessing import LabelEncoder\n",
    "from sklearn.model_selection import train_test_split\n",
    "from sklearn.metrics import classification_report\n",
    "from __main__ import SimplePreprocessor\n",
    "from __main__ import SimpleDatasetLoader"
   ]
  },
  {
   "cell_type": "code",
   "execution_count": 7,
   "id": "253976fb",
   "metadata": {},
   "outputs": [
    {
     "name": "stdout",
     "output_type": "stream",
     "text": [
      "[INFO]: Images loading....\n",
      "[INFO]: Processed 1000/10015\n",
      "[INFO]: Processed 2000/10015\n",
      "[INFO]: Processed 3000/10015\n",
      "[INFO]: Processed 4000/10015\n",
      "[INFO]: Processed 5000/10015\n",
      "[INFO]: Processed 6000/10015\n",
      "[INFO]: Processed 7000/10015\n",
      "[INFO]: Processed 8000/10015\n",
      "[INFO]: Processed 9000/10015\n",
      "[INFO]: Processed 10000/10015\n",
      "(10015, 224, 224, 3)\n",
      "(10015,)\n"
     ]
    }
   ],
   "source": [
    "# Function to load and preprocess data using SimpleDatasetLoader\n",
    "def load_and_preprocess_data(image_paths, target_size):\n",
    "    sp = SimplePreprocessor(target_size[0], target_size[1])\n",
    "    sdl = SimpleDatasetLoader(preprocessors=[sp])\n",
    "    data, labels = sdl.load(image_paths, verbose=1000)\n",
    "\n",
    "    print(data.shape)\n",
    "    print(labels.shape)\n",
    "\n",
    "    # Convert labels to one-hot encoding\n",
    "    le = LabelEncoder()\n",
    "    labels = le.fit_transform(labels)\n",
    "    #labels = to_categorical(labels)\n",
    "\n",
    "    return data, labels\n",
    "\n",
    "\n",
    "\n",
    "# Get list of image paths\n",
    "image_paths = list(paths.list_images(\"../HAM10000/\"))\n",
    "\n",
    "# Define target size for images\n",
    "target_size = (224, 224)  # Change this to your desired size\n",
    "\n",
    "# Load and preprocess data\n",
    "print('[INFO]: Images loading....')\n",
    "data, labels = load_and_preprocess_data(image_paths, target_size)"
   ]
  },
  {
   "cell_type": "code",
   "execution_count": 8,
   "id": "5b8bade7-be6f-4028-8313-11ad6e920fb2",
   "metadata": {},
   "outputs": [
    {
     "name": "stderr",
     "output_type": "stream",
     "text": [
      "2024-04-06 03:12:11.197585: I tensorflow/core/common_runtime/gpu/gpu_device.cc:1929] Created device /job:localhost/replica:0/task:0/device:GPU:0 with 38380 MB memory:  -> device: 0, name: NVIDIA A100-SXM4-40GB, pci bus id: 0000:65:00.0, compute capability: 8.0\n"
     ]
    },
    {
     "name": "stdout",
     "output_type": "stream",
     "text": [
      "313/313 [==============================] - 360s 1s/step\n",
      "(10015, 62720)\n"
     ]
    }
   ],
   "source": [
    "from tensorflow.keras.applications import  ResNet50, EfficientNetB0\n",
    "from tensorflow.keras.models import Model\n",
    "with tf.device('/CPU:0'):\n",
    "    base_model = EfficientNetB0(weights='imagenet', include_top=False, input_shape=(target_size[0], target_size[1], 3))\n",
    "    model = Model(inputs=base_model.input, outputs=base_model.output)\n",
    "    features = model.predict(data, batch_size=32, verbose=1)\n",
    "\n",
    "# Flatten the features\n",
    "features_flatten = features.reshape(features.shape[0], -1)\n",
    "    \n",
    "print(features_flatten.shape)"
   ]
  },
  {
   "cell_type": "code",
   "execution_count": 9,
   "id": "b28dc9e4-da07-475a-8f3b-6704bc2fc246",
   "metadata": {},
   "outputs": [],
   "source": [
    "data = features_flatten"
   ]
  },
  {
   "cell_type": "code",
   "execution_count": 10,
   "id": "52246a66-a31d-4db3-a230-74cf9adad531",
   "metadata": {},
   "outputs": [],
   "source": [
    "num_classes = len(np.unique(labels))"
   ]
  },
  {
   "cell_type": "code",
   "execution_count": 11,
   "id": "eea8357b-fc36-46ea-a4d9-5eb4c0dda9fc",
   "metadata": {
    "editable": true,
    "slideshow": {
     "slide_type": ""
    },
    "tags": []
   },
   "outputs": [],
   "source": [
    "import gc\n",
    "import os\n",
    "\n",
    "def calculate_sensitivity_specificity(y_true, y_pred, class_label):\n",
    "    # Create a binary confusion matrix for the specified class\n",
    "    true_positive = sum((y_true == class_label) & (y_pred == class_label))\n",
    "    false_positive = sum((y_true != class_label) & (y_pred == class_label))\n",
    "    true_negative = sum((y_true != class_label) & (y_pred != class_label))\n",
    "    false_negative = sum((y_true == class_label) & (y_pred != class_label))\n",
    "\n",
    "    # Calculate sensitivity and specificity\n",
    "    sensitivity = true_positive / (true_positive + false_negative) if (true_positive + false_negative) > 0 else 0\n",
    "    specificity = true_negative / (true_negative + false_positive) if (true_negative + false_positive) > 0 else 0\n",
    "\n",
    "    return sensitivity, specificity\n",
    "# Initialize a DataFrame to store results\n",
    "results_df = pd.DataFrame(columns=['Model', 'Average Accuracy', 'Average Sensitivity', 'Average Specificity',\n",
    "                                   'Average AUC-ROC', 'Average MCC', 'Average Precision', 'Average F1 Score',\n",
    "                                   'Memory Used (MB)', 'Time (s)'])\n",
    "\n",
    "# Function to evaluate a model\n",
    "def evaluate_model(model, name, data, labels):\n",
    "    accuracy_list = []\n",
    "    sensitivity_list = []\n",
    "    specificity_list = []\n",
    "    auc_roc_list = []\n",
    "    mcc_list = []\n",
    "    precision_list = []\n",
    "    f1_list = []\n",
    "    time_start = time.time()\n",
    "    memory_start = psutil.Process(os.getpid()).memory_info().rss / 1024 ** 2\n",
    "\n",
    "    skf = StratifiedKFold(n_splits=10, shuffle=True, random_state=0)\n",
    "    if name == \"VGG16\" or name == \"EfficientNetB0\" or name == \"ResNet50\":\n",
    "        with tf.device('/GPU:0'):\n",
    "            tf.random.set_seed(0)\n",
    "            for fold, (train_index, test_index) in enumerate(skf.split(data, labels)):\n",
    "                print(f'\\n[INFO] Fold {fold + 1} / 10 for {name}')\n",
    "\n",
    "                X_train, X_test = data[train_index], data[test_index]\n",
    "                y_train, y_test = to_categorical(labels[train_index]), to_categorical(labels[test_index])\n",
    "\n",
    "                # Adding early stopping to prevent overfitting\n",
    "                early_stopping = EarlyStopping(monitor='loss', patience=3, restore_best_weights=True)\n",
    "                keras.utils.set_random_seed(0)\n",
    "                np.random.seed(0)\n",
    "                tf.random.set_seed(0)\n",
    "                #tf.config.run_functions_eagerly(True)\n",
    "                tf.data.experimental.enable_debug_mode()\n",
    "                # Train the model\n",
    "                # Example of using tf.data.Dataset\n",
    "                #train_dataset = tf.data.Dataset.from_tensor_slices((X_train, y_train))\n",
    "                #train_dataset = train_dataset.shuffle(buffer_size=len(X_train)).batch(64)\n",
    "\n",
    "                train_dataset = tf.data.Dataset.from_tensor_slices((X_train, y_train))\n",
    "                train_dataset = train_dataset.shuffle(buffer_size=len(X_train)).batch(64)\n",
    "\n",
    "                model.fit(train_dataset, epochs=20, callbacks=[early_stopping])\n",
    "\n",
    "\n",
    "                # Evaluate the model\n",
    "                predictions = model.predict(X_test)\n",
    "                y_pred = np.argmax(predictions, axis=1)\n",
    "                y_test_encoded = np.argmax(y_test, axis=1)\n",
    "\n",
    "                # print(y_test)\n",
    "                # print(y_test_encoded)\n",
    "                # print(y_pred)\n",
    "                # print(predictions)\n",
    "                # Calculate evaluation metrics for the current fold\n",
    "                # Calculate evaluation metrics for the current fold\n",
    "                accuracy = np.mean(y_pred == y_test_encoded)\n",
    "                sensitivities = []\n",
    "                specificities = []\n",
    "                for class_label in range(num_classes):\n",
    "                    sen, spe = calculate_sensitivity_specificity(y_test_encoded, y_pred, class_label)\n",
    "                    sensitivities.append(sen)\n",
    "                    specificities.append(spe)\n",
    "                sensitivity = sum(sensitivities) / num_classes\n",
    "                specificity = sum(specificities) / num_classes\n",
    "                auc_roc = roc_auc_score(y_test, predictions,multi_class='ovr')\n",
    "                mcc = matthews_corrcoef(y_test_encoded, y_pred)\n",
    "                precision = precision_score(y_test_encoded, y_pred, average='macro')\n",
    "                f1 = f1_score(y_test_encoded, y_pred, average='macro')\n",
    "                # Append metrics to lists\n",
    "                accuracy_list.append(accuracy)\n",
    "                sensitivity_list.append(sensitivity)\n",
    "                specificity_list.append(specificity)\n",
    "                auc_roc_list.append(auc_roc)\n",
    "                mcc_list.append(mcc)\n",
    "                precision_list.append(precision)\n",
    "                f1_list.append(f1)\n",
    "\n",
    "                # Print metrics for the current fold\n",
    "                print(f\"Accuracy: {accuracy}\")\n",
    "                print(f\"Sensitivity: {sensitivity}\")\n",
    "                print(f\"Specificity: {specificity}\")\n",
    "                print(f\"AUC-ROC: {auc_roc}\")\n",
    "                print(f\"MCC: {mcc}\")\n",
    "                print(f\"Precision: {precision}\")\n",
    "                print(f\"F1 Score: {f1}\")\n",
    "                gc.collect()\n",
    "\n",
    "            # Calculate average metrics\n",
    "            average_accuracy = np.mean(accuracy_list)\n",
    "            average_sensitivity = np.mean(sensitivity_list)\n",
    "            average_specificity = np.mean(specificity_list)\n",
    "            average_auc_roc = np.mean(auc_roc_list)\n",
    "            average_mcc = np.mean(mcc_list)\n",
    "            average_precision = np.mean(precision_list)\n",
    "            average_f1 = np.mean(f1_list)\n",
    "\n",
    "            time_end = time.time()\n",
    "            memory_end = psutil.Process(os.getpid()).memory_info().rss / 1024 ** 2\n",
    "            del X_train, X_test, y_train, y_test\n",
    "            gc.collect()\n",
    "            tf.keras.backend.clear_session()\n",
    "    else:\n",
    "        for fold, (train_index, test_index) in enumerate(skf.split(data, labels)):\n",
    "            print(f'\\n[INFO] Fold {fold + 1} / 10 for {name}')\n",
    "\n",
    "            X_train, X_test = data[train_index], data[test_index]\n",
    "            y_train, y_test = labels[train_index], labels[test_index]\n",
    "\n",
    "            # Train the model\n",
    "            model.fit(X_train, y_train)\n",
    "\n",
    "            # Evaluate the model\n",
    "            predictions = model.predict(X_test)\n",
    "            y_prob = model.predict_proba(X_test)\n",
    "            y_pred = predictions\n",
    "            y_test_encoded = y_test\n",
    "\n",
    "            # Calculate evaluation metrics for the current fold\n",
    "            accuracy = np.mean(y_pred == y_test_encoded)\n",
    "            sensitivities = []\n",
    "            specificities = []\n",
    "            for class_label in range(num_classes):\n",
    "                sen, spe = calculate_sensitivity_specificity(y_test, y_pred, class_label)\n",
    "                sensitivities.append(sen)\n",
    "                specificities.append(spe)\n",
    "            sensitivity = sum(sensitivities) / num_classes\n",
    "            specificity = sum(specificities) / num_classes\n",
    "            auc_roc = roc_auc_score(y_test, y_prob,multi_class='ovr')\n",
    "            mcc = matthews_corrcoef(y_test, y_pred)\n",
    "            precision = precision_score(y_test, y_pred, average='macro')\n",
    "            f1 = f1_score(y_test, y_pred, average='macro')\n",
    "            # Append metrics to lists\n",
    "            accuracy_list.append(accuracy)\n",
    "            sensitivity_list.append(sensitivity)\n",
    "            specificity_list.append(specificity)\n",
    "            auc_roc_list.append(auc_roc)\n",
    "            mcc_list.append(mcc)\n",
    "            precision_list.append(precision)\n",
    "            f1_list.append(f1)\n",
    "\n",
    "            # Print metrics for the current fold\n",
    "            print(f\"Accuracy: {accuracy}\")\n",
    "            print(f\"Sensitivity: {sensitivity}\")\n",
    "            print(f\"Specificity: {specificity}\")\n",
    "            print(f\"AUC-ROC: {auc_roc}\")\n",
    "            print(f\"MCC: {mcc}\")\n",
    "            print(f\"Precision: {precision}\")\n",
    "            print(f\"F1 Score: {f1}\")\n",
    "            gc.collect()\n",
    "\n",
    "        # Calculate average metrics\n",
    "        average_accuracy = np.mean(accuracy_list)\n",
    "        average_sensitivity = np.mean(sensitivity_list)\n",
    "        average_specificity = np.mean(specificity_list)\n",
    "        average_auc_roc = np.mean(auc_roc_list)\n",
    "        average_mcc = np.mean(mcc_list)\n",
    "        average_precision = np.mean(precision_list)\n",
    "        average_f1 = np.mean(f1_list)\n",
    "\n",
    "        time_end = time.time()\n",
    "        memory_end = psutil.Process(os.getpid()).memory_info().rss / 1024 ** 2\n",
    "        \n",
    "\n",
    "    # Append results to DataFrame\n",
    "    results_df.loc[len(results_df)] = [name, average_accuracy, average_sensitivity, average_specificity,\n",
    "                                       average_auc_roc, average_mcc, average_precision, average_f1,\n",
    "                                       memory_end - memory_start, time_end - time_start]\n",
    "\n",
    "\n",
    "\n"
   ]
  },
  {
   "cell_type": "code",
   "execution_count": 12,
   "id": "743d006a",
   "metadata": {
    "editable": true,
    "slideshow": {
     "slide_type": ""
    },
    "tags": []
   },
   "outputs": [
    {
     "name": "stdout",
     "output_type": "stream",
     "text": [
      "\n",
      "[INFO] Fold 1 / 10 for LR\n"
     ]
    },
    {
     "name": "stderr",
     "output_type": "stream",
     "text": [
      "/opt/tljh/user/lib/python3.10/site-packages/sklearn/linear_model/_logistic.py:460: ConvergenceWarning: lbfgs failed to converge (status=1):\n",
      "STOP: TOTAL NO. of ITERATIONS REACHED LIMIT.\n",
      "\n",
      "Increase the number of iterations (max_iter) or scale the data as shown in:\n",
      "    https://scikit-learn.org/stable/modules/preprocessing.html\n",
      "Please also refer to the documentation for alternative solver options:\n",
      "    https://scikit-learn.org/stable/modules/linear_model.html#logistic-regression\n",
      "  n_iter_i = _check_optimize_result(\n"
     ]
    },
    {
     "name": "stdout",
     "output_type": "stream",
     "text": [
      "Accuracy: 0.8093812375249501\n",
      "Sensitivity: 0.6303198866098654\n",
      "Specificity: 0.9516253098866516\n",
      "AUC-ROC: 0.9477169006534147\n",
      "MCC: 0.6315407357339117\n",
      "Precision: 0.7562479330891663\n",
      "F1 Score: 0.6751662816289244\n",
      "\n",
      "[INFO] Fold 2 / 10 for LR\n"
     ]
    },
    {
     "name": "stderr",
     "output_type": "stream",
     "text": [
      "/opt/tljh/user/lib/python3.10/site-packages/sklearn/linear_model/_logistic.py:460: ConvergenceWarning: lbfgs failed to converge (status=1):\n",
      "STOP: TOTAL NO. of ITERATIONS REACHED LIMIT.\n",
      "\n",
      "Increase the number of iterations (max_iter) or scale the data as shown in:\n",
      "    https://scikit-learn.org/stable/modules/preprocessing.html\n",
      "Please also refer to the documentation for alternative solver options:\n",
      "    https://scikit-learn.org/stable/modules/linear_model.html#logistic-regression\n",
      "  n_iter_i = _check_optimize_result(\n"
     ]
    },
    {
     "name": "stdout",
     "output_type": "stream",
     "text": [
      "Accuracy: 0.8073852295409182\n",
      "Sensitivity: 0.634832632167387\n",
      "Specificity: 0.9467383407158014\n",
      "AUC-ROC: 0.9484826241111124\n",
      "MCC: 0.61671577796735\n",
      "Precision: 0.7418369721112503\n",
      "F1 Score: 0.679184518996995\n",
      "\n",
      "[INFO] Fold 3 / 10 for LR\n"
     ]
    },
    {
     "name": "stderr",
     "output_type": "stream",
     "text": [
      "/opt/tljh/user/lib/python3.10/site-packages/sklearn/linear_model/_logistic.py:460: ConvergenceWarning: lbfgs failed to converge (status=1):\n",
      "STOP: TOTAL NO. of ITERATIONS REACHED LIMIT.\n",
      "\n",
      "Increase the number of iterations (max_iter) or scale the data as shown in:\n",
      "    https://scikit-learn.org/stable/modules/preprocessing.html\n",
      "Please also refer to the documentation for alternative solver options:\n",
      "    https://scikit-learn.org/stable/modules/linear_model.html#logistic-regression\n",
      "  n_iter_i = _check_optimize_result(\n"
     ]
    },
    {
     "name": "stdout",
     "output_type": "stream",
     "text": [
      "Accuracy: 0.782435129740519\n",
      "Sensitivity: 0.5881435781222561\n",
      "Specificity: 0.9420656634393711\n",
      "AUC-ROC: 0.9423128414594634\n",
      "MCC: 0.571239064465106\n",
      "Precision: 0.6279595800358223\n",
      "F1 Score: 0.6006552236011805\n",
      "\n",
      "[INFO] Fold 4 / 10 for LR\n"
     ]
    },
    {
     "name": "stderr",
     "output_type": "stream",
     "text": [
      "/opt/tljh/user/lib/python3.10/site-packages/sklearn/linear_model/_logistic.py:460: ConvergenceWarning: lbfgs failed to converge (status=1):\n",
      "STOP: TOTAL NO. of ITERATIONS REACHED LIMIT.\n",
      "\n",
      "Increase the number of iterations (max_iter) or scale the data as shown in:\n",
      "    https://scikit-learn.org/stable/modules/preprocessing.html\n",
      "Please also refer to the documentation for alternative solver options:\n",
      "    https://scikit-learn.org/stable/modules/linear_model.html#logistic-regression\n",
      "  n_iter_i = _check_optimize_result(\n"
     ]
    },
    {
     "name": "stdout",
     "output_type": "stream",
     "text": [
      "Accuracy: 0.8063872255489022\n",
      "Sensitivity: 0.563440457594164\n",
      "Specificity: 0.9465510063854952\n",
      "AUC-ROC: 0.9384387549840051\n",
      "MCC: 0.6134400837853675\n",
      "Precision: 0.7409281607514092\n",
      "F1 Score: 0.6063337466259017\n",
      "\n",
      "[INFO] Fold 5 / 10 for LR\n"
     ]
    },
    {
     "name": "stderr",
     "output_type": "stream",
     "text": [
      "/opt/tljh/user/lib/python3.10/site-packages/sklearn/linear_model/_logistic.py:460: ConvergenceWarning: lbfgs failed to converge (status=1):\n",
      "STOP: TOTAL NO. of ITERATIONS REACHED LIMIT.\n",
      "\n",
      "Increase the number of iterations (max_iter) or scale the data as shown in:\n",
      "    https://scikit-learn.org/stable/modules/preprocessing.html\n",
      "Please also refer to the documentation for alternative solver options:\n",
      "    https://scikit-learn.org/stable/modules/linear_model.html#logistic-regression\n",
      "  n_iter_i = _check_optimize_result(\n"
     ]
    },
    {
     "name": "stdout",
     "output_type": "stream",
     "text": [
      "Accuracy: 0.8033932135728543\n",
      "Sensitivity: 0.5953595819848058\n",
      "Specificity: 0.9498758072680207\n",
      "AUC-ROC: 0.9474792157588129\n",
      "MCC: 0.6155108701141175\n",
      "Precision: 0.642071191703027\n",
      "F1 Score: 0.6145778022718854\n",
      "\n",
      "[INFO] Fold 6 / 10 for LR\n"
     ]
    },
    {
     "name": "stderr",
     "output_type": "stream",
     "text": [
      "/opt/tljh/user/lib/python3.10/site-packages/sklearn/linear_model/_logistic.py:460: ConvergenceWarning: lbfgs failed to converge (status=1):\n",
      "STOP: TOTAL NO. of ITERATIONS REACHED LIMIT.\n",
      "\n",
      "Increase the number of iterations (max_iter) or scale the data as shown in:\n",
      "    https://scikit-learn.org/stable/modules/preprocessing.html\n",
      "Please also refer to the documentation for alternative solver options:\n",
      "    https://scikit-learn.org/stable/modules/linear_model.html#logistic-regression\n",
      "  n_iter_i = _check_optimize_result(\n"
     ]
    },
    {
     "name": "stdout",
     "output_type": "stream",
     "text": [
      "Accuracy: 0.7952047952047953\n",
      "Sensitivity: 0.5970212080922007\n",
      "Specificity: 0.9409983700829646\n",
      "AUC-ROC: 0.9457269422523635\n",
      "MCC: 0.5888275383155419\n",
      "Precision: 0.7060178516846849\n",
      "F1 Score: 0.6428151732021309\n",
      "\n",
      "[INFO] Fold 7 / 10 for LR\n"
     ]
    },
    {
     "name": "stderr",
     "output_type": "stream",
     "text": [
      "/opt/tljh/user/lib/python3.10/site-packages/sklearn/linear_model/_logistic.py:460: ConvergenceWarning: lbfgs failed to converge (status=1):\n",
      "STOP: TOTAL NO. of ITERATIONS REACHED LIMIT.\n",
      "\n",
      "Increase the number of iterations (max_iter) or scale the data as shown in:\n",
      "    https://scikit-learn.org/stable/modules/preprocessing.html\n",
      "Please also refer to the documentation for alternative solver options:\n",
      "    https://scikit-learn.org/stable/modules/linear_model.html#logistic-regression\n",
      "  n_iter_i = _check_optimize_result(\n"
     ]
    },
    {
     "name": "stdout",
     "output_type": "stream",
     "text": [
      "Accuracy: 0.7982017982017982\n",
      "Sensitivity: 0.5980003714540152\n",
      "Specificity: 0.9469800051333738\n",
      "AUC-ROC: 0.9435411669529188\n",
      "MCC: 0.6016244038561612\n",
      "Precision: 0.6959968368881613\n",
      "F1 Score: 0.6379107958791073\n",
      "\n",
      "[INFO] Fold 8 / 10 for LR\n"
     ]
    },
    {
     "name": "stderr",
     "output_type": "stream",
     "text": [
      "/opt/tljh/user/lib/python3.10/site-packages/sklearn/linear_model/_logistic.py:460: ConvergenceWarning: lbfgs failed to converge (status=1):\n",
      "STOP: TOTAL NO. of ITERATIONS REACHED LIMIT.\n",
      "\n",
      "Increase the number of iterations (max_iter) or scale the data as shown in:\n",
      "    https://scikit-learn.org/stable/modules/preprocessing.html\n",
      "Please also refer to the documentation for alternative solver options:\n",
      "    https://scikit-learn.org/stable/modules/linear_model.html#logistic-regression\n",
      "  n_iter_i = _check_optimize_result(\n"
     ]
    },
    {
     "name": "stdout",
     "output_type": "stream",
     "text": [
      "Accuracy: 0.7982017982017982\n",
      "Sensitivity: 0.6080759154469376\n",
      "Specificity: 0.9428717220900793\n",
      "AUC-ROC: 0.9335943589853526\n",
      "MCC: 0.5967612379535598\n",
      "Precision: 0.6755684330796737\n",
      "F1 Score: 0.6366234414217218\n",
      "\n",
      "[INFO] Fold 9 / 10 for LR\n"
     ]
    },
    {
     "name": "stderr",
     "output_type": "stream",
     "text": [
      "/opt/tljh/user/lib/python3.10/site-packages/sklearn/linear_model/_logistic.py:460: ConvergenceWarning: lbfgs failed to converge (status=1):\n",
      "STOP: TOTAL NO. of ITERATIONS REACHED LIMIT.\n",
      "\n",
      "Increase the number of iterations (max_iter) or scale the data as shown in:\n",
      "    https://scikit-learn.org/stable/modules/preprocessing.html\n",
      "Please also refer to the documentation for alternative solver options:\n",
      "    https://scikit-learn.org/stable/modules/linear_model.html#logistic-regression\n",
      "  n_iter_i = _check_optimize_result(\n"
     ]
    },
    {
     "name": "stdout",
     "output_type": "stream",
     "text": [
      "Accuracy: 0.7952047952047953\n",
      "Sensitivity: 0.574355082690425\n",
      "Specificity: 0.9455672213301856\n",
      "AUC-ROC: 0.9371271468592443\n",
      "MCC: 0.5960127521462067\n",
      "Precision: 0.6262630051327509\n",
      "F1 Score: 0.5979776713678551\n",
      "\n",
      "[INFO] Fold 10 / 10 for LR\n"
     ]
    },
    {
     "name": "stderr",
     "output_type": "stream",
     "text": [
      "/opt/tljh/user/lib/python3.10/site-packages/sklearn/linear_model/_logistic.py:460: ConvergenceWarning: lbfgs failed to converge (status=1):\n",
      "STOP: TOTAL NO. of ITERATIONS REACHED LIMIT.\n",
      "\n",
      "Increase the number of iterations (max_iter) or scale the data as shown in:\n",
      "    https://scikit-learn.org/stable/modules/preprocessing.html\n",
      "Please also refer to the documentation for alternative solver options:\n",
      "    https://scikit-learn.org/stable/modules/linear_model.html#logistic-regression\n",
      "  n_iter_i = _check_optimize_result(\n"
     ]
    },
    {
     "name": "stdout",
     "output_type": "stream",
     "text": [
      "Accuracy: 0.8131868131868132\n",
      "Sensitivity: 0.580812947857191\n",
      "Specificity: 0.9511531557903503\n",
      "AUC-ROC: 0.9420914467917635\n",
      "MCC: 0.6334329329903341\n",
      "Precision: 0.6937334892669507\n",
      "F1 Score: 0.6146304383287854\n"
     ]
    }
   ],
   "source": [
    "from sklearn.linear_model import LogisticRegression\n",
    "# SVM\n",
    "lr_model = LogisticRegression(n_jobs=-1, random_state=0)\n",
    "evaluate_model(lr_model, 'LR', data, labels)\n",
    "\n"
   ]
  },
  {
   "cell_type": "code",
   "execution_count": 13,
   "id": "1ad87131-764c-448b-8476-2e415110115e",
   "metadata": {},
   "outputs": [
    {
     "name": "stdout",
     "output_type": "stream",
     "text": [
      "\n",
      "[INFO] Fold 1 / 10 for NB\n",
      "Accuracy: 0.5578842315369261\n",
      "Sensitivity: 0.45141540397403934\n",
      "Specificity: 0.9179655019184575\n",
      "AUC-ROC: 0.693659958612071\n",
      "MCC: 0.32677733434761097\n",
      "Precision: 0.3328657757667398\n",
      "F1 Score: 0.3335401316334024\n",
      "\n",
      "[INFO] Fold 2 / 10 for NB\n",
      "Accuracy: 0.5718562874251497\n",
      "Sensitivity: 0.4536520952299204\n",
      "Specificity: 0.9218514653866581\n",
      "AUC-ROC: 0.6997854181763559\n",
      "MCC: 0.34088862190675295\n",
      "Precision: 0.3425997820269258\n",
      "F1 Score: 0.34806622731089637\n",
      "\n",
      "[INFO] Fold 3 / 10 for NB\n",
      "Accuracy: 0.5738522954091816\n",
      "Sensitivity: 0.44812052658534535\n",
      "Specificity: 0.9208428281168294\n",
      "AUC-ROC: 0.7006317159850244\n",
      "MCC: 0.3335327464769076\n",
      "Precision: 0.34229248222685016\n",
      "F1 Score: 0.33742251604759593\n",
      "\n",
      "[INFO] Fold 4 / 10 for NB\n",
      "Accuracy: 0.562874251497006\n",
      "Sensitivity: 0.3741448003896267\n",
      "Specificity: 0.919655020155341\n",
      "AUC-ROC: 0.6620167177543543\n",
      "MCC: 0.3125325253147558\n",
      "Precision: 0.2824579379452448\n",
      "F1 Score: 0.2822036805171658\n",
      "\n",
      "[INFO] Fold 5 / 10 for NB\n",
      "Accuracy: 0.5788423153692615\n",
      "Sensitivity: 0.4096527955444473\n",
      "Specificity: 0.9225918239933506\n",
      "AUC-ROC: 0.6859436376553426\n",
      "MCC: 0.33560593246959614\n",
      "Precision: 0.3127885163446798\n",
      "F1 Score: 0.31718055608090745\n",
      "\n",
      "[INFO] Fold 6 / 10 for NB\n",
      "Accuracy: 0.5674325674325674\n",
      "Sensitivity: 0.4632772057673888\n",
      "Specificity: 0.9197778633093822\n",
      "AUC-ROC: 0.7022949527792186\n",
      "MCC: 0.32659620801165035\n",
      "Precision: 0.3222881640262059\n",
      "F1 Score: 0.33591358206932515\n",
      "\n",
      "[INFO] Fold 7 / 10 for NB\n",
      "Accuracy: 0.5844155844155844\n",
      "Sensitivity: 0.4267882703893174\n",
      "Specificity: 0.9195752303831951\n",
      "AUC-ROC: 0.676864090108495\n",
      "MCC: 0.3357302942899228\n",
      "Precision: 0.32376534610642954\n",
      "F1 Score: 0.3243139604707595\n",
      "\n",
      "[INFO] Fold 8 / 10 for NB\n",
      "Accuracy: 0.5664335664335665\n",
      "Sensitivity: 0.41483975482890617\n",
      "Specificity: 0.9205091817942334\n",
      "AUC-ROC: 0.6785487884828942\n",
      "MCC: 0.32689973729174904\n",
      "Precision: 0.314963576892277\n",
      "F1 Score: 0.3132458285553526\n",
      "\n",
      "[INFO] Fold 9 / 10 for NB\n",
      "Accuracy: 0.5474525474525475\n",
      "Sensitivity: 0.42322104326082144\n",
      "Specificity: 0.9187051641851003\n",
      "AUC-ROC: 0.6767135332941558\n",
      "MCC: 0.31176685153192807\n",
      "Precision: 0.3012933786628383\n",
      "F1 Score: 0.31284271222620097\n",
      "\n",
      "[INFO] Fold 10 / 10 for NB\n",
      "Accuracy: 0.5874125874125874\n",
      "Sensitivity: 0.48500527786242076\n",
      "Specificity: 0.9239585136353391\n",
      "AUC-ROC: 0.7170973427534574\n",
      "MCC: 0.35381062949578745\n",
      "Precision: 0.377407980431044\n",
      "F1 Score: 0.37581465386082874\n"
     ]
    }
   ],
   "source": [
    "#NB\n",
    "nb_model = GaussianNB()\n",
    "evaluate_model(nb_model, 'NB', data, labels)"
   ]
  },
  {
   "cell_type": "code",
   "execution_count": 14,
   "id": "04aacd84",
   "metadata": {},
   "outputs": [
    {
     "name": "stdout",
     "output_type": "stream",
     "text": [
      "\n",
      "[INFO] Fold 1 / 10 for KNN\n",
      "Accuracy: 0.7385229540918163\n",
      "Sensitivity: 0.348768568491383\n",
      "Specificity: 0.9235349031731931\n",
      "AUC-ROC: 0.7780199952761999\n",
      "MCC: 0.45492362685285137\n",
      "Precision: 0.5524960650576414\n",
      "F1 Score: 0.38656988474379494\n",
      "\n",
      "[INFO] Fold 2 / 10 for KNN\n"
     ]
    },
    {
     "name": "stderr",
     "output_type": "stream",
     "text": [
      "/opt/tljh/user/lib/python3.10/site-packages/sklearn/metrics/_classification.py:1471: UndefinedMetricWarning: Precision is ill-defined and being set to 0.0 in labels with no predicted samples. Use `zero_division` parameter to control this behavior.\n",
      "  _warn_prf(average, modifier, msg_start, len(result))\n"
     ]
    },
    {
     "name": "stdout",
     "output_type": "stream",
     "text": [
      "Accuracy: 0.7075848303393214\n",
      "Sensitivity: 0.3217620822098434\n",
      "Specificity: 0.9144192874817606\n",
      "AUC-ROC: 0.8203747630076387\n",
      "MCC: 0.38461659849319885\n",
      "Precision: 0.372145738413502\n",
      "F1 Score: 0.33640181833369526\n",
      "\n",
      "[INFO] Fold 3 / 10 for KNN\n",
      "Accuracy: 0.717564870259481\n",
      "Sensitivity: 0.3471895034794822\n",
      "Specificity: 0.9158123354533975\n",
      "AUC-ROC: 0.7795602969466592\n",
      "MCC: 0.40918427585399614\n",
      "Precision: 0.45072342027229245\n",
      "F1 Score: 0.36972998999386775\n",
      "\n",
      "[INFO] Fold 4 / 10 for KNN\n",
      "Accuracy: 0.7295409181636726\n",
      "Sensitivity: 0.3622835565705251\n",
      "Specificity: 0.915948049583143\n",
      "AUC-ROC: 0.7690981529124834\n",
      "MCC: 0.4267891531985018\n",
      "Precision: 0.6629556175481522\n",
      "F1 Score: 0.40527564565904955\n",
      "\n",
      "[INFO] Fold 5 / 10 for KNN\n",
      "Accuracy: 0.7305389221556886\n",
      "Sensitivity: 0.37760828623550763\n",
      "Specificity: 0.9170019403555071\n",
      "AUC-ROC: 0.8057746099395199\n",
      "MCC: 0.42627037709373095\n",
      "Precision: 0.6067152523086253\n",
      "F1 Score: 0.43191263454643797\n",
      "\n",
      "[INFO] Fold 6 / 10 for KNN\n",
      "Accuracy: 0.7172827172827173\n",
      "Sensitivity: 0.3344966338030311\n",
      "Specificity: 0.9156034637178561\n",
      "AUC-ROC: 0.7990396990420331\n",
      "MCC: 0.40198448356869854\n",
      "Precision: 0.4497134743555508\n",
      "F1 Score: 0.3642848088033615\n",
      "\n",
      "[INFO] Fold 7 / 10 for KNN\n",
      "Accuracy: 0.7252747252747253\n",
      "Sensitivity: 0.33713148529238895\n",
      "Specificity: 0.916971082486915\n",
      "AUC-ROC: 0.787099727571075\n",
      "MCC: 0.4187644963738045\n",
      "Precision: 0.5012653976264908\n",
      "F1 Score: 0.36668751530778604\n",
      "\n",
      "[INFO] Fold 8 / 10 for KNN\n"
     ]
    },
    {
     "name": "stderr",
     "output_type": "stream",
     "text": [
      "/opt/tljh/user/lib/python3.10/site-packages/sklearn/metrics/_classification.py:1471: UndefinedMetricWarning: Precision is ill-defined and being set to 0.0 in labels with no predicted samples. Use `zero_division` parameter to control this behavior.\n",
      "  _warn_prf(average, modifier, msg_start, len(result))\n"
     ]
    },
    {
     "name": "stdout",
     "output_type": "stream",
     "text": [
      "Accuracy: 0.7112887112887113\n",
      "Sensitivity: 0.3238340908724226\n",
      "Specificity: 0.9128141863423226\n",
      "AUC-ROC: 0.7822781150306638\n",
      "MCC: 0.3827809083306192\n",
      "Precision: 0.37125632944292114\n",
      "F1 Score: 0.34102279786971784\n",
      "\n",
      "[INFO] Fold 9 / 10 for KNN\n",
      "Accuracy: 0.7142857142857143\n",
      "Sensitivity: 0.3300937445103308\n",
      "Specificity: 0.9171044615538934\n",
      "AUC-ROC: 0.7945488238337356\n",
      "MCC: 0.40257095400460247\n",
      "Precision: 0.4378323950113046\n",
      "F1 Score: 0.35241134921517403\n",
      "\n",
      "[INFO] Fold 10 / 10 for KNN\n",
      "Accuracy: 0.7442557442557443\n",
      "Sensitivity: 0.35866673653187514\n",
      "Specificity: 0.922235129517861\n",
      "AUC-ROC: 0.8214499511500765\n",
      "MCC: 0.46069679331505503\n",
      "Precision: 0.5624706889751389\n",
      "F1 Score: 0.3898316591662173\n"
     ]
    }
   ],
   "source": [
    "\n",
    "# KNN\n",
    "knn_model = KNeighborsClassifier()\n",
    "evaluate_model(knn_model, 'KNN', data, labels)\n",
    "\n"
   ]
  },
  {
   "cell_type": "code",
   "execution_count": 15,
   "id": "46ce2ad5",
   "metadata": {
    "editable": true,
    "slideshow": {
     "slide_type": ""
    },
    "tags": []
   },
   "outputs": [
    {
     "name": "stdout",
     "output_type": "stream",
     "text": [
      "\n",
      "[INFO] Fold 1 / 10 for Random Forest\n"
     ]
    },
    {
     "name": "stderr",
     "output_type": "stream",
     "text": [
      "/opt/tljh/user/lib/python3.10/site-packages/sklearn/metrics/_classification.py:1471: UndefinedMetricWarning: Precision is ill-defined and being set to 0.0 in labels with no predicted samples. Use `zero_division` parameter to control this behavior.\n",
      "  _warn_prf(average, modifier, msg_start, len(result))\n"
     ]
    },
    {
     "name": "stdout",
     "output_type": "stream",
     "text": [
      "Accuracy: 0.6936127744510978\n",
      "Sensitivity: 0.1930519796191438\n",
      "Specificity: 0.8795514458555911\n",
      "AUC-ROC: 0.8513636027396191\n",
      "MCC: 0.24858469022404392\n",
      "Precision: 0.408459179988355\n",
      "F1 Score: 0.19987535474159843\n",
      "\n",
      "[INFO] Fold 2 / 10 for Random Forest\n"
     ]
    },
    {
     "name": "stderr",
     "output_type": "stream",
     "text": [
      "/opt/tljh/user/lib/python3.10/site-packages/sklearn/metrics/_classification.py:1471: UndefinedMetricWarning: Precision is ill-defined and being set to 0.0 in labels with no predicted samples. Use `zero_division` parameter to control this behavior.\n",
      "  _warn_prf(average, modifier, msg_start, len(result))\n"
     ]
    },
    {
     "name": "stdout",
     "output_type": "stream",
     "text": [
      "Accuracy: 0.6936127744510978\n",
      "Sensitivity: 0.1911745441596188\n",
      "Specificity: 0.8768382297166527\n",
      "AUC-ROC: 0.8739168611804785\n",
      "MCC: 0.24116329542713671\n",
      "Precision: 0.4612621619467808\n",
      "F1 Score: 0.19898917035829505\n",
      "\n",
      "[INFO] Fold 3 / 10 for Random Forest\n"
     ]
    },
    {
     "name": "stderr",
     "output_type": "stream",
     "text": [
      "/opt/tljh/user/lib/python3.10/site-packages/sklearn/metrics/_classification.py:1471: UndefinedMetricWarning: Precision is ill-defined and being set to 0.0 in labels with no predicted samples. Use `zero_division` parameter to control this behavior.\n",
      "  _warn_prf(average, modifier, msg_start, len(result))\n"
     ]
    },
    {
     "name": "stdout",
     "output_type": "stream",
     "text": [
      "Accuracy: 0.6956087824351297\n",
      "Sensitivity: 0.20463049119765536\n",
      "Specificity: 0.8812064132120678\n",
      "AUC-ROC: 0.821578284332876\n",
      "MCC: 0.25865749882768113\n",
      "Precision: 0.43883089878977594\n",
      "F1 Score: 0.22055552372735399\n",
      "\n",
      "[INFO] Fold 4 / 10 for Random Forest\n"
     ]
    },
    {
     "name": "stderr",
     "output_type": "stream",
     "text": [
      "/opt/tljh/user/lib/python3.10/site-packages/sklearn/metrics/_classification.py:1471: UndefinedMetricWarning: Precision is ill-defined and being set to 0.0 in labels with no predicted samples. Use `zero_division` parameter to control this behavior.\n",
      "  _warn_prf(average, modifier, msg_start, len(result))\n"
     ]
    },
    {
     "name": "stdout",
     "output_type": "stream",
     "text": [
      "Accuracy: 0.7125748502994012\n",
      "Sensitivity: 0.22929195423081036\n",
      "Specificity: 0.8825827171611552\n",
      "AUC-ROC: 0.8877513822282806\n",
      "MCC: 0.31751511833672813\n",
      "Precision: 0.5353670711198006\n",
      "F1 Score: 0.2601776486243752\n",
      "\n",
      "[INFO] Fold 5 / 10 for Random Forest\n"
     ]
    },
    {
     "name": "stderr",
     "output_type": "stream",
     "text": [
      "/opt/tljh/user/lib/python3.10/site-packages/sklearn/metrics/_classification.py:1471: UndefinedMetricWarning: Precision is ill-defined and being set to 0.0 in labels with no predicted samples. Use `zero_division` parameter to control this behavior.\n",
      "  _warn_prf(average, modifier, msg_start, len(result))\n"
     ]
    },
    {
     "name": "stdout",
     "output_type": "stream",
     "text": [
      "Accuracy: 0.7105788423153693\n",
      "Sensitivity: 0.21135718818078647\n",
      "Specificity: 0.8837909554922956\n",
      "AUC-ROC: 0.8629342538670236\n",
      "MCC: 0.30637904010788825\n",
      "Precision: 0.5447278384548737\n",
      "F1 Score: 0.22748092078443924\n",
      "\n",
      "[INFO] Fold 6 / 10 for Random Forest\n"
     ]
    },
    {
     "name": "stderr",
     "output_type": "stream",
     "text": [
      "/opt/tljh/user/lib/python3.10/site-packages/sklearn/metrics/_classification.py:1471: UndefinedMetricWarning: Precision is ill-defined and being set to 0.0 in labels with no predicted samples. Use `zero_division` parameter to control this behavior.\n",
      "  _warn_prf(average, modifier, msg_start, len(result))\n"
     ]
    },
    {
     "name": "stdout",
     "output_type": "stream",
     "text": [
      "Accuracy: 0.6943056943056943\n",
      "Sensitivity: 0.190027941063353\n",
      "Specificity: 0.876266450100618\n",
      "AUC-ROC: 0.8411932816267133\n",
      "MCC: 0.2372591100531737\n",
      "Precision: 0.4617600231581994\n",
      "F1 Score: 0.19892460115923802\n",
      "\n",
      "[INFO] Fold 7 / 10 for Random Forest\n"
     ]
    },
    {
     "name": "stderr",
     "output_type": "stream",
     "text": [
      "/opt/tljh/user/lib/python3.10/site-packages/sklearn/metrics/_classification.py:1471: UndefinedMetricWarning: Precision is ill-defined and being set to 0.0 in labels with no predicted samples. Use `zero_division` parameter to control this behavior.\n",
      "  _warn_prf(average, modifier, msg_start, len(result))\n"
     ]
    },
    {
     "name": "stdout",
     "output_type": "stream",
     "text": [
      "Accuracy: 0.6983016983016983\n",
      "Sensitivity: 0.1955427242794649\n",
      "Specificity: 0.8780424061791551\n",
      "AUC-ROC: 0.8657157175314196\n",
      "MCC: 0.25522603806544386\n",
      "Precision: 0.3861697584826111\n",
      "F1 Score: 0.2064932579857953\n",
      "\n",
      "[INFO] Fold 8 / 10 for Random Forest\n"
     ]
    },
    {
     "name": "stderr",
     "output_type": "stream",
     "text": [
      "/opt/tljh/user/lib/python3.10/site-packages/sklearn/metrics/_classification.py:1471: UndefinedMetricWarning: Precision is ill-defined and being set to 0.0 in labels with no predicted samples. Use `zero_division` parameter to control this behavior.\n",
      "  _warn_prf(average, modifier, msg_start, len(result))\n"
     ]
    },
    {
     "name": "stdout",
     "output_type": "stream",
     "text": [
      "Accuracy: 0.6953046953046953\n",
      "Sensitivity: 0.19155521263163502\n",
      "Specificity: 0.8772511178070018\n",
      "AUC-ROC: 0.8683195078594677\n",
      "MCC: 0.24375731021645256\n",
      "Precision: 0.47390984343698034\n",
      "F1 Score: 0.19999857379170147\n",
      "\n",
      "[INFO] Fold 9 / 10 for Random Forest\n"
     ]
    },
    {
     "name": "stderr",
     "output_type": "stream",
     "text": [
      "/opt/tljh/user/lib/python3.10/site-packages/sklearn/metrics/_classification.py:1471: UndefinedMetricWarning: Precision is ill-defined and being set to 0.0 in labels with no predicted samples. Use `zero_division` parameter to control this behavior.\n",
      "  _warn_prf(average, modifier, msg_start, len(result))\n"
     ]
    },
    {
     "name": "stdout",
     "output_type": "stream",
     "text": [
      "Accuracy: 0.6963036963036963\n",
      "Sensitivity: 0.20082484800421158\n",
      "Specificity: 0.8771283863576392\n",
      "AUC-ROC: 0.861103796498556\n",
      "MCC: 0.24739294412138957\n",
      "Precision: 0.47799938157081007\n",
      "F1 Score: 0.2173484626956521\n",
      "\n",
      "[INFO] Fold 10 / 10 for Random Forest\n"
     ]
    },
    {
     "name": "stderr",
     "output_type": "stream",
     "text": [
      "/opt/tljh/user/lib/python3.10/site-packages/sklearn/metrics/_classification.py:1471: UndefinedMetricWarning: Precision is ill-defined and being set to 0.0 in labels with no predicted samples. Use `zero_division` parameter to control this behavior.\n",
      "  _warn_prf(average, modifier, msg_start, len(result))\n"
     ]
    },
    {
     "name": "stdout",
     "output_type": "stream",
     "text": [
      "Accuracy: 0.6993006993006993\n",
      "Sensitivity: 0.1992890647741394\n",
      "Specificity: 0.8785307291070826\n",
      "AUC-ROC: 0.874506792888233\n",
      "MCC: 0.2630334998070541\n",
      "Precision: 0.43357706719051264\n",
      "F1 Score: 0.21163742574674024\n"
     ]
    }
   ],
   "source": [
    "# Random Forest\n",
    "rf_model = RandomForestClassifier(random_state=0, n_jobs=-1)\n",
    "evaluate_model(rf_model, 'Random Forest', data, labels)\n"
   ]
  },
  {
   "cell_type": "code",
   "execution_count": 16,
   "id": "aaa8cf7c",
   "metadata": {},
   "outputs": [
    {
     "name": "stdout",
     "output_type": "stream",
     "text": [
      "\n",
      "[INFO] Fold 1 / 10 for LGBM\n",
      "[LightGBM] [Info] Auto-choosing col-wise multi-threading, the overhead of testing was 16.900617 seconds.\n",
      "You can set `force_col_wise=true` to remove the overhead.\n",
      "[LightGBM] [Info] Total Bins 15993600\n",
      "[LightGBM] [Info] Number of data points in the train set: 9013, number of used features: 62720\n",
      "[LightGBM] [Info] Start training from score -3.422843\n",
      "[LightGBM] [Info] Start training from score -2.970858\n",
      "[LightGBM] [Info] Start training from score -2.209729\n",
      "[LightGBM] [Info] Start training from score -4.471694\n",
      "[LightGBM] [Info] Start training from score -2.196670\n",
      "[LightGBM] [Info] Start training from score -0.401092\n",
      "[LightGBM] [Info] Start training from score -4.254393\n",
      "[LightGBM] [Warning] No further splits with positive gain, best gain: -inf\n",
      "[LightGBM] [Warning] No further splits with positive gain, best gain: -inf\n",
      "[LightGBM] [Warning] No further splits with positive gain, best gain: -inf\n",
      "[LightGBM] [Warning] No further splits with positive gain, best gain: -inf\n",
      "[LightGBM] [Warning] No further splits with positive gain, best gain: -inf\n",
      "[LightGBM] [Warning] No further splits with positive gain, best gain: -inf\n",
      "[LightGBM] [Warning] No further splits with positive gain, best gain: -inf\n",
      "[LightGBM] [Warning] No further splits with positive gain, best gain: -inf\n"
     ]
    },
    {
     "name": "stderr",
     "output_type": "stream",
     "text": [
      "/opt/tljh/user/lib/python3.10/site-packages/sklearn/metrics/_classification.py:1471: UndefinedMetricWarning: Precision is ill-defined and being set to 0.0 in labels with no predicted samples. Use `zero_division` parameter to control this behavior.\n",
      "  _warn_prf(average, modifier, msg_start, len(result))\n"
     ]
    },
    {
     "name": "stdout",
     "output_type": "stream",
     "text": [
      "Accuracy: 0.7694610778443114\n",
      "Sensitivity: 0.36819818514914465\n",
      "Specificity: 0.9228651640896753\n",
      "AUC-ROC: 0.9271883087282708\n",
      "MCC: 0.5073584748889057\n",
      "Precision: 0.6335683486577419\n",
      "F1 Score: 0.4160633794998692\n",
      "\n",
      "[INFO] Fold 2 / 10 for LGBM\n",
      "[LightGBM] [Info] Auto-choosing col-wise multi-threading, the overhead of testing was 16.079478 seconds.\n",
      "You can set `force_col_wise=true` to remove the overhead.\n",
      "[LightGBM] [Info] Total Bins 15993600\n",
      "[LightGBM] [Info] Number of data points in the train set: 9013, number of used features: 62720\n",
      "[LightGBM] [Info] Start training from score -3.422843\n",
      "[LightGBM] [Info] Start training from score -2.970858\n",
      "[LightGBM] [Info] Start training from score -2.209729\n",
      "[LightGBM] [Info] Start training from score -4.471694\n",
      "[LightGBM] [Info] Start training from score -2.196670\n",
      "[LightGBM] [Info] Start training from score -0.401092\n",
      "[LightGBM] [Info] Start training from score -4.254393\n",
      "[LightGBM] [Warning] No further splits with positive gain, best gain: -inf\n",
      "[LightGBM] [Warning] No further splits with positive gain, best gain: -inf\n",
      "[LightGBM] [Warning] No further splits with positive gain, best gain: -inf\n",
      "[LightGBM] [Warning] No further splits with positive gain, best gain: -inf\n",
      "[LightGBM] [Warning] No further splits with positive gain, best gain: -inf\n",
      "[LightGBM] [Warning] No further splits with positive gain, best gain: -inf\n",
      "[LightGBM] [Warning] No further splits with positive gain, best gain: -inf\n"
     ]
    },
    {
     "name": "stderr",
     "output_type": "stream",
     "text": [
      "/opt/tljh/user/lib/python3.10/site-packages/sklearn/metrics/_classification.py:1471: UndefinedMetricWarning: Precision is ill-defined and being set to 0.0 in labels with no predicted samples. Use `zero_division` parameter to control this behavior.\n",
      "  _warn_prf(average, modifier, msg_start, len(result))\n"
     ]
    },
    {
     "name": "stdout",
     "output_type": "stream",
     "text": [
      "Accuracy: 0.7754491017964071\n",
      "Sensitivity: 0.3686338786552006\n",
      "Specificity: 0.9192480701721887\n",
      "AUC-ROC: 0.9436920012444346\n",
      "MCC: 0.5151483041832305\n",
      "Precision: 0.6441853046122424\n",
      "F1 Score: 0.4289299242395531\n",
      "\n",
      "[INFO] Fold 3 / 10 for LGBM\n",
      "[LightGBM] [Info] Auto-choosing col-wise multi-threading, the overhead of testing was 20.227489 seconds.\n",
      "You can set `force_col_wise=true` to remove the overhead.\n",
      "[LightGBM] [Info] Total Bins 15993600\n",
      "[LightGBM] [Info] Number of data points in the train set: 9013, number of used features: 62720\n",
      "[LightGBM] [Info] Start training from score -3.422843\n",
      "[LightGBM] [Info] Start training from score -2.970858\n",
      "[LightGBM] [Info] Start training from score -2.209729\n",
      "[LightGBM] [Info] Start training from score -4.471694\n",
      "[LightGBM] [Info] Start training from score -2.196670\n",
      "[LightGBM] [Info] Start training from score -0.401092\n",
      "[LightGBM] [Info] Start training from score -4.254393\n",
      "[LightGBM] [Warning] No further splits with positive gain, best gain: -inf\n",
      "[LightGBM] [Warning] No further splits with positive gain, best gain: -inf\n",
      "[LightGBM] [Warning] No further splits with positive gain, best gain: -inf\n",
      "[LightGBM] [Warning] No further splits with positive gain, best gain: -inf\n",
      "[LightGBM] [Warning] No further splits with positive gain, best gain: -inf\n",
      "[LightGBM] [Warning] No further splits with positive gain, best gain: -inf\n",
      "[LightGBM] [Warning] No further splits with positive gain, best gain: -inf\n"
     ]
    },
    {
     "name": "stderr",
     "output_type": "stream",
     "text": [
      "/opt/tljh/user/lib/python3.10/site-packages/sklearn/metrics/_classification.py:1471: UndefinedMetricWarning: Precision is ill-defined and being set to 0.0 in labels with no predicted samples. Use `zero_division` parameter to control this behavior.\n",
      "  _warn_prf(average, modifier, msg_start, len(result))\n"
     ]
    },
    {
     "name": "stdout",
     "output_type": "stream",
     "text": [
      "Accuracy: 0.7504990019960079\n",
      "Sensitivity: 0.3410442579952175\n",
      "Specificity: 0.9171186974187935\n",
      "AUC-ROC: 0.9159840181269222\n",
      "MCC: 0.45975708907236873\n",
      "Precision: 0.6054864019019089\n",
      "F1 Score: 0.3881717157152664\n",
      "\n",
      "[INFO] Fold 4 / 10 for LGBM\n",
      "[LightGBM] [Info] Auto-choosing col-wise multi-threading, the overhead of testing was 15.579485 seconds.\n",
      "You can set `force_col_wise=true` to remove the overhead.\n",
      "[LightGBM] [Info] Total Bins 15993600\n",
      "[LightGBM] [Info] Number of data points in the train set: 9013, number of used features: 62720\n",
      "[LightGBM] [Info] Start training from score -3.422843\n",
      "[LightGBM] [Info] Start training from score -2.968696\n",
      "[LightGBM] [Info] Start training from score -2.209729\n",
      "[LightGBM] [Info] Start training from score -4.471694\n",
      "[LightGBM] [Info] Start training from score -2.197668\n",
      "[LightGBM] [Info] Start training from score -0.401092\n",
      "[LightGBM] [Info] Start training from score -4.254393\n",
      "[LightGBM] [Warning] No further splits with positive gain, best gain: -inf\n",
      "[LightGBM] [Warning] No further splits with positive gain, best gain: -inf\n",
      "[LightGBM] [Warning] No further splits with positive gain, best gain: -inf\n",
      "[LightGBM] [Warning] No further splits with positive gain, best gain: -inf\n",
      "[LightGBM] [Warning] No further splits with positive gain, best gain: -inf\n",
      "[LightGBM] [Warning] No further splits with positive gain, best gain: -inf\n"
     ]
    },
    {
     "name": "stderr",
     "output_type": "stream",
     "text": [
      "/opt/tljh/user/lib/python3.10/site-packages/sklearn/metrics/_classification.py:1471: UndefinedMetricWarning: Precision is ill-defined and being set to 0.0 in labels with no predicted samples. Use `zero_division` parameter to control this behavior.\n",
      "  _warn_prf(average, modifier, msg_start, len(result))\n"
     ]
    },
    {
     "name": "stdout",
     "output_type": "stream",
     "text": [
      "Accuracy: 0.7564870259481038\n",
      "Sensitivity: 0.3356286001510509\n",
      "Specificity: 0.9145717734293841\n",
      "AUC-ROC: 0.9305975000246755\n",
      "MCC: 0.46671184393352766\n",
      "Precision: 0.6037014615611955\n",
      "F1 Score: 0.39118314939813076\n",
      "\n",
      "[INFO] Fold 5 / 10 for LGBM\n",
      "[LightGBM] [Info] Auto-choosing col-wise multi-threading, the overhead of testing was 20.189508 seconds.\n",
      "You can set `force_col_wise=true` to remove the overhead.\n",
      "[LightGBM] [Info] Total Bins 15993600\n",
      "[LightGBM] [Info] Number of data points in the train set: 9013, number of used features: 62720\n",
      "[LightGBM] [Info] Start training from score -3.422843\n",
      "[LightGBM] [Info] Start training from score -2.968696\n",
      "[LightGBM] [Info] Start training from score -2.209729\n",
      "[LightGBM] [Info] Start training from score -4.462032\n",
      "[LightGBM] [Info] Start training from score -2.197668\n",
      "[LightGBM] [Info] Start training from score -0.401258\n",
      "[LightGBM] [Info] Start training from score -4.254393\n",
      "[LightGBM] [Warning] No further splits with positive gain, best gain: -inf\n",
      "[LightGBM] [Warning] No further splits with positive gain, best gain: -inf\n",
      "[LightGBM] [Warning] No further splits with positive gain, best gain: -inf\n",
      "[LightGBM] [Warning] No further splits with positive gain, best gain: -inf\n",
      "[LightGBM] [Warning] No further splits with positive gain, best gain: -inf\n",
      "[LightGBM] [Warning] No further splits with positive gain, best gain: -inf\n",
      "[LightGBM] [Warning] No further splits with positive gain, best gain: -inf\n"
     ]
    },
    {
     "name": "stderr",
     "output_type": "stream",
     "text": [
      "/opt/tljh/user/lib/python3.10/site-packages/sklearn/metrics/_classification.py:1471: UndefinedMetricWarning: Precision is ill-defined and being set to 0.0 in labels with no predicted samples. Use `zero_division` parameter to control this behavior.\n",
      "  _warn_prf(average, modifier, msg_start, len(result))\n"
     ]
    },
    {
     "name": "stdout",
     "output_type": "stream",
     "text": [
      "Accuracy: 0.7924151696606786\n",
      "Sensitivity: 0.3967603658452949\n",
      "Specificity: 0.9298502101348458\n",
      "AUC-ROC: 0.9330175384432422\n",
      "MCC: 0.5605995370881495\n",
      "Precision: 0.6698730508338693\n",
      "F1 Score: 0.45158902773397386\n",
      "\n",
      "[INFO] Fold 6 / 10 for LGBM\n",
      "[LightGBM] [Info] Auto-choosing col-wise multi-threading, the overhead of testing was 18.961338 seconds.\n",
      "You can set `force_col_wise=true` to remove the overhead.\n",
      "[LightGBM] [Info] Total Bins 15993600\n",
      "[LightGBM] [Info] Number of data points in the train set: 9014, number of used features: 62720\n",
      "[LightGBM] [Info] Start training from score -3.422954\n",
      "[LightGBM] [Info] Start training from score -2.968807\n",
      "[LightGBM] [Info] Start training from score -2.208829\n",
      "[LightGBM] [Info] Start training from score -4.462143\n",
      "[LightGBM] [Info] Start training from score -2.197779\n",
      "[LightGBM] [Info] Start training from score -0.401369\n",
      "[LightGBM] [Info] Start training from score -4.254504\n",
      "[LightGBM] [Warning] No further splits with positive gain, best gain: -inf\n",
      "[LightGBM] [Warning] No further splits with positive gain, best gain: -inf\n",
      "[LightGBM] [Warning] No further splits with positive gain, best gain: -inf\n",
      "[LightGBM] [Warning] No further splits with positive gain, best gain: -inf\n",
      "[LightGBM] [Warning] No further splits with positive gain, best gain: -inf\n",
      "[LightGBM] [Warning] No further splits with positive gain, best gain: -inf\n"
     ]
    },
    {
     "name": "stderr",
     "output_type": "stream",
     "text": [
      "/opt/tljh/user/lib/python3.10/site-packages/sklearn/metrics/_classification.py:1471: UndefinedMetricWarning: Precision is ill-defined and being set to 0.0 in labels with no predicted samples. Use `zero_division` parameter to control this behavior.\n",
      "  _warn_prf(average, modifier, msg_start, len(result))\n"
     ]
    },
    {
     "name": "stdout",
     "output_type": "stream",
     "text": [
      "Accuracy: 0.7622377622377622\n",
      "Sensitivity: 0.3463149513486742\n",
      "Specificity: 0.9166978580504043\n",
      "AUC-ROC: 0.9162951273642769\n",
      "MCC: 0.47978680536159757\n",
      "Precision: 0.6188210096391745\n",
      "F1 Score: 0.40303560018887896\n",
      "\n",
      "[INFO] Fold 7 / 10 for LGBM\n",
      "[LightGBM] [Info] Auto-choosing col-wise multi-threading, the overhead of testing was 19.796991 seconds.\n",
      "You can set `force_col_wise=true` to remove the overhead.\n",
      "[LightGBM] [Info] Total Bins 15993600\n",
      "[LightGBM] [Info] Number of data points in the train set: 9014, number of used features: 62720\n",
      "[LightGBM] [Info] Start training from score -3.422954\n",
      "[LightGBM] [Info] Start training from score -2.968807\n",
      "[LightGBM] [Info] Start training from score -2.209840\n",
      "[LightGBM] [Info] Start training from score -4.462143\n",
      "[LightGBM] [Info] Start training from score -2.196781\n",
      "[LightGBM] [Info] Start training from score -0.401369\n",
      "[LightGBM] [Info] Start training from score -4.254504\n",
      "[LightGBM] [Warning] No further splits with positive gain, best gain: -inf\n",
      "[LightGBM] [Warning] No further splits with positive gain, best gain: -inf\n",
      "[LightGBM] [Warning] No further splits with positive gain, best gain: -inf\n",
      "[LightGBM] [Warning] No further splits with positive gain, best gain: -inf\n",
      "[LightGBM] [Warning] No further splits with positive gain, best gain: -inf\n",
      "[LightGBM] [Warning] No further splits with positive gain, best gain: -inf\n",
      "[LightGBM] [Warning] No further splits with positive gain, best gain: -inf\n"
     ]
    },
    {
     "name": "stderr",
     "output_type": "stream",
     "text": [
      "/opt/tljh/user/lib/python3.10/site-packages/sklearn/metrics/_classification.py:1471: UndefinedMetricWarning: Precision is ill-defined and being set to 0.0 in labels with no predicted samples. Use `zero_division` parameter to control this behavior.\n",
      "  _warn_prf(average, modifier, msg_start, len(result))\n"
     ]
    },
    {
     "name": "stdout",
     "output_type": "stream",
     "text": [
      "Accuracy: 0.7572427572427572\n",
      "Sensitivity: 0.33713623363712913\n",
      "Specificity: 0.9173009147629226\n",
      "AUC-ROC: 0.9269945750129425\n",
      "MCC: 0.46988536500750183\n",
      "Precision: 0.541771052173968\n",
      "F1 Score: 0.38341595630288966\n",
      "\n",
      "[INFO] Fold 8 / 10 for LGBM\n",
      "[LightGBM] [Info] Auto-choosing col-wise multi-threading, the overhead of testing was 18.724768 seconds.\n",
      "You can set `force_col_wise=true` to remove the overhead.\n",
      "[LightGBM] [Info] Total Bins 15993600\n",
      "[LightGBM] [Info] Number of data points in the train set: 9014, number of used features: 62720\n",
      "[LightGBM] [Info] Start training from score -3.419559\n",
      "[LightGBM] [Info] Start training from score -2.968807\n",
      "[LightGBM] [Info] Start training from score -2.209840\n",
      "[LightGBM] [Info] Start training from score -4.462143\n",
      "[LightGBM] [Info] Start training from score -2.196781\n",
      "[LightGBM] [Info] Start training from score -0.401369\n",
      "[LightGBM] [Info] Start training from score -4.262347\n",
      "[LightGBM] [Warning] No further splits with positive gain, best gain: -inf\n",
      "[LightGBM] [Warning] No further splits with positive gain, best gain: -inf\n",
      "[LightGBM] [Warning] No further splits with positive gain, best gain: -inf\n",
      "[LightGBM] [Warning] No further splits with positive gain, best gain: -inf\n",
      "[LightGBM] [Warning] No further splits with positive gain, best gain: -inf\n",
      "[LightGBM] [Warning] No further splits with positive gain, best gain: -inf\n",
      "[LightGBM] [Warning] No further splits with positive gain, best gain: -inf\n"
     ]
    },
    {
     "name": "stderr",
     "output_type": "stream",
     "text": [
      "/opt/tljh/user/lib/python3.10/site-packages/sklearn/metrics/_classification.py:1471: UndefinedMetricWarning: Precision is ill-defined and being set to 0.0 in labels with no predicted samples. Use `zero_division` parameter to control this behavior.\n",
      "  _warn_prf(average, modifier, msg_start, len(result))\n"
     ]
    },
    {
     "name": "stdout",
     "output_type": "stream",
     "text": [
      "Accuracy: 0.7542457542457542\n",
      "Sensitivity: 0.3167384730909321\n",
      "Specificity: 0.915368957866146\n",
      "AUC-ROC: 0.9196029317126238\n",
      "MCC: 0.4606101574835569\n",
      "Precision: 0.4946207399927274\n",
      "F1 Score: 0.35637561503338117\n",
      "\n",
      "[INFO] Fold 9 / 10 for LGBM\n",
      "[LightGBM] [Info] Auto-choosing col-wise multi-threading, the overhead of testing was 19.919733 seconds.\n",
      "You can set `force_col_wise=true` to remove the overhead.\n",
      "[LightGBM] [Info] Total Bins 15993600\n",
      "[LightGBM] [Info] Number of data points in the train set: 9014, number of used features: 62720\n",
      "[LightGBM] [Info] Start training from score -3.419559\n",
      "[LightGBM] [Info] Start training from score -2.968807\n",
      "[LightGBM] [Info] Start training from score -2.209840\n",
      "[LightGBM] [Info] Start training from score -4.462143\n",
      "[LightGBM] [Info] Start training from score -2.196781\n",
      "[LightGBM] [Info] Start training from score -0.401369\n",
      "[LightGBM] [Info] Start training from score -4.262347\n",
      "[LightGBM] [Warning] No further splits with positive gain, best gain: -inf\n",
      "[LightGBM] [Warning] No further splits with positive gain, best gain: -inf\n",
      "[LightGBM] [Warning] No further splits with positive gain, best gain: -inf\n",
      "[LightGBM] [Warning] No further splits with positive gain, best gain: -inf\n",
      "[LightGBM] [Warning] No further splits with positive gain, best gain: -inf\n",
      "[LightGBM] [Warning] No further splits with positive gain, best gain: -inf\n",
      "[LightGBM] [Warning] No further splits with positive gain, best gain: -inf\n",
      "[LightGBM] [Warning] No further splits with positive gain, best gain: -inf\n",
      "[LightGBM] [Warning] No further splits with positive gain, best gain: -inf\n"
     ]
    },
    {
     "name": "stderr",
     "output_type": "stream",
     "text": [
      "/opt/tljh/user/lib/python3.10/site-packages/sklearn/metrics/_classification.py:1471: UndefinedMetricWarning: Precision is ill-defined and being set to 0.0 in labels with no predicted samples. Use `zero_division` parameter to control this behavior.\n",
      "  _warn_prf(average, modifier, msg_start, len(result))\n"
     ]
    },
    {
     "name": "stdout",
     "output_type": "stream",
     "text": [
      "Accuracy: 0.7642357642357642\n",
      "Sensitivity: 0.3632265980867717\n",
      "Specificity: 0.9197707937697038\n",
      "AUC-ROC: 0.9308871097054932\n",
      "MCC: 0.48878589533350675\n",
      "Precision: 0.6210843091742843\n",
      "F1 Score: 0.4222778324205078\n",
      "\n",
      "[INFO] Fold 10 / 10 for LGBM\n",
      "[LightGBM] [Info] Auto-choosing col-wise multi-threading, the overhead of testing was 19.045347 seconds.\n",
      "You can set `force_col_wise=true` to remove the overhead.\n",
      "[LightGBM] [Info] Total Bins 15993600\n",
      "[LightGBM] [Info] Number of data points in the train set: 9014, number of used features: 62720\n",
      "[LightGBM] [Info] Start training from score -3.419559\n",
      "[LightGBM] [Info] Start training from score -2.970969\n",
      "[LightGBM] [Info] Start training from score -2.209840\n",
      "[LightGBM] [Info] Start training from score -4.471805\n",
      "[LightGBM] [Info] Start training from score -2.196781\n",
      "[LightGBM] [Info] Start training from score -0.401203\n",
      "[LightGBM] [Info] Start training from score -4.254504\n",
      "[LightGBM] [Warning] No further splits with positive gain, best gain: -inf\n",
      "[LightGBM] [Warning] No further splits with positive gain, best gain: -inf\n",
      "[LightGBM] [Warning] No further splits with positive gain, best gain: -inf\n",
      "[LightGBM] [Warning] No further splits with positive gain, best gain: -inf\n",
      "[LightGBM] [Warning] No further splits with positive gain, best gain: -inf\n",
      "[LightGBM] [Warning] No further splits with positive gain, best gain: -inf\n",
      "[LightGBM] [Warning] No further splits with positive gain, best gain: -inf\n",
      "[LightGBM] [Warning] No further splits with positive gain, best gain: -inf\n"
     ]
    },
    {
     "name": "stderr",
     "output_type": "stream",
     "text": [
      "/opt/tljh/user/lib/python3.10/site-packages/sklearn/metrics/_classification.py:1471: UndefinedMetricWarning: Precision is ill-defined and being set to 0.0 in labels with no predicted samples. Use `zero_division` parameter to control this behavior.\n",
      "  _warn_prf(average, modifier, msg_start, len(result))\n"
     ]
    },
    {
     "name": "stdout",
     "output_type": "stream",
     "text": [
      "Accuracy: 0.7722277722277723\n",
      "Sensitivity: 0.3601091582834653\n",
      "Specificity: 0.9218018518321394\n",
      "AUC-ROC: 0.928659245785797\n",
      "MCC: 0.5086280717599454\n",
      "Precision: 0.5908475308157337\n",
      "F1 Score: 0.4101238108776596\n"
     ]
    }
   ],
   "source": [
    "import lightgbm\n",
    "# LGBM\n",
    "lgb_model = lightgbm.LGBMClassifier(random_state=0, n_jobs = -1)\n",
    "evaluate_model(lgb_model, 'LGBM', data, labels)"
   ]
  },
  {
   "cell_type": "code",
   "execution_count": 17,
   "id": "12d62fef",
   "metadata": {},
   "outputs": [],
   "source": [
    "# Save results to a CSV file\n",
    "results_df.to_csv('DS7_Efficient.csv', index=False)"
   ]
  },
  {
   "cell_type": "code",
   "execution_count": 18,
   "id": "53e08610-4212-476c-8792-3406ab2bbe44",
   "metadata": {
    "editable": true,
    "slideshow": {
     "slide_type": ""
    },
    "tags": []
   },
   "outputs": [
    {
     "data": {
      "text/html": [
       "<div>\n",
       "<style scoped>\n",
       "    .dataframe tbody tr th:only-of-type {\n",
       "        vertical-align: middle;\n",
       "    }\n",
       "\n",
       "    .dataframe tbody tr th {\n",
       "        vertical-align: top;\n",
       "    }\n",
       "\n",
       "    .dataframe thead th {\n",
       "        text-align: right;\n",
       "    }\n",
       "</style>\n",
       "<table border=\"1\" class=\"dataframe\">\n",
       "  <thead>\n",
       "    <tr style=\"text-align: right;\">\n",
       "      <th></th>\n",
       "      <th>Model</th>\n",
       "      <th>Average Accuracy</th>\n",
       "      <th>Average Sensitivity</th>\n",
       "      <th>Average Specificity</th>\n",
       "      <th>Average AUC-ROC</th>\n",
       "      <th>Average MCC</th>\n",
       "      <th>Average Precision</th>\n",
       "      <th>Average F1 Score</th>\n",
       "      <th>Memory Used (MB)</th>\n",
       "      <th>Time (s)</th>\n",
       "    </tr>\n",
       "  </thead>\n",
       "  <tbody>\n",
       "    <tr>\n",
       "      <th>0</th>\n",
       "      <td>LR</td>\n",
       "      <td>0.800898</td>\n",
       "      <td>0.597036</td>\n",
       "      <td>0.946443</td>\n",
       "      <td>0.942651</td>\n",
       "      <td>0.606511</td>\n",
       "      <td>0.690662</td>\n",
       "      <td>0.630588</td>\n",
       "      <td>996.757812</td>\n",
       "      <td>5117.515388</td>\n",
       "    </tr>\n",
       "    <tr>\n",
       "      <th>1</th>\n",
       "      <td>NB</td>\n",
       "      <td>0.569846</td>\n",
       "      <td>0.435012</td>\n",
       "      <td>0.920543</td>\n",
       "      <td>0.689356</td>\n",
       "      <td>0.330414</td>\n",
       "      <td>0.325272</td>\n",
       "      <td>0.328054</td>\n",
       "      <td>2388.945312</td>\n",
       "      <td>252.612986</td>\n",
       "    </tr>\n",
       "    <tr>\n",
       "      <th>2</th>\n",
       "      <td>KNN</td>\n",
       "      <td>0.723614</td>\n",
       "      <td>0.344183</td>\n",
       "      <td>0.917144</td>\n",
       "      <td>0.793724</td>\n",
       "      <td>0.416858</td>\n",
       "      <td>0.496757</td>\n",
       "      <td>0.374413</td>\n",
       "      <td>2407.066406</td>\n",
       "      <td>364.483869</td>\n",
       "    </tr>\n",
       "    <tr>\n",
       "      <th>3</th>\n",
       "      <td>Random Forest</td>\n",
       "      <td>0.698950</td>\n",
       "      <td>0.200675</td>\n",
       "      <td>0.879119</td>\n",
       "      <td>0.860838</td>\n",
       "      <td>0.261897</td>\n",
       "      <td>0.462206</td>\n",
       "      <td>0.214148</td>\n",
       "      <td>2459.816406</td>\n",
       "      <td>1321.654642</td>\n",
       "    </tr>\n",
       "    <tr>\n",
       "      <th>4</th>\n",
       "      <td>LGBM</td>\n",
       "      <td>0.765450</td>\n",
       "      <td>0.353379</td>\n",
       "      <td>0.919459</td>\n",
       "      <td>0.927292</td>\n",
       "      <td>0.491727</td>\n",
       "      <td>0.602396</td>\n",
       "      <td>0.405117</td>\n",
       "      <td>14178.164062</td>\n",
       "      <td>34907.246468</td>\n",
       "    </tr>\n",
       "  </tbody>\n",
       "</table>\n",
       "</div>"
      ],
      "text/plain": [
       "           Model  Average Accuracy  Average Sensitivity  Average Specificity  \\\n",
       "0             LR          0.800898             0.597036             0.946443   \n",
       "1             NB          0.569846             0.435012             0.920543   \n",
       "2            KNN          0.723614             0.344183             0.917144   \n",
       "3  Random Forest          0.698950             0.200675             0.879119   \n",
       "4           LGBM          0.765450             0.353379             0.919459   \n",
       "\n",
       "   Average AUC-ROC  Average MCC  Average Precision  Average F1 Score  \\\n",
       "0         0.942651     0.606511           0.690662          0.630588   \n",
       "1         0.689356     0.330414           0.325272          0.328054   \n",
       "2         0.793724     0.416858           0.496757          0.374413   \n",
       "3         0.860838     0.261897           0.462206          0.214148   \n",
       "4         0.927292     0.491727           0.602396          0.405117   \n",
       "\n",
       "   Memory Used (MB)      Time (s)  \n",
       "0        996.757812   5117.515388  \n",
       "1       2388.945312    252.612986  \n",
       "2       2407.066406    364.483869  \n",
       "3       2459.816406   1321.654642  \n",
       "4      14178.164062  34907.246468  "
      ]
     },
     "execution_count": 18,
     "metadata": {},
     "output_type": "execute_result"
    }
   ],
   "source": [
    "results_df"
   ]
  },
  {
   "cell_type": "code",
   "execution_count": null,
   "id": "5dfc3aa5-9f81-477b-93c3-f9f1aaba4ef2",
   "metadata": {
    "editable": true,
    "slideshow": {
     "slide_type": ""
    },
    "tags": []
   },
   "outputs": [],
   "source": []
  }
 ],
 "metadata": {
  "kernelspec": {
   "display_name": "Python 3 (ipykernel)",
   "language": "python",
   "name": "python3"
  },
  "language_info": {
   "codemirror_mode": {
    "name": "ipython",
    "version": 3
   },
   "file_extension": ".py",
   "mimetype": "text/x-python",
   "name": "python",
   "nbconvert_exporter": "python",
   "pygments_lexer": "ipython3",
   "version": "3.10.10"
  }
 },
 "nbformat": 4,
 "nbformat_minor": 5
}
