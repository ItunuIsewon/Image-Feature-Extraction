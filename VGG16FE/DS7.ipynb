{
 "cells": [
  {
   "cell_type": "code",
   "execution_count": 1,
   "id": "8156597b",
   "metadata": {},
   "outputs": [
    {
     "name": "stderr",
     "output_type": "stream",
     "text": [
      "2024-04-02 05:36:04.069901: E external/local_xla/xla/stream_executor/cuda/cuda_dnn.cc:9261] Unable to register cuDNN factory: Attempting to register factory for plugin cuDNN when one has already been registered\n",
      "2024-04-02 05:36:04.069966: E external/local_xla/xla/stream_executor/cuda/cuda_fft.cc:607] Unable to register cuFFT factory: Attempting to register factory for plugin cuFFT when one has already been registered\n",
      "2024-04-02 05:36:04.073502: E external/local_xla/xla/stream_executor/cuda/cuda_blas.cc:1515] Unable to register cuBLAS factory: Attempting to register factory for plugin cuBLAS when one has already been registered\n",
      "2024-04-02 05:36:04.094683: I tensorflow/core/platform/cpu_feature_guard.cc:182] This TensorFlow binary is optimized to use available CPU instructions in performance-critical operations.\n",
      "To enable the following instructions: AVX2 AVX512F AVX512_VNNI FMA, in other operations, rebuild TensorFlow with the appropriate compiler flags.\n",
      "2024-04-02 05:36:06.698080: W tensorflow/compiler/tf2tensorrt/utils/py_utils.cc:38] TF-TRT Warning: Could not find TensorRT\n"
     ]
    }
   ],
   "source": [
    "#import required libraries\n",
    "import os\n",
    "os.environ['TF_ENABLE_ONEDNN_OPTS'] = '0'\n",
    "os.environ['TF_DETERMINISTIC_OPS'] = '1'\n",
    "import cv2\n",
    "import numpy as np\n",
    "from imutils import paths\n",
    "from sklearn.preprocessing import LabelEncoder\n",
    "from sklearn.model_selection import StratifiedKFold, train_test_split\n",
    "from sklearn.svm import SVC\n",
    "from sklearn.neighbors import KNeighborsClassifier\n",
    "from sklearn.ensemble import RandomForestClassifier\n",
    "from sklearn.ensemble import AdaBoostClassifier\n",
    "from sklearn.metrics import classification_report, roc_auc_score, matthews_corrcoef, precision_score, f1_score, recall_score\n",
    "from xgboost import XGBClassifier\n",
    "from sklearn.naive_bayes import GaussianNB\n",
    "from tensorflow.keras.models import Sequential\n",
    "from tensorflow.keras.layers import Conv2D, MaxPooling2D, Flatten, Dense, SimpleRNN,Dropout\n",
    "from tensorflow.keras.utils import to_categorical\n",
    "import pandas as pd\n",
    "import time\n",
    "import psutil\n",
    "import tensorflow as tf\n",
    "from tensorflow.keras.optimizers import Adam\n",
    "from tensorflow.keras.callbacks import EarlyStopping\n",
    "import tensorflow as tf\n",
    "from tensorflow.keras.applications import VGG16\n",
    "from tensorflow.keras.applications import VGG19\n",
    "from tensorflow.keras.preprocessing import image\n",
    "from tensorflow.keras.applications.vgg16 import preprocess_input, decode_predictions\n",
    "from tensorflow.keras.models import Sequential\n",
    "from tensorflow.keras.layers import Dense, Dropout, Flatten\n",
    "import keras\n",
    "\n",
    "tf.keras.utils.set_random_seed(0)\n",
    "tf.config.experimental.enable_op_determinism()"
   ]
  },
  {
   "cell_type": "code",
   "execution_count": 2,
   "id": "0a9bc0f8-8892-44d1-9f4b-d0c89a38ff2c",
   "metadata": {},
   "outputs": [],
   "source": [
    "#!pip install tensorflow-tensorrt\n"
   ]
  },
  {
   "cell_type": "code",
   "execution_count": 3,
   "id": "c08f9a20",
   "metadata": {},
   "outputs": [],
   "source": [
    "#!pip install opencv-python\n",
    "#!pip install imutils\n",
    "#!pip install scikit-learn\n",
    "#!pip install xgboost\n"
   ]
  },
  {
   "cell_type": "code",
   "execution_count": 4,
   "id": "8016367c",
   "metadata": {},
   "outputs": [],
   "source": [
    "#Class to load the dataset images from device\n",
    "\n",
    "class SimpleDatasetLoader:\n",
    "    # Method: Constructor\n",
    "    def __init__(self, preprocessors=None):\n",
    "        \"\"\"\n",
    "        :param preprocessors: List of image preprocessors\n",
    "        \"\"\"\n",
    "        self.preprocessors = preprocessors\n",
    "\n",
    "        if self.preprocessors is None:\n",
    "            self.preprocessors = []\n",
    "\n",
    "    # Method: Used to load a list of images for pre-processing\n",
    "    def load(self, image_paths, verbose=-1):\n",
    "        \"\"\"\n",
    "        :param image_paths: List of image paths\n",
    "        :param verbose: Parameter for printing information to console\n",
    "        :return: Tuple of data and labels\n",
    "        \"\"\"\n",
    "        data, labels = [], []\n",
    "\n",
    "        for i, image_path in enumerate(image_paths):\n",
    "            image = cv2.imread(image_path)\n",
    "            label = image_path.split(os.path.sep)[-2]\n",
    "\n",
    "            if self.preprocessors is not None:\n",
    "                for p in self.preprocessors:\n",
    "                    image = p.preprocess(image)\n",
    "\n",
    "            data.append(image)\n",
    "            labels.append(label)\n",
    "\n",
    "            if verbose > 0 and i > 0 and (i+1) % verbose == 0:\n",
    "                print('[INFO]: Processed {}/{}'.format(i+1, len(image_paths)))\n",
    "\n",
    "        return (np.array(data), np.array(labels))"
   ]
  },
  {
   "cell_type": "code",
   "execution_count": 5,
   "id": "6db2af8e",
   "metadata": {},
   "outputs": [],
   "source": [
    "#Class Preprocessror \n",
    "class SimplePreprocessor:\n",
    "    # Method: Constructor\n",
    "    def __init__(self, width, height, interpolation=cv2.INTER_AREA):\n",
    "        \"\"\"\n",
    "        :param width: Image width\n",
    "        :param height: Image height\n",
    "        :param interpolation: Interpolation algorithm\n",
    "        \"\"\"\n",
    "        self.width = width\n",
    "        self.height = height\n",
    "        self.interpolation = interpolation\n",
    "\n",
    "    # Method: Used to resize the image to a fixed size (ignoring the aspect ratio)\n",
    "    def preprocess(self, image):\n",
    "        \"\"\"\n",
    "        :param image: Image\n",
    "        :return: Re-sized image\n",
    "        \"\"\"\n",
    "        return cv2.resize(image, (self.width, self.height), interpolation=self.interpolation)"
   ]
  },
  {
   "cell_type": "code",
   "execution_count": 6,
   "id": "11731516",
   "metadata": {},
   "outputs": [],
   "source": [
    "from imutils import paths\n",
    "from sklearn.preprocessing import LabelEncoder\n",
    "from sklearn.model_selection import train_test_split\n",
    "from sklearn.metrics import classification_report\n",
    "from __main__ import SimplePreprocessor\n",
    "from __main__ import SimpleDatasetLoader"
   ]
  },
  {
   "cell_type": "code",
   "execution_count": 7,
   "id": "253976fb",
   "metadata": {},
   "outputs": [
    {
     "name": "stdout",
     "output_type": "stream",
     "text": [
      "[INFO]: Images loading....\n",
      "[INFO]: Processed 1000/10015\n",
      "[INFO]: Processed 2000/10015\n",
      "[INFO]: Processed 3000/10015\n",
      "[INFO]: Processed 4000/10015\n",
      "[INFO]: Processed 5000/10015\n",
      "[INFO]: Processed 6000/10015\n",
      "[INFO]: Processed 7000/10015\n",
      "[INFO]: Processed 8000/10015\n",
      "[INFO]: Processed 9000/10015\n",
      "[INFO]: Processed 10000/10015\n",
      "(10015, 224, 224, 3)\n",
      "(10015,)\n"
     ]
    }
   ],
   "source": [
    "# Function to load and preprocess data using SimpleDatasetLoader\n",
    "def load_and_preprocess_data(image_paths, target_size):\n",
    "    sp = SimplePreprocessor(target_size[0], target_size[1])\n",
    "    sdl = SimpleDatasetLoader(preprocessors=[sp])\n",
    "    data, labels = sdl.load(image_paths, verbose=1000)\n",
    "\n",
    "    print(data.shape)\n",
    "    print(labels.shape)\n",
    "\n",
    "    # Convert labels to one-hot encoding\n",
    "    le = LabelEncoder()\n",
    "    labels = le.fit_transform(labels)\n",
    "    #labels = to_categorical(labels)\n",
    "\n",
    "    return data, labels\n",
    "\n",
    "\n",
    "\n",
    "# Get list of image paths\n",
    "image_paths = list(paths.list_images(\"../HAM10000/\"))\n",
    "\n",
    "# Define target size for images\n",
    "target_size = (224, 224)  # Change this to your desired size\n",
    "\n",
    "# Load and preprocess data\n",
    "print('[INFO]: Images loading....')\n",
    "data, labels = load_and_preprocess_data(image_paths, target_size)"
   ]
  },
  {
   "cell_type": "code",
   "execution_count": 8,
   "id": "5b8bade7-be6f-4028-8313-11ad6e920fb2",
   "metadata": {},
   "outputs": [
    {
     "name": "stderr",
     "output_type": "stream",
     "text": [
      "2024-04-02 05:41:02.914419: I tensorflow/core/common_runtime/gpu/gpu_device.cc:1929] Created device /job:localhost/replica:0/task:0/device:GPU:0 with 36183 MB memory:  -> device: 0, name: NVIDIA A100-SXM4-40GB, pci bus id: 0000:65:00.0, compute capability: 8.0\n",
      "2024-04-02 05:41:13.967498: I external/local_xla/xla/stream_executor/cuda/cuda_dnn.cc:454] Loaded cuDNN version 8904\n",
      "2024-04-02 05:41:14.284176: I external/local_tsl/tsl/platform/default/subprocess.cc:304] Start cannot spawn child process: No such file or directory\n"
     ]
    },
    {
     "name": "stdout",
     "output_type": "stream",
     "text": [
      "313/313 [==============================] - 9s 19ms/step\n",
      "(10015, 25088)\n"
     ]
    }
   ],
   "source": [
    "from tensorflow.keras.applications.vgg16 import VGG16, preprocess_input\n",
    "from tensorflow.keras.models import Model\n",
    "base_model = VGG16(weights='imagenet', include_top=False, input_shape=(target_size[0], target_size[1], 3))\n",
    "model = Model(inputs=base_model.input, outputs=base_model.output)\n",
    "# Extract features\n",
    "features = model.predict(data, batch_size=32, verbose=1)\n",
    " \n",
    "# Flatten the features\n",
    "features_flatten = features.reshape(features.shape[0], -1)\n",
    "    \n",
    "print(features_flatten.shape)"
   ]
  },
  {
   "cell_type": "code",
   "execution_count": 9,
   "id": "b28dc9e4-da07-475a-8f3b-6704bc2fc246",
   "metadata": {},
   "outputs": [],
   "source": [
    "data = features_flatten"
   ]
  },
  {
   "cell_type": "code",
   "execution_count": 10,
   "id": "52246a66-a31d-4db3-a230-74cf9adad531",
   "metadata": {},
   "outputs": [],
   "source": [
    "num_classes = len(np.unique(labels))"
   ]
  },
  {
   "cell_type": "code",
   "execution_count": 11,
   "id": "eea8357b-fc36-46ea-a4d9-5eb4c0dda9fc",
   "metadata": {
    "editable": true,
    "slideshow": {
     "slide_type": ""
    },
    "tags": []
   },
   "outputs": [],
   "source": [
    "import gc\n",
    "import os\n",
    "\n",
    "def calculate_sensitivity_specificity(y_true, y_pred, class_label):\n",
    "    # Create a binary confusion matrix for the specified class\n",
    "    true_positive = sum((y_true == class_label) & (y_pred == class_label))\n",
    "    false_positive = sum((y_true != class_label) & (y_pred == class_label))\n",
    "    true_negative = sum((y_true != class_label) & (y_pred != class_label))\n",
    "    false_negative = sum((y_true == class_label) & (y_pred != class_label))\n",
    "\n",
    "    # Calculate sensitivity and specificity\n",
    "    sensitivity = true_positive / (true_positive + false_negative) if (true_positive + false_negative) > 0 else 0\n",
    "    specificity = true_negative / (true_negative + false_positive) if (true_negative + false_positive) > 0 else 0\n",
    "\n",
    "    return sensitivity, specificity\n",
    "# Initialize a DataFrame to store results\n",
    "results_df = pd.DataFrame(columns=['Model', 'Average Accuracy', 'Average Sensitivity', 'Average Specificity',\n",
    "                                   'Average AUC-ROC', 'Average MCC', 'Average Precision', 'Average F1 Score',\n",
    "                                   'Memory Used (MB)', 'Time (s)'])\n",
    "\n",
    "# Function to evaluate a model\n",
    "def evaluate_model(model, name, data, labels):\n",
    "    accuracy_list = []\n",
    "    sensitivity_list = []\n",
    "    specificity_list = []\n",
    "    auc_roc_list = []\n",
    "    mcc_list = []\n",
    "    precision_list = []\n",
    "    f1_list = []\n",
    "    time_start = time.time()\n",
    "    memory_start = psutil.Process(os.getpid()).memory_info().rss / 1024 ** 2\n",
    "\n",
    "    skf = StratifiedKFold(n_splits=10, shuffle=True, random_state=0)\n",
    "    if name == \"VGG16\" or name == \"EfficientNetB0\" or name == \"ResNet50\":\n",
    "        with tf.device('/GPU:0'):\n",
    "            tf.random.set_seed(0)\n",
    "            for fold, (train_index, test_index) in enumerate(skf.split(data, labels)):\n",
    "                print(f'\\n[INFO] Fold {fold + 1} / 10 for {name}')\n",
    "\n",
    "                X_train, X_test = data[train_index], data[test_index]\n",
    "                y_train, y_test = to_categorical(labels[train_index]), to_categorical(labels[test_index])\n",
    "\n",
    "                # Adding early stopping to prevent overfitting\n",
    "                early_stopping = EarlyStopping(monitor='loss', patience=3, restore_best_weights=True)\n",
    "                keras.utils.set_random_seed(0)\n",
    "                np.random.seed(0)\n",
    "                tf.random.set_seed(0)\n",
    "                #tf.config.run_functions_eagerly(True)\n",
    "                tf.data.experimental.enable_debug_mode()\n",
    "                # Train the model\n",
    "                # Example of using tf.data.Dataset\n",
    "                #train_dataset = tf.data.Dataset.from_tensor_slices((X_train, y_train))\n",
    "                #train_dataset = train_dataset.shuffle(buffer_size=len(X_train)).batch(64)\n",
    "\n",
    "                train_dataset = tf.data.Dataset.from_tensor_slices((X_train, y_train))\n",
    "                train_dataset = train_dataset.shuffle(buffer_size=len(X_train)).batch(64)\n",
    "\n",
    "                model.fit(train_dataset, epochs=20, callbacks=[early_stopping])\n",
    "\n",
    "\n",
    "                # Evaluate the model\n",
    "                predictions = model.predict(X_test)\n",
    "                y_pred = np.argmax(predictions, axis=1)\n",
    "                y_test_encoded = np.argmax(y_test, axis=1)\n",
    "\n",
    "                # print(y_test)\n",
    "                # print(y_test_encoded)\n",
    "                # print(y_pred)\n",
    "                # print(predictions)\n",
    "                # Calculate evaluation metrics for the current fold\n",
    "                # Calculate evaluation metrics for the current fold\n",
    "                accuracy = np.mean(y_pred == y_test_encoded)\n",
    "                sensitivities = []\n",
    "                specificities = []\n",
    "                for class_label in range(num_classes):\n",
    "                    sen, spe = calculate_sensitivity_specificity(y_test_encoded, y_pred, class_label)\n",
    "                    sensitivities.append(sen)\n",
    "                    specificities.append(spe)\n",
    "                sensitivity = sum(sensitivities) / num_classes\n",
    "                specificity = sum(specificities) / num_classes\n",
    "                auc_roc = roc_auc_score(y_test, predictions,multi_class='ovr')\n",
    "                mcc = matthews_corrcoef(y_test_encoded, y_pred)\n",
    "                precision = precision_score(y_test_encoded, y_pred, average='macro')\n",
    "                f1 = f1_score(y_test_encoded, y_pred, average='macro')\n",
    "                # Append metrics to lists\n",
    "                accuracy_list.append(accuracy)\n",
    "                sensitivity_list.append(sensitivity)\n",
    "                specificity_list.append(specificity)\n",
    "                auc_roc_list.append(auc_roc)\n",
    "                mcc_list.append(mcc)\n",
    "                precision_list.append(precision)\n",
    "                f1_list.append(f1)\n",
    "\n",
    "                # Print metrics for the current fold\n",
    "                print(f\"Accuracy: {accuracy}\")\n",
    "                print(f\"Sensitivity: {sensitivity}\")\n",
    "                print(f\"Specificity: {specificity}\")\n",
    "                print(f\"AUC-ROC: {auc_roc}\")\n",
    "                print(f\"MCC: {mcc}\")\n",
    "                print(f\"Precision: {precision}\")\n",
    "                print(f\"F1 Score: {f1}\")\n",
    "                gc.collect()\n",
    "\n",
    "            # Calculate average metrics\n",
    "            average_accuracy = np.mean(accuracy_list)\n",
    "            average_sensitivity = np.mean(sensitivity_list)\n",
    "            average_specificity = np.mean(specificity_list)\n",
    "            average_auc_roc = np.mean(auc_roc_list)\n",
    "            average_mcc = np.mean(mcc_list)\n",
    "            average_precision = np.mean(precision_list)\n",
    "            average_f1 = np.mean(f1_list)\n",
    "\n",
    "            time_end = time.time()\n",
    "            memory_end = psutil.Process(os.getpid()).memory_info().rss / 1024 ** 2\n",
    "            del X_train, X_test, y_train, y_test\n",
    "            gc.collect()\n",
    "            tf.keras.backend.clear_session()\n",
    "    else:\n",
    "        for fold, (train_index, test_index) in enumerate(skf.split(data, labels)):\n",
    "            print(f'\\n[INFO] Fold {fold + 1} / 10 for {name}')\n",
    "\n",
    "            X_train, X_test = data[train_index], data[test_index]\n",
    "            y_train, y_test = labels[train_index], labels[test_index]\n",
    "\n",
    "            # Train the model\n",
    "            model.fit(X_train, y_train)\n",
    "\n",
    "            # Evaluate the model\n",
    "            predictions = model.predict(X_test)\n",
    "            y_prob = model.predict_proba(X_test)\n",
    "            y_pred = predictions\n",
    "            y_test_encoded = y_test\n",
    "\n",
    "            # Calculate evaluation metrics for the current fold\n",
    "            accuracy = np.mean(y_pred == y_test_encoded)\n",
    "            sensitivities = []\n",
    "            specificities = []\n",
    "            for class_label in range(num_classes):\n",
    "                sen, spe = calculate_sensitivity_specificity(y_test, y_pred, class_label)\n",
    "                sensitivities.append(sen)\n",
    "                specificities.append(spe)\n",
    "            sensitivity = sum(sensitivities) / num_classes\n",
    "            specificity = sum(specificities) / num_classes\n",
    "            auc_roc = roc_auc_score(y_test, y_prob,multi_class='ovr')\n",
    "            mcc = matthews_corrcoef(y_test, y_pred)\n",
    "            precision = precision_score(y_test, y_pred, average='macro')\n",
    "            f1 = f1_score(y_test, y_pred, average='macro')\n",
    "            # Append metrics to lists\n",
    "            accuracy_list.append(accuracy)\n",
    "            sensitivity_list.append(sensitivity)\n",
    "            specificity_list.append(specificity)\n",
    "            auc_roc_list.append(auc_roc)\n",
    "            mcc_list.append(mcc)\n",
    "            precision_list.append(precision)\n",
    "            f1_list.append(f1)\n",
    "\n",
    "            # Print metrics for the current fold\n",
    "            print(f\"Accuracy: {accuracy}\")\n",
    "            print(f\"Sensitivity: {sensitivity}\")\n",
    "            print(f\"Specificity: {specificity}\")\n",
    "            print(f\"AUC-ROC: {auc_roc}\")\n",
    "            print(f\"MCC: {mcc}\")\n",
    "            print(f\"Precision: {precision}\")\n",
    "            print(f\"F1 Score: {f1}\")\n",
    "            gc.collect()\n",
    "\n",
    "        # Calculate average metrics\n",
    "        average_accuracy = np.mean(accuracy_list)\n",
    "        average_sensitivity = np.mean(sensitivity_list)\n",
    "        average_specificity = np.mean(specificity_list)\n",
    "        average_auc_roc = np.mean(auc_roc_list)\n",
    "        average_mcc = np.mean(mcc_list)\n",
    "        average_precision = np.mean(precision_list)\n",
    "        average_f1 = np.mean(f1_list)\n",
    "\n",
    "        time_end = time.time()\n",
    "        memory_end = psutil.Process(os.getpid()).memory_info().rss / 1024 ** 2\n",
    "        \n",
    "\n",
    "    # Append results to DataFrame\n",
    "    results_df.loc[len(results_df)] = [name, average_accuracy, average_sensitivity, average_specificity,\n",
    "                                       average_auc_roc, average_mcc, average_precision, average_f1,\n",
    "                                       memory_end - memory_start, time_end - time_start]\n",
    "\n",
    "\n",
    "\n"
   ]
  },
  {
   "cell_type": "code",
   "execution_count": 12,
   "id": "743d006a",
   "metadata": {
    "editable": true,
    "slideshow": {
     "slide_type": ""
    },
    "tags": []
   },
   "outputs": [
    {
     "name": "stdout",
     "output_type": "stream",
     "text": [
      "\n",
      "[INFO] Fold 1 / 10 for LR\n"
     ]
    },
    {
     "name": "stderr",
     "output_type": "stream",
     "text": [
      "/opt/tljh/user/lib/python3.10/site-packages/sklearn/linear_model/_logistic.py:460: ConvergenceWarning: lbfgs failed to converge (status=1):\n",
      "STOP: TOTAL NO. of ITERATIONS REACHED LIMIT.\n",
      "\n",
      "Increase the number of iterations (max_iter) or scale the data as shown in:\n",
      "    https://scikit-learn.org/stable/modules/preprocessing.html\n",
      "Please also refer to the documentation for alternative solver options:\n",
      "    https://scikit-learn.org/stable/modules/linear_model.html#logistic-regression\n",
      "  n_iter_i = _check_optimize_result(\n"
     ]
    },
    {
     "name": "stdout",
     "output_type": "stream",
     "text": [
      "Accuracy: 0.779441117764471\n",
      "Sensitivity: 0.5840285187833161\n",
      "Specificity: 0.9452773254596785\n",
      "AUC-ROC: 0.9104764520427041\n",
      "MCC: 0.574019753289111\n",
      "Precision: 0.6653447808489358\n",
      "F1 Score: 0.606279614041189\n",
      "\n",
      "[INFO] Fold 2 / 10 for LR\n"
     ]
    },
    {
     "name": "stderr",
     "output_type": "stream",
     "text": [
      "/opt/tljh/user/lib/python3.10/site-packages/sklearn/linear_model/_logistic.py:460: ConvergenceWarning: lbfgs failed to converge (status=1):\n",
      "STOP: TOTAL NO. of ITERATIONS REACHED LIMIT.\n",
      "\n",
      "Increase the number of iterations (max_iter) or scale the data as shown in:\n",
      "    https://scikit-learn.org/stable/modules/preprocessing.html\n",
      "Please also refer to the documentation for alternative solver options:\n",
      "    https://scikit-learn.org/stable/modules/linear_model.html#logistic-regression\n",
      "  n_iter_i = _check_optimize_result(\n"
     ]
    },
    {
     "name": "stdout",
     "output_type": "stream",
     "text": [
      "Accuracy: 0.7674650698602794\n",
      "Sensitivity: 0.5475663812550806\n",
      "Specificity: 0.9376732152388879\n",
      "AUC-ROC: 0.925076862040797\n",
      "MCC: 0.5422651242679825\n",
      "Precision: 0.6125129407364366\n",
      "F1 Score: 0.5748033810111519\n",
      "\n",
      "[INFO] Fold 3 / 10 for LR\n"
     ]
    },
    {
     "name": "stderr",
     "output_type": "stream",
     "text": [
      "/opt/tljh/user/lib/python3.10/site-packages/sklearn/linear_model/_logistic.py:460: ConvergenceWarning: lbfgs failed to converge (status=1):\n",
      "STOP: TOTAL NO. of ITERATIONS REACHED LIMIT.\n",
      "\n",
      "Increase the number of iterations (max_iter) or scale the data as shown in:\n",
      "    https://scikit-learn.org/stable/modules/preprocessing.html\n",
      "Please also refer to the documentation for alternative solver options:\n",
      "    https://scikit-learn.org/stable/modules/linear_model.html#logistic-regression\n",
      "  n_iter_i = _check_optimize_result(\n"
     ]
    },
    {
     "name": "stdout",
     "output_type": "stream",
     "text": [
      "Accuracy: 0.7774451097804391\n",
      "Sensitivity: 0.529844637200714\n",
      "Specificity: 0.9401896695155462\n",
      "AUC-ROC: 0.9095061926740561\n",
      "MCC: 0.5582821186969691\n",
      "Precision: 0.5717206055493368\n",
      "F1 Score: 0.5468211362975254\n",
      "\n",
      "[INFO] Fold 4 / 10 for LR\n"
     ]
    },
    {
     "name": "stderr",
     "output_type": "stream",
     "text": [
      "/opt/tljh/user/lib/python3.10/site-packages/sklearn/linear_model/_logistic.py:460: ConvergenceWarning: lbfgs failed to converge (status=1):\n",
      "STOP: TOTAL NO. of ITERATIONS REACHED LIMIT.\n",
      "\n",
      "Increase the number of iterations (max_iter) or scale the data as shown in:\n",
      "    https://scikit-learn.org/stable/modules/preprocessing.html\n",
      "Please also refer to the documentation for alternative solver options:\n",
      "    https://scikit-learn.org/stable/modules/linear_model.html#logistic-regression\n",
      "  n_iter_i = _check_optimize_result(\n"
     ]
    },
    {
     "name": "stdout",
     "output_type": "stream",
     "text": [
      "Accuracy: 0.7604790419161677\n",
      "Sensitivity: 0.5007473342118394\n",
      "Specificity: 0.9360547923256887\n",
      "AUC-ROC: 0.9039383270864532\n",
      "MCC: 0.525208896528079\n",
      "Precision: 0.6213202302913805\n",
      "F1 Score: 0.5395898486807437\n",
      "\n",
      "[INFO] Fold 5 / 10 for LR\n"
     ]
    },
    {
     "name": "stderr",
     "output_type": "stream",
     "text": [
      "/opt/tljh/user/lib/python3.10/site-packages/sklearn/linear_model/_logistic.py:460: ConvergenceWarning: lbfgs failed to converge (status=1):\n",
      "STOP: TOTAL NO. of ITERATIONS REACHED LIMIT.\n",
      "\n",
      "Increase the number of iterations (max_iter) or scale the data as shown in:\n",
      "    https://scikit-learn.org/stable/modules/preprocessing.html\n",
      "Please also refer to the documentation for alternative solver options:\n",
      "    https://scikit-learn.org/stable/modules/linear_model.html#logistic-regression\n",
      "  n_iter_i = _check_optimize_result(\n"
     ]
    },
    {
     "name": "stdout",
     "output_type": "stream",
     "text": [
      "Accuracy: 0.7664670658682635\n",
      "Sensitivity: 0.48336551461120963\n",
      "Specificity: 0.9349315111753649\n",
      "AUC-ROC: 0.9266798039817147\n",
      "MCC: 0.5278778852439143\n",
      "Precision: 0.6599576225120349\n",
      "F1 Score: 0.5257671484942852\n",
      "\n",
      "[INFO] Fold 6 / 10 for LR\n"
     ]
    },
    {
     "name": "stderr",
     "output_type": "stream",
     "text": [
      "/opt/tljh/user/lib/python3.10/site-packages/sklearn/linear_model/_logistic.py:460: ConvergenceWarning: lbfgs failed to converge (status=1):\n",
      "STOP: TOTAL NO. of ITERATIONS REACHED LIMIT.\n",
      "\n",
      "Increase the number of iterations (max_iter) or scale the data as shown in:\n",
      "    https://scikit-learn.org/stable/modules/preprocessing.html\n",
      "Please also refer to the documentation for alternative solver options:\n",
      "    https://scikit-learn.org/stable/modules/linear_model.html#logistic-regression\n",
      "  n_iter_i = _check_optimize_result(\n"
     ]
    },
    {
     "name": "stdout",
     "output_type": "stream",
     "text": [
      "Accuracy: 0.7902097902097902\n",
      "Sensitivity: 0.5941202274945991\n",
      "Specificity: 0.9416730264572716\n",
      "AUC-ROC: 0.9190019727911157\n",
      "MCC: 0.5819123883344568\n",
      "Precision: 0.6628664846220177\n",
      "F1 Score: 0.6187643337399737\n",
      "\n",
      "[INFO] Fold 7 / 10 for LR\n"
     ]
    },
    {
     "name": "stderr",
     "output_type": "stream",
     "text": [
      "/opt/tljh/user/lib/python3.10/site-packages/sklearn/linear_model/_logistic.py:460: ConvergenceWarning: lbfgs failed to converge (status=1):\n",
      "STOP: TOTAL NO. of ITERATIONS REACHED LIMIT.\n",
      "\n",
      "Increase the number of iterations (max_iter) or scale the data as shown in:\n",
      "    https://scikit-learn.org/stable/modules/preprocessing.html\n",
      "Please also refer to the documentation for alternative solver options:\n",
      "    https://scikit-learn.org/stable/modules/linear_model.html#logistic-regression\n",
      "  n_iter_i = _check_optimize_result(\n"
     ]
    },
    {
     "name": "stdout",
     "output_type": "stream",
     "text": [
      "Accuracy: 0.7802197802197802\n",
      "Sensitivity: 0.5287857294607535\n",
      "Specificity: 0.9406000659780898\n",
      "AUC-ROC: 0.9121276919845628\n",
      "MCC: 0.5635372517799112\n",
      "Precision: 0.6272868233570729\n",
      "F1 Score: 0.5673692051945711\n",
      "\n",
      "[INFO] Fold 8 / 10 for LR\n"
     ]
    },
    {
     "name": "stderr",
     "output_type": "stream",
     "text": [
      "/opt/tljh/user/lib/python3.10/site-packages/sklearn/linear_model/_logistic.py:460: ConvergenceWarning: lbfgs failed to converge (status=1):\n",
      "STOP: TOTAL NO. of ITERATIONS REACHED LIMIT.\n",
      "\n",
      "Increase the number of iterations (max_iter) or scale the data as shown in:\n",
      "    https://scikit-learn.org/stable/modules/preprocessing.html\n",
      "Please also refer to the documentation for alternative solver options:\n",
      "    https://scikit-learn.org/stable/modules/linear_model.html#logistic-regression\n",
      "  n_iter_i = _check_optimize_result(\n"
     ]
    },
    {
     "name": "stdout",
     "output_type": "stream",
     "text": [
      "Accuracy: 0.7652347652347652\n",
      "Sensitivity: 0.5710100978603873\n",
      "Specificity: 0.9371180947329982\n",
      "AUC-ROC: 0.927132701241706\n",
      "MCC: 0.5400824320703564\n",
      "Precision: 0.6340056202574293\n",
      "F1 Score: 0.598778202589166\n",
      "\n",
      "[INFO] Fold 9 / 10 for LR\n"
     ]
    },
    {
     "name": "stderr",
     "output_type": "stream",
     "text": [
      "/opt/tljh/user/lib/python3.10/site-packages/sklearn/linear_model/_logistic.py:460: ConvergenceWarning: lbfgs failed to converge (status=1):\n",
      "STOP: TOTAL NO. of ITERATIONS REACHED LIMIT.\n",
      "\n",
      "Increase the number of iterations (max_iter) or scale the data as shown in:\n",
      "    https://scikit-learn.org/stable/modules/preprocessing.html\n",
      "Please also refer to the documentation for alternative solver options:\n",
      "    https://scikit-learn.org/stable/modules/linear_model.html#logistic-regression\n",
      "  n_iter_i = _check_optimize_result(\n"
     ]
    },
    {
     "name": "stdout",
     "output_type": "stream",
     "text": [
      "Accuracy: 0.7592407592407593\n",
      "Sensitivity: 0.5181130559324869\n",
      "Specificity: 0.9396052802492576\n",
      "AUC-ROC: 0.8991529633427867\n",
      "MCC: 0.532559237362832\n",
      "Precision: 0.5426911183942086\n",
      "F1 Score: 0.5200454370425558\n",
      "\n",
      "[INFO] Fold 10 / 10 for LR\n"
     ]
    },
    {
     "name": "stderr",
     "output_type": "stream",
     "text": [
      "/opt/tljh/user/lib/python3.10/site-packages/sklearn/linear_model/_logistic.py:460: ConvergenceWarning: lbfgs failed to converge (status=1):\n",
      "STOP: TOTAL NO. of ITERATIONS REACHED LIMIT.\n",
      "\n",
      "Increase the number of iterations (max_iter) or scale the data as shown in:\n",
      "    https://scikit-learn.org/stable/modules/preprocessing.html\n",
      "Please also refer to the documentation for alternative solver options:\n",
      "    https://scikit-learn.org/stable/modules/linear_model.html#logistic-regression\n",
      "  n_iter_i = _check_optimize_result(\n"
     ]
    },
    {
     "name": "stdout",
     "output_type": "stream",
     "text": [
      "Accuracy: 0.7862137862137862\n",
      "Sensitivity: 0.5433763910842802\n",
      "Specificity: 0.9392100152368046\n",
      "AUC-ROC: 0.9174284783275082\n",
      "MCC: 0.5705850434683879\n",
      "Precision: 0.6828976191792588\n",
      "F1 Score: 0.5892721857858044\n"
     ]
    }
   ],
   "source": [
    "from sklearn.linear_model import LogisticRegression\n",
    "# SVM\n",
    "lr_model = LogisticRegression(n_jobs=-1, random_state=0)\n",
    "evaluate_model(lr_model, 'LR', data, labels)\n",
    "\n"
   ]
  },
  {
   "cell_type": "code",
   "execution_count": 13,
   "id": "1ad87131-764c-448b-8476-2e415110115e",
   "metadata": {},
   "outputs": [
    {
     "name": "stdout",
     "output_type": "stream",
     "text": [
      "\n",
      "[INFO] Fold 1 / 10 for NB\n",
      "Accuracy: 0.3992015968063872\n",
      "Sensitivity: 0.23194452448183792\n",
      "Specificity: 0.8775189225001764\n",
      "AUC-ROC: 0.5558452204587485\n",
      "MCC: 0.11069371237407948\n",
      "Precision: 0.23285439780044095\n",
      "F1 Score: 0.21133726034407355\n",
      "\n",
      "[INFO] Fold 2 / 10 for NB\n"
     ]
    },
    {
     "name": "stderr",
     "output_type": "stream",
     "text": [
      "/opt/tljh/user/lib/python3.10/site-packages/sklearn/metrics/_classification.py:1471: UndefinedMetricWarning: Precision is ill-defined and being set to 0.0 in labels with no predicted samples. Use `zero_division` parameter to control this behavior.\n",
      "  _warn_prf(average, modifier, msg_start, len(result))\n"
     ]
    },
    {
     "name": "stdout",
     "output_type": "stream",
     "text": [
      "Accuracy: 0.38922155688622756\n",
      "Sensitivity: 0.19734427868756227\n",
      "Specificity: 0.8703770425999714\n",
      "AUC-ROC: 0.5364319814524817\n",
      "MCC: 0.07284764439795975\n",
      "Precision: 0.18310860244804994\n",
      "F1 Score: 0.17925678394011238\n",
      "\n",
      "[INFO] Fold 3 / 10 for NB\n",
      "Accuracy: 0.4041916167664671\n",
      "Sensitivity: 0.2034703900375542\n",
      "Specificity: 0.8747335041443104\n",
      "AUC-ROC: 0.5399982681794538\n",
      "MCC: 0.09702868416446758\n",
      "Precision: 0.18737100824809735\n",
      "F1 Score: 0.1840436273310007\n",
      "\n",
      "[INFO] Fold 4 / 10 for NB\n",
      "Accuracy: 0.4031936127744511\n",
      "Sensitivity: 0.2139744839591196\n",
      "Specificity: 0.8734054991101268\n",
      "AUC-ROC: 0.5451820467584613\n",
      "MCC: 0.09456754173918899\n",
      "Precision: 0.21182993218360877\n",
      "F1 Score: 0.19903298423322427\n",
      "\n",
      "[INFO] Fold 5 / 10 for NB\n",
      "Accuracy: 0.40219560878243515\n",
      "Sensitivity: 0.20177313846552034\n",
      "Specificity: 0.8727124467489491\n",
      "AUC-ROC: 0.5382333269784819\n",
      "MCC: 0.088747173112312\n",
      "Precision: 0.18382826717472714\n",
      "F1 Score: 0.18067474854557528\n",
      "\n",
      "[INFO] Fold 6 / 10 for NB\n",
      "Accuracy: 0.4065934065934066\n",
      "Sensitivity: 0.20044500969422074\n",
      "Specificity: 0.8796539171409775\n",
      "AUC-ROC: 0.5403527551023718\n",
      "MCC: 0.11939913052952068\n",
      "Precision: 0.18342070824523402\n",
      "F1 Score: 0.17593337859750452\n",
      "\n",
      "[INFO] Fold 7 / 10 for NB\n",
      "Accuracy: 0.38161838161838163\n",
      "Sensitivity: 0.22988745181884734\n",
      "Specificity: 0.8704099629344179\n",
      "AUC-ROC: 0.5507349878177323\n",
      "MCC: 0.07773421135579814\n",
      "Precision: 0.22508525016823525\n",
      "F1 Score: 0.20891749064562126\n",
      "\n",
      "[INFO] Fold 8 / 10 for NB\n",
      "Accuracy: 0.3906093906093906\n",
      "Sensitivity: 0.2031172795577328\n",
      "Specificity: 0.873803110006276\n",
      "AUC-ROC: 0.5392342854130361\n",
      "MCC: 0.09301140010703847\n",
      "Precision: 0.18240533257429467\n",
      "F1 Score: 0.17798335589624378\n",
      "\n",
      "[INFO] Fold 9 / 10 for NB\n"
     ]
    },
    {
     "name": "stderr",
     "output_type": "stream",
     "text": [
      "/opt/tljh/user/lib/python3.10/site-packages/sklearn/metrics/_classification.py:1471: UndefinedMetricWarning: Precision is ill-defined and being set to 0.0 in labels with no predicted samples. Use `zero_division` parameter to control this behavior.\n",
      "  _warn_prf(average, modifier, msg_start, len(result))\n"
     ]
    },
    {
     "name": "stdout",
     "output_type": "stream",
     "text": [
      "Accuracy: 0.4155844155844156\n",
      "Sensitivity: 0.18869806229979805\n",
      "Specificity: 0.8734938857149152\n",
      "AUC-ROC: 0.5315334256536831\n",
      "MCC: 0.08241889171340497\n",
      "Precision: 0.17704817498024666\n",
      "F1 Score: 0.1737902723985178\n",
      "\n",
      "[INFO] Fold 10 / 10 for NB\n",
      "Accuracy: 0.3706293706293706\n",
      "Sensitivity: 0.22081912137882287\n",
      "Specificity: 0.8709930448997361\n",
      "AUC-ROC: 0.5485955489769074\n",
      "MCC: 0.07930481002013508\n",
      "Precision: 0.2002458936780403\n",
      "F1 Score: 0.19481905642909877\n"
     ]
    }
   ],
   "source": [
    "#NB\n",
    "nb_model = GaussianNB()\n",
    "evaluate_model(nb_model, 'NB', data, labels)"
   ]
  },
  {
   "cell_type": "code",
   "execution_count": 14,
   "id": "04aacd84",
   "metadata": {},
   "outputs": [
    {
     "name": "stdout",
     "output_type": "stream",
     "text": [
      "\n",
      "[INFO] Fold 1 / 10 for KNN\n",
      "Accuracy: 0.687624750499002\n",
      "Sensitivity: 0.27932013337130607\n",
      "Specificity: 0.9163727709876658\n",
      "AUC-ROC: 0.7519487237577247\n",
      "MCC: 0.37014457023535424\n",
      "Precision: 0.46384393619065917\n",
      "F1 Score: 0.2882921078838042\n",
      "\n",
      "[INFO] Fold 2 / 10 for KNN\n",
      "Accuracy: 0.7145708582834331\n",
      "Sensitivity: 0.32197200885900246\n",
      "Specificity: 0.920630983982684\n",
      "AUC-ROC: 0.7672455926864928\n",
      "MCC: 0.41956705463364696\n",
      "Precision: 0.4992402931801597\n",
      "F1 Score: 0.3398749641445806\n",
      "\n",
      "[INFO] Fold 3 / 10 for KNN\n",
      "Accuracy: 0.7105788423153693\n",
      "Sensitivity: 0.3040099530504648\n",
      "Specificity: 0.9188824281298107\n",
      "AUC-ROC: 0.7433050732659762\n",
      "MCC: 0.4111343013611628\n",
      "Precision: 0.5313275093100254\n",
      "F1 Score: 0.3141066275111579\n",
      "\n",
      "[INFO] Fold 4 / 10 for KNN\n",
      "Accuracy: 0.6826347305389222\n",
      "Sensitivity: 0.29120951637099884\n",
      "Specificity: 0.9111905307252035\n",
      "AUC-ROC: 0.7578553006641331\n",
      "MCC: 0.3578325844443345\n",
      "Precision: 0.5088636593537865\n",
      "F1 Score: 0.3044218227745716\n",
      "\n",
      "[INFO] Fold 5 / 10 for KNN\n",
      "Accuracy: 0.7125748502994012\n",
      "Sensitivity: 0.33251055265623386\n",
      "Specificity: 0.9168167433353396\n",
      "AUC-ROC: 0.7609943988512686\n",
      "MCC: 0.4097404200763371\n",
      "Precision: 0.6249023339677452\n",
      "F1 Score: 0.36093650935560906\n",
      "\n",
      "[INFO] Fold 6 / 10 for KNN\n",
      "Accuracy: 0.7082917082917083\n",
      "Sensitivity: 0.3192470157917828\n",
      "Specificity: 0.9161388290472086\n",
      "AUC-ROC: 0.7777210913874991\n",
      "MCC: 0.3948500678610768\n",
      "Precision: 0.479982955856816\n",
      "F1 Score: 0.34071243486044817\n",
      "\n",
      "[INFO] Fold 7 / 10 for KNN\n",
      "Accuracy: 0.6963036963036963\n",
      "Sensitivity: 0.31104009977133\n",
      "Specificity: 0.9116412410379581\n",
      "AUC-ROC: 0.7597013778488522\n",
      "MCC: 0.3726311957862366\n",
      "Precision: 0.5310641903325478\n",
      "F1 Score: 0.3379741636906452\n",
      "\n",
      "[INFO] Fold 8 / 10 for KNN\n",
      "Accuracy: 0.6913086913086913\n",
      "Sensitivity: 0.30738343651795924\n",
      "Specificity: 0.9149615112328904\n",
      "AUC-ROC: 0.7715023509205376\n",
      "MCC: 0.3681386376436081\n",
      "Precision: 0.5794834417283398\n",
      "F1 Score: 0.3299046960624979\n",
      "\n",
      "[INFO] Fold 9 / 10 for KNN\n"
     ]
    },
    {
     "name": "stderr",
     "output_type": "stream",
     "text": [
      "/opt/tljh/user/lib/python3.10/site-packages/sklearn/metrics/_classification.py:1471: UndefinedMetricWarning: Precision is ill-defined and being set to 0.0 in labels with no predicted samples. Use `zero_division` parameter to control this behavior.\n",
      "  _warn_prf(average, modifier, msg_start, len(result))\n"
     ]
    },
    {
     "name": "stdout",
     "output_type": "stream",
     "text": [
      "Accuracy: 0.7072927072927073\n",
      "Sensitivity: 0.3166191797942039\n",
      "Specificity: 0.9175376758751257\n",
      "AUC-ROC: 0.7412344741984163\n",
      "MCC: 0.39717495415851134\n",
      "Precision: 0.502221893788862\n",
      "F1 Score: 0.3394435559380202\n",
      "\n",
      "[INFO] Fold 10 / 10 for KNN\n",
      "Accuracy: 0.7002997002997003\n",
      "Sensitivity: 0.29265806251413923\n",
      "Specificity: 0.9164002430802817\n",
      "AUC-ROC: 0.7592697030088126\n",
      "MCC: 0.3816036156539785\n",
      "Precision: 0.46078589505084466\n",
      "F1 Score: 0.3036320251858296\n"
     ]
    }
   ],
   "source": [
    "\n",
    "# KNN\n",
    "knn_model = KNeighborsClassifier()\n",
    "evaluate_model(knn_model, 'KNN', data, labels)\n",
    "\n"
   ]
  },
  {
   "cell_type": "code",
   "execution_count": 15,
   "id": "46ce2ad5",
   "metadata": {
    "editable": true,
    "slideshow": {
     "slide_type": ""
    },
    "tags": []
   },
   "outputs": [
    {
     "name": "stdout",
     "output_type": "stream",
     "text": [
      "\n",
      "[INFO] Fold 1 / 10 for Random Forest\n"
     ]
    },
    {
     "name": "stderr",
     "output_type": "stream",
     "text": [
      "/opt/tljh/user/lib/python3.10/site-packages/sklearn/metrics/_classification.py:1471: UndefinedMetricWarning: Precision is ill-defined and being set to 0.0 in labels with no predicted samples. Use `zero_division` parameter to control this behavior.\n",
      "  _warn_prf(average, modifier, msg_start, len(result))\n"
     ]
    },
    {
     "name": "stdout",
     "output_type": "stream",
     "text": [
      "Accuracy: 0.7105788423153693\n",
      "Sensitivity: 0.20657859016067973\n",
      "Specificity: 0.8876484353331273\n",
      "AUC-ROC: 0.849603694830651\n",
      "MCC: 0.31231512957125784\n",
      "Precision: 0.3466038611413061\n",
      "F1 Score: 0.21450846300694987\n",
      "\n",
      "[INFO] Fold 2 / 10 for Random Forest\n"
     ]
    },
    {
     "name": "stderr",
     "output_type": "stream",
     "text": [
      "/opt/tljh/user/lib/python3.10/site-packages/sklearn/metrics/_classification.py:1471: UndefinedMetricWarning: Precision is ill-defined and being set to 0.0 in labels with no predicted samples. Use `zero_division` parameter to control this behavior.\n",
      "  _warn_prf(average, modifier, msg_start, len(result))\n"
     ]
    },
    {
     "name": "stdout",
     "output_type": "stream",
     "text": [
      "Accuracy: 0.6996007984031936\n",
      "Sensitivity: 0.20144845645911744\n",
      "Specificity: 0.8810345618308553\n",
      "AUC-ROC: 0.8911721583850868\n",
      "MCC: 0.2687131873784028\n",
      "Precision: 0.5231499036167866\n",
      "F1 Score: 0.21256517191352373\n",
      "\n",
      "[INFO] Fold 3 / 10 for Random Forest\n"
     ]
    },
    {
     "name": "stderr",
     "output_type": "stream",
     "text": [
      "/opt/tljh/user/lib/python3.10/site-packages/sklearn/metrics/_classification.py:1471: UndefinedMetricWarning: Precision is ill-defined and being set to 0.0 in labels with no predicted samples. Use `zero_division` parameter to control this behavior.\n",
      "  _warn_prf(average, modifier, msg_start, len(result))\n"
     ]
    },
    {
     "name": "stdout",
     "output_type": "stream",
     "text": [
      "Accuracy: 0.7025948103792415\n",
      "Sensitivity: 0.20091737629051062\n",
      "Specificity: 0.8817654265634527\n",
      "AUC-ROC: 0.8551982004223965\n",
      "MCC: 0.28033177234846796\n",
      "Precision: 0.39547266122645736\n",
      "F1 Score: 0.21073030551876393\n",
      "\n",
      "[INFO] Fold 4 / 10 for Random Forest\n"
     ]
    },
    {
     "name": "stderr",
     "output_type": "stream",
     "text": [
      "/opt/tljh/user/lib/python3.10/site-packages/sklearn/metrics/_classification.py:1471: UndefinedMetricWarning: Precision is ill-defined and being set to 0.0 in labels with no predicted samples. Use `zero_division` parameter to control this behavior.\n",
      "  _warn_prf(average, modifier, msg_start, len(result))\n"
     ]
    },
    {
     "name": "stdout",
     "output_type": "stream",
     "text": [
      "Accuracy: 0.7055888223552894\n",
      "Sensitivity: 0.21115529658267648\n",
      "Specificity: 0.8830644379843431\n",
      "AUC-ROC: 0.8740623274211431\n",
      "MCC: 0.29200384493306053\n",
      "Precision: 0.4958856006170584\n",
      "F1 Score: 0.22733469639438594\n",
      "\n",
      "[INFO] Fold 5 / 10 for Random Forest\n"
     ]
    },
    {
     "name": "stderr",
     "output_type": "stream",
     "text": [
      "/opt/tljh/user/lib/python3.10/site-packages/sklearn/metrics/_classification.py:1471: UndefinedMetricWarning: Precision is ill-defined and being set to 0.0 in labels with no predicted samples. Use `zero_division` parameter to control this behavior.\n",
      "  _warn_prf(average, modifier, msg_start, len(result))\n"
     ]
    },
    {
     "name": "stdout",
     "output_type": "stream",
     "text": [
      "Accuracy: 0.7075848303393214\n",
      "Sensitivity: 0.2017729893745874\n",
      "Specificity: 0.8827679764875445\n",
      "AUC-ROC: 0.8631246192600723\n",
      "MCC: 0.2944962038103712\n",
      "Precision: 0.40188110026619345\n",
      "F1 Score: 0.21170875907718015\n",
      "\n",
      "[INFO] Fold 6 / 10 for Random Forest\n"
     ]
    },
    {
     "name": "stderr",
     "output_type": "stream",
     "text": [
      "/opt/tljh/user/lib/python3.10/site-packages/sklearn/metrics/_classification.py:1471: UndefinedMetricWarning: Precision is ill-defined and being set to 0.0 in labels with no predicted samples. Use `zero_division` parameter to control this behavior.\n",
      "  _warn_prf(average, modifier, msg_start, len(result))\n"
     ]
    },
    {
     "name": "stdout",
     "output_type": "stream",
     "text": [
      "Accuracy: 0.6973026973026973\n",
      "Sensitivity: 0.20418660703182542\n",
      "Specificity: 0.8794634254959002\n",
      "AUC-ROC: 0.8467698782212618\n",
      "MCC: 0.2532144237022502\n",
      "Precision: 0.5185999891103664\n",
      "F1 Score: 0.21914023239186745\n",
      "\n",
      "[INFO] Fold 7 / 10 for Random Forest\n"
     ]
    },
    {
     "name": "stderr",
     "output_type": "stream",
     "text": [
      "/opt/tljh/user/lib/python3.10/site-packages/sklearn/metrics/_classification.py:1471: UndefinedMetricWarning: Precision is ill-defined and being set to 0.0 in labels with no predicted samples. Use `zero_division` parameter to control this behavior.\n",
      "  _warn_prf(average, modifier, msg_start, len(result))\n"
     ]
    },
    {
     "name": "stdout",
     "output_type": "stream",
     "text": [
      "Accuracy: 0.7032967032967034\n",
      "Sensitivity: 0.22184682629647498\n",
      "Specificity: 0.8804218392233373\n",
      "AUC-ROC: 0.8632663001350657\n",
      "MCC: 0.27632972443294457\n",
      "Precision: 0.5406523932687104\n",
      "F1 Score: 0.24487603822370746\n",
      "\n",
      "[INFO] Fold 8 / 10 for Random Forest\n"
     ]
    },
    {
     "name": "stderr",
     "output_type": "stream",
     "text": [
      "/opt/tljh/user/lib/python3.10/site-packages/sklearn/metrics/_classification.py:1471: UndefinedMetricWarning: Precision is ill-defined and being set to 0.0 in labels with no predicted samples. Use `zero_division` parameter to control this behavior.\n",
      "  _warn_prf(average, modifier, msg_start, len(result))\n"
     ]
    },
    {
     "name": "stdout",
     "output_type": "stream",
     "text": [
      "Accuracy: 0.6953046953046953\n",
      "Sensitivity: 0.18993588009981452\n",
      "Specificity: 0.879138810974017\n",
      "AUC-ROC: 0.8701167196175479\n",
      "MCC: 0.24545950091012633\n",
      "Precision: 0.3742332842717281\n",
      "F1 Score: 0.1943452380952381\n",
      "\n",
      "[INFO] Fold 9 / 10 for Random Forest\n"
     ]
    },
    {
     "name": "stderr",
     "output_type": "stream",
     "text": [
      "/opt/tljh/user/lib/python3.10/site-packages/sklearn/metrics/_classification.py:1471: UndefinedMetricWarning: Precision is ill-defined and being set to 0.0 in labels with no predicted samples. Use `zero_division` parameter to control this behavior.\n",
      "  _warn_prf(average, modifier, msg_start, len(result))\n"
     ]
    },
    {
     "name": "stdout",
     "output_type": "stream",
     "text": [
      "Accuracy: 0.6983016983016983\n",
      "Sensitivity: 0.20994560792053557\n",
      "Specificity: 0.880709899061959\n",
      "AUC-ROC: 0.8630872422423509\n",
      "MCC: 0.2613274610695969\n",
      "Precision: 0.5299767728447294\n",
      "F1 Score: 0.22864996022598688\n",
      "\n",
      "[INFO] Fold 10 / 10 for Random Forest\n"
     ]
    },
    {
     "name": "stderr",
     "output_type": "stream",
     "text": [
      "/opt/tljh/user/lib/python3.10/site-packages/sklearn/metrics/_classification.py:1471: UndefinedMetricWarning: Precision is ill-defined and being set to 0.0 in labels with no predicted samples. Use `zero_division` parameter to control this behavior.\n",
      "  _warn_prf(average, modifier, msg_start, len(result))\n"
     ]
    },
    {
     "name": "stdout",
     "output_type": "stream",
     "text": [
      "Accuracy: 0.6903096903096904\n",
      "Sensitivity: 0.19325103909325655\n",
      "Specificity: 0.8767963299380475\n",
      "AUC-ROC: 0.8748411240347582\n",
      "MCC: 0.2263127962368524\n",
      "Precision: 0.36116056804210117\n",
      "F1 Score: 0.20215572476753643\n"
     ]
    }
   ],
   "source": [
    "# Random Forest\n",
    "rf_model = RandomForestClassifier(random_state=0, n_jobs=-1)\n",
    "evaluate_model(rf_model, 'Random Forest', data, labels)\n"
   ]
  },
  {
   "cell_type": "code",
   "execution_count": 16,
   "id": "aaa8cf7c",
   "metadata": {},
   "outputs": [
    {
     "name": "stdout",
     "output_type": "stream",
     "text": [
      "\n",
      "[INFO] Fold 1 / 10 for LGBM\n",
      "[LightGBM] [Info] Auto-choosing col-wise multi-threading, the overhead of testing was 4.345489 seconds.\n",
      "You can set `force_col_wise=true` to remove the overhead.\n",
      "[LightGBM] [Info] Total Bins 2921771\n",
      "[LightGBM] [Info] Number of data points in the train set: 9013, number of used features: 21934\n",
      "[LightGBM] [Info] Start training from score -3.422843\n",
      "[LightGBM] [Info] Start training from score -2.970858\n",
      "[LightGBM] [Info] Start training from score -2.209729\n",
      "[LightGBM] [Info] Start training from score -4.471694\n",
      "[LightGBM] [Info] Start training from score -2.196670\n",
      "[LightGBM] [Info] Start training from score -0.401092\n",
      "[LightGBM] [Info] Start training from score -4.254393\n",
      "[LightGBM] [Warning] No further splits with positive gain, best gain: -inf\n"
     ]
    },
    {
     "name": "stderr",
     "output_type": "stream",
     "text": [
      "/opt/tljh/user/lib/python3.10/site-packages/sklearn/metrics/_classification.py:1471: UndefinedMetricWarning: Precision is ill-defined and being set to 0.0 in labels with no predicted samples. Use `zero_division` parameter to control this behavior.\n",
      "  _warn_prf(average, modifier, msg_start, len(result))\n"
     ]
    },
    {
     "name": "stdout",
     "output_type": "stream",
     "text": [
      "Accuracy: 0.781437125748503\n",
      "Sensitivity: 0.4091454608512177\n",
      "Specificity: 0.9304695230012883\n",
      "AUC-ROC: 0.9211462219976639\n",
      "MCC: 0.5395699519008768\n",
      "Precision: 0.616682520871727\n",
      "F1 Score: 0.4661016556814142\n",
      "\n",
      "[INFO] Fold 2 / 10 for LGBM\n",
      "[LightGBM] [Info] Auto-choosing col-wise multi-threading, the overhead of testing was 4.502028 seconds.\n",
      "You can set `force_col_wise=true` to remove the overhead.\n",
      "[LightGBM] [Info] Total Bins 2916129\n",
      "[LightGBM] [Info] Number of data points in the train set: 9013, number of used features: 21923\n",
      "[LightGBM] [Info] Start training from score -3.422843\n",
      "[LightGBM] [Info] Start training from score -2.970858\n",
      "[LightGBM] [Info] Start training from score -2.209729\n",
      "[LightGBM] [Info] Start training from score -4.471694\n",
      "[LightGBM] [Info] Start training from score -2.196670\n",
      "[LightGBM] [Info] Start training from score -0.401092\n",
      "[LightGBM] [Info] Start training from score -4.254393\n",
      "[LightGBM] [Warning] No further splits with positive gain, best gain: -inf\n"
     ]
    },
    {
     "name": "stderr",
     "output_type": "stream",
     "text": [
      "/opt/tljh/user/lib/python3.10/site-packages/sklearn/metrics/_classification.py:1471: UndefinedMetricWarning: Precision is ill-defined and being set to 0.0 in labels with no predicted samples. Use `zero_division` parameter to control this behavior.\n",
      "  _warn_prf(average, modifier, msg_start, len(result))\n"
     ]
    },
    {
     "name": "stdout",
     "output_type": "stream",
     "text": [
      "Accuracy: 0.7654690618762475\n",
      "Sensitivity: 0.38915807966980676\n",
      "Specificity: 0.9189902513809646\n",
      "AUC-ROC: 0.9389759297234536\n",
      "MCC: 0.49365938119423997\n",
      "Precision: 0.6209171291477682\n",
      "F1 Score: 0.4495649980438491\n",
      "\n",
      "[INFO] Fold 3 / 10 for LGBM\n",
      "[LightGBM] [Info] Auto-choosing col-wise multi-threading, the overhead of testing was 4.402319 seconds.\n",
      "You can set `force_col_wise=true` to remove the overhead.\n",
      "[LightGBM] [Info] Total Bins 2919981\n",
      "[LightGBM] [Info] Number of data points in the train set: 9013, number of used features: 21943\n",
      "[LightGBM] [Info] Start training from score -3.422843\n",
      "[LightGBM] [Info] Start training from score -2.970858\n",
      "[LightGBM] [Info] Start training from score -2.209729\n",
      "[LightGBM] [Info] Start training from score -4.471694\n",
      "[LightGBM] [Info] Start training from score -2.196670\n",
      "[LightGBM] [Info] Start training from score -0.401092\n",
      "[LightGBM] [Info] Start training from score -4.254393\n",
      "[LightGBM] [Warning] No further splits with positive gain, best gain: -inf\n"
     ]
    },
    {
     "name": "stderr",
     "output_type": "stream",
     "text": [
      "/opt/tljh/user/lib/python3.10/site-packages/sklearn/metrics/_classification.py:1471: UndefinedMetricWarning: Precision is ill-defined and being set to 0.0 in labels with no predicted samples. Use `zero_division` parameter to control this behavior.\n",
      "  _warn_prf(average, modifier, msg_start, len(result))\n"
     ]
    },
    {
     "name": "stdout",
     "output_type": "stream",
     "text": [
      "Accuracy: 0.7604790419161677\n",
      "Sensitivity: 0.39409138854767856\n",
      "Specificity: 0.9200532373371965\n",
      "AUC-ROC: 0.9167065103308863\n",
      "MCC: 0.486779891318096\n",
      "Precision: 0.6196827813206334\n",
      "F1 Score: 0.4540360865750724\n",
      "\n",
      "[INFO] Fold 4 / 10 for LGBM\n",
      "[LightGBM] [Info] Auto-choosing col-wise multi-threading, the overhead of testing was 4.387516 seconds.\n",
      "You can set `force_col_wise=true` to remove the overhead.\n",
      "[LightGBM] [Info] Total Bins 2916083\n",
      "[LightGBM] [Info] Number of data points in the train set: 9013, number of used features: 21894\n",
      "[LightGBM] [Info] Start training from score -3.422843\n",
      "[LightGBM] [Info] Start training from score -2.968696\n",
      "[LightGBM] [Info] Start training from score -2.209729\n",
      "[LightGBM] [Info] Start training from score -4.471694\n",
      "[LightGBM] [Info] Start training from score -2.197668\n",
      "[LightGBM] [Info] Start training from score -0.401092\n",
      "[LightGBM] [Info] Start training from score -4.254393\n",
      "[LightGBM] [Warning] No further splits with positive gain, best gain: -inf\n"
     ]
    },
    {
     "name": "stderr",
     "output_type": "stream",
     "text": [
      "/opt/tljh/user/lib/python3.10/site-packages/sklearn/metrics/_classification.py:1471: UndefinedMetricWarning: Precision is ill-defined and being set to 0.0 in labels with no predicted samples. Use `zero_division` parameter to control this behavior.\n",
      "  _warn_prf(average, modifier, msg_start, len(result))\n"
     ]
    },
    {
     "name": "stdout",
     "output_type": "stream",
     "text": [
      "Accuracy: 0.7704590818363274\n",
      "Sensitivity: 0.36842049574239466\n",
      "Specificity: 0.9213851887419763\n",
      "AUC-ROC: 0.9316650817640147\n",
      "MCC: 0.505412395215906\n",
      "Precision: 0.5957972977948025\n",
      "F1 Score: 0.41850082765879365\n",
      "\n",
      "[INFO] Fold 5 / 10 for LGBM\n",
      "[LightGBM] [Info] Auto-choosing col-wise multi-threading, the overhead of testing was 4.338447 seconds.\n",
      "You can set `force_col_wise=true` to remove the overhead.\n",
      "[LightGBM] [Info] Total Bins 2920002\n",
      "[LightGBM] [Info] Number of data points in the train set: 9013, number of used features: 21932\n",
      "[LightGBM] [Info] Start training from score -3.422843\n",
      "[LightGBM] [Info] Start training from score -2.968696\n",
      "[LightGBM] [Info] Start training from score -2.209729\n",
      "[LightGBM] [Info] Start training from score -4.462032\n",
      "[LightGBM] [Info] Start training from score -2.197668\n",
      "[LightGBM] [Info] Start training from score -0.401258\n",
      "[LightGBM] [Info] Start training from score -4.254393\n"
     ]
    },
    {
     "name": "stderr",
     "output_type": "stream",
     "text": [
      "/opt/tljh/user/lib/python3.10/site-packages/sklearn/metrics/_classification.py:1471: UndefinedMetricWarning: Precision is ill-defined and being set to 0.0 in labels with no predicted samples. Use `zero_division` parameter to control this behavior.\n",
      "  _warn_prf(average, modifier, msg_start, len(result))\n"
     ]
    },
    {
     "name": "stdout",
     "output_type": "stream",
     "text": [
      "Accuracy: 0.7674650698602794\n",
      "Sensitivity: 0.3531946683293287\n",
      "Specificity: 0.9209897910378982\n",
      "AUC-ROC: 0.9412666616472409\n",
      "MCC: 0.4975273493821717\n",
      "Precision: 0.5667566593019024\n",
      "F1 Score: 0.4022295437706954\n",
      "\n",
      "[INFO] Fold 6 / 10 for LGBM\n",
      "[LightGBM] [Info] Auto-choosing col-wise multi-threading, the overhead of testing was 4.357210 seconds.\n",
      "You can set `force_col_wise=true` to remove the overhead.\n",
      "[LightGBM] [Info] Total Bins 2920898\n",
      "[LightGBM] [Info] Number of data points in the train set: 9014, number of used features: 21969\n",
      "[LightGBM] [Info] Start training from score -3.422954\n",
      "[LightGBM] [Info] Start training from score -2.968807\n",
      "[LightGBM] [Info] Start training from score -2.208829\n",
      "[LightGBM] [Info] Start training from score -4.462143\n",
      "[LightGBM] [Info] Start training from score -2.197779\n",
      "[LightGBM] [Info] Start training from score -0.401369\n",
      "[LightGBM] [Info] Start training from score -4.254504\n",
      "[LightGBM] [Warning] No further splits with positive gain, best gain: -inf\n"
     ]
    },
    {
     "name": "stderr",
     "output_type": "stream",
     "text": [
      "/opt/tljh/user/lib/python3.10/site-packages/sklearn/metrics/_classification.py:1471: UndefinedMetricWarning: Precision is ill-defined and being set to 0.0 in labels with no predicted samples. Use `zero_division` parameter to control this behavior.\n",
      "  _warn_prf(average, modifier, msg_start, len(result))\n"
     ]
    },
    {
     "name": "stdout",
     "output_type": "stream",
     "text": [
      "Accuracy: 0.7732267732267732\n",
      "Sensitivity: 0.39931788593423123\n",
      "Specificity: 0.9206530606079373\n",
      "AUC-ROC: 0.9169217099826917\n",
      "MCC: 0.5093708369814047\n",
      "Precision: 0.627839507219589\n",
      "F1 Score: 0.4583194677944355\n",
      "\n",
      "[INFO] Fold 7 / 10 for LGBM\n",
      "[LightGBM] [Info] Auto-choosing col-wise multi-threading, the overhead of testing was 4.808710 seconds.\n",
      "You can set `force_col_wise=true` to remove the overhead.\n",
      "[LightGBM] [Info] Total Bins 2925472\n",
      "[LightGBM] [Info] Number of data points in the train set: 9014, number of used features: 21974\n",
      "[LightGBM] [Info] Start training from score -3.422954\n",
      "[LightGBM] [Info] Start training from score -2.968807\n",
      "[LightGBM] [Info] Start training from score -2.209840\n",
      "[LightGBM] [Info] Start training from score -4.462143\n",
      "[LightGBM] [Info] Start training from score -2.196781\n",
      "[LightGBM] [Info] Start training from score -0.401369\n",
      "[LightGBM] [Info] Start training from score -4.254504\n",
      "[LightGBM] [Warning] No further splits with positive gain, best gain: -inf\n"
     ]
    },
    {
     "name": "stderr",
     "output_type": "stream",
     "text": [
      "/opt/tljh/user/lib/python3.10/site-packages/sklearn/metrics/_classification.py:1471: UndefinedMetricWarning: Precision is ill-defined and being set to 0.0 in labels with no predicted samples. Use `zero_division` parameter to control this behavior.\n",
      "  _warn_prf(average, modifier, msg_start, len(result))\n"
     ]
    },
    {
     "name": "stdout",
     "output_type": "stream",
     "text": [
      "Accuracy: 0.7782217782217782\n",
      "Sensitivity: 0.4226186595796735\n",
      "Specificity: 0.924711134959867\n",
      "AUC-ROC: 0.9327452318284654\n",
      "MCC: 0.5250314369050887\n",
      "Precision: 0.6482583885613104\n",
      "F1 Score: 0.4898321059661158\n",
      "\n",
      "[INFO] Fold 8 / 10 for LGBM\n",
      "[LightGBM] [Info] Auto-choosing col-wise multi-threading, the overhead of testing was 4.204657 seconds.\n",
      "You can set `force_col_wise=true` to remove the overhead.\n",
      "[LightGBM] [Info] Total Bins 2918684\n",
      "[LightGBM] [Info] Number of data points in the train set: 9014, number of used features: 21954\n",
      "[LightGBM] [Info] Start training from score -3.419559\n",
      "[LightGBM] [Info] Start training from score -2.968807\n",
      "[LightGBM] [Info] Start training from score -2.209840\n",
      "[LightGBM] [Info] Start training from score -4.462143\n",
      "[LightGBM] [Info] Start training from score -2.196781\n",
      "[LightGBM] [Info] Start training from score -0.401369\n",
      "[LightGBM] [Info] Start training from score -4.262347\n",
      "[LightGBM] [Warning] No further splits with positive gain, best gain: -inf\n"
     ]
    },
    {
     "name": "stderr",
     "output_type": "stream",
     "text": [
      "/opt/tljh/user/lib/python3.10/site-packages/sklearn/metrics/_classification.py:1471: UndefinedMetricWarning: Precision is ill-defined and being set to 0.0 in labels with no predicted samples. Use `zero_division` parameter to control this behavior.\n",
      "  _warn_prf(average, modifier, msg_start, len(result))\n"
     ]
    },
    {
     "name": "stdout",
     "output_type": "stream",
     "text": [
      "Accuracy: 0.7672327672327672\n",
      "Sensitivity: 0.41495294849320885\n",
      "Specificity: 0.9207410631144122\n",
      "AUC-ROC: 0.9327167271406507\n",
      "MCC: 0.4999449574843342\n",
      "Precision: 0.6686069576778344\n",
      "F1 Score: 0.4754821649098568\n",
      "\n",
      "[INFO] Fold 9 / 10 for LGBM\n",
      "[LightGBM] [Info] Auto-choosing col-wise multi-threading, the overhead of testing was 4.471523 seconds.\n",
      "You can set `force_col_wise=true` to remove the overhead.\n",
      "[LightGBM] [Info] Total Bins 2918541\n",
      "[LightGBM] [Info] Number of data points in the train set: 9014, number of used features: 21933\n",
      "[LightGBM] [Info] Start training from score -3.419559\n",
      "[LightGBM] [Info] Start training from score -2.968807\n",
      "[LightGBM] [Info] Start training from score -2.209840\n",
      "[LightGBM] [Info] Start training from score -4.462143\n",
      "[LightGBM] [Info] Start training from score -2.196781\n",
      "[LightGBM] [Info] Start training from score -0.401369\n",
      "[LightGBM] [Info] Start training from score -4.262347\n",
      "[LightGBM] [Warning] No further splits with positive gain, best gain: -inf\n"
     ]
    },
    {
     "name": "stderr",
     "output_type": "stream",
     "text": [
      "/opt/tljh/user/lib/python3.10/site-packages/sklearn/metrics/_classification.py:1471: UndefinedMetricWarning: Precision is ill-defined and being set to 0.0 in labels with no predicted samples. Use `zero_division` parameter to control this behavior.\n",
      "  _warn_prf(average, modifier, msg_start, len(result))\n"
     ]
    },
    {
     "name": "stdout",
     "output_type": "stream",
     "text": [
      "Accuracy: 0.7642357642357642\n",
      "Sensitivity: 0.38615982472660393\n",
      "Specificity: 0.9188903990812597\n",
      "AUC-ROC: 0.9300992427536673\n",
      "MCC: 0.48852677862765115\n",
      "Precision: 0.6496488361611341\n",
      "F1 Score: 0.45346666243134465\n",
      "\n",
      "[INFO] Fold 10 / 10 for LGBM\n",
      "[LightGBM] [Info] Auto-choosing col-wise multi-threading, the overhead of testing was 4.640282 seconds.\n",
      "You can set `force_col_wise=true` to remove the overhead.\n",
      "[LightGBM] [Info] Total Bins 2922229\n",
      "[LightGBM] [Info] Number of data points in the train set: 9014, number of used features: 21958\n",
      "[LightGBM] [Info] Start training from score -3.419559\n",
      "[LightGBM] [Info] Start training from score -2.970969\n",
      "[LightGBM] [Info] Start training from score -2.209840\n",
      "[LightGBM] [Info] Start training from score -4.471805\n",
      "[LightGBM] [Info] Start training from score -2.196781\n",
      "[LightGBM] [Info] Start training from score -0.401203\n",
      "[LightGBM] [Info] Start training from score -4.254504\n",
      "[LightGBM] [Warning] No further splits with positive gain, best gain: -inf\n"
     ]
    },
    {
     "name": "stderr",
     "output_type": "stream",
     "text": [
      "/opt/tljh/user/lib/python3.10/site-packages/sklearn/metrics/_classification.py:1471: UndefinedMetricWarning: Precision is ill-defined and being set to 0.0 in labels with no predicted samples. Use `zero_division` parameter to control this behavior.\n",
      "  _warn_prf(average, modifier, msg_start, len(result))\n"
     ]
    },
    {
     "name": "stdout",
     "output_type": "stream",
     "text": [
      "Accuracy: 0.7622377622377622\n",
      "Sensitivity: 0.35556324594171074\n",
      "Specificity: 0.9174176883810937\n",
      "AUC-ROC: 0.9269678024104849\n",
      "MCC: 0.4812009399086202\n",
      "Precision: 0.6534871518544204\n",
      "F1 Score: 0.418546780411563\n"
     ]
    }
   ],
   "source": [
    "import lightgbm\n",
    "# LGBM\n",
    "lgb_model = lightgbm.LGBMClassifier(random_state=0, n_jobs = -1)\n",
    "evaluate_model(lgb_model, 'LGBM', data, labels)"
   ]
  },
  {
   "cell_type": "code",
   "execution_count": 17,
   "id": "12d62fef",
   "metadata": {},
   "outputs": [],
   "source": [
    "# Save results to a CSV file\n",
    "results_df.to_csv('DS7_VGG16.csv', index=False)"
   ]
  },
  {
   "cell_type": "code",
   "execution_count": 18,
   "id": "53e08610-4212-476c-8792-3406ab2bbe44",
   "metadata": {
    "editable": true,
    "slideshow": {
     "slide_type": ""
    },
    "tags": []
   },
   "outputs": [
    {
     "data": {
      "text/html": [
       "<div>\n",
       "<style scoped>\n",
       "    .dataframe tbody tr th:only-of-type {\n",
       "        vertical-align: middle;\n",
       "    }\n",
       "\n",
       "    .dataframe tbody tr th {\n",
       "        vertical-align: top;\n",
       "    }\n",
       "\n",
       "    .dataframe thead th {\n",
       "        text-align: right;\n",
       "    }\n",
       "</style>\n",
       "<table border=\"1\" class=\"dataframe\">\n",
       "  <thead>\n",
       "    <tr style=\"text-align: right;\">\n",
       "      <th></th>\n",
       "      <th>Model</th>\n",
       "      <th>Average Accuracy</th>\n",
       "      <th>Average Sensitivity</th>\n",
       "      <th>Average Specificity</th>\n",
       "      <th>Average AUC-ROC</th>\n",
       "      <th>Average MCC</th>\n",
       "      <th>Average Precision</th>\n",
       "      <th>Average F1 Score</th>\n",
       "      <th>Memory Used (MB)</th>\n",
       "      <th>Time (s)</th>\n",
       "    </tr>\n",
       "  </thead>\n",
       "  <tbody>\n",
       "    <tr>\n",
       "      <th>0</th>\n",
       "      <td>LR</td>\n",
       "      <td>0.773242</td>\n",
       "      <td>0.540096</td>\n",
       "      <td>0.939233</td>\n",
       "      <td>0.915052</td>\n",
       "      <td>0.551633</td>\n",
       "      <td>0.628060</td>\n",
       "      <td>0.568749</td>\n",
       "      <td>-547.125000</td>\n",
       "      <td>2075.885579</td>\n",
       "    </tr>\n",
       "    <tr>\n",
       "      <th>1</th>\n",
       "      <td>NB</td>\n",
       "      <td>0.396304</td>\n",
       "      <td>0.209147</td>\n",
       "      <td>0.873710</td>\n",
       "      <td>0.542614</td>\n",
       "      <td>0.091575</td>\n",
       "      <td>0.196720</td>\n",
       "      <td>0.188579</td>\n",
       "      <td>863.351562</td>\n",
       "      <td>83.255250</td>\n",
       "    </tr>\n",
       "    <tr>\n",
       "      <th>2</th>\n",
       "      <td>KNN</td>\n",
       "      <td>0.701148</td>\n",
       "      <td>0.307597</td>\n",
       "      <td>0.916057</td>\n",
       "      <td>0.759078</td>\n",
       "      <td>0.388282</td>\n",
       "      <td>0.518172</td>\n",
       "      <td>0.325930</td>\n",
       "      <td>873.464844</td>\n",
       "      <td>137.501791</td>\n",
       "    </tr>\n",
       "    <tr>\n",
       "      <th>3</th>\n",
       "      <td>Random Forest</td>\n",
       "      <td>0.701046</td>\n",
       "      <td>0.204104</td>\n",
       "      <td>0.881281</td>\n",
       "      <td>0.865124</td>\n",
       "      <td>0.271050</td>\n",
       "      <td>0.448762</td>\n",
       "      <td>0.216601</td>\n",
       "      <td>899.691406</td>\n",
       "      <td>141.184834</td>\n",
       "    </tr>\n",
       "    <tr>\n",
       "      <th>4</th>\n",
       "      <td>LGBM</td>\n",
       "      <td>0.769046</td>\n",
       "      <td>0.389262</td>\n",
       "      <td>0.921430</td>\n",
       "      <td>0.928921</td>\n",
       "      <td>0.502702</td>\n",
       "      <td>0.626768</td>\n",
       "      <td>0.448608</td>\n",
       "      <td>1262.609375</td>\n",
       "      <td>12130.668015</td>\n",
       "    </tr>\n",
       "  </tbody>\n",
       "</table>\n",
       "</div>"
      ],
      "text/plain": [
       "           Model  Average Accuracy  Average Sensitivity  Average Specificity  \\\n",
       "0             LR          0.773242             0.540096             0.939233   \n",
       "1             NB          0.396304             0.209147             0.873710   \n",
       "2            KNN          0.701148             0.307597             0.916057   \n",
       "3  Random Forest          0.701046             0.204104             0.881281   \n",
       "4           LGBM          0.769046             0.389262             0.921430   \n",
       "\n",
       "   Average AUC-ROC  Average MCC  Average Precision  Average F1 Score  \\\n",
       "0         0.915052     0.551633           0.628060          0.568749   \n",
       "1         0.542614     0.091575           0.196720          0.188579   \n",
       "2         0.759078     0.388282           0.518172          0.325930   \n",
       "3         0.865124     0.271050           0.448762          0.216601   \n",
       "4         0.928921     0.502702           0.626768          0.448608   \n",
       "\n",
       "   Memory Used (MB)      Time (s)  \n",
       "0       -547.125000   2075.885579  \n",
       "1        863.351562     83.255250  \n",
       "2        873.464844    137.501791  \n",
       "3        899.691406    141.184834  \n",
       "4       1262.609375  12130.668015  "
      ]
     },
     "execution_count": 18,
     "metadata": {},
     "output_type": "execute_result"
    }
   ],
   "source": [
    "results_df"
   ]
  },
  {
   "cell_type": "code",
   "execution_count": null,
   "id": "5dfc3aa5-9f81-477b-93c3-f9f1aaba4ef2",
   "metadata": {
    "editable": true,
    "slideshow": {
     "slide_type": ""
    },
    "tags": []
   },
   "outputs": [],
   "source": []
  }
 ],
 "metadata": {
  "kernelspec": {
   "display_name": "Python 3 (ipykernel)",
   "language": "python",
   "name": "python3"
  },
  "language_info": {
   "codemirror_mode": {
    "name": "ipython",
    "version": 3
   },
   "file_extension": ".py",
   "mimetype": "text/x-python",
   "name": "python",
   "nbconvert_exporter": "python",
   "pygments_lexer": "ipython3",
   "version": "3.10.10"
  }
 },
 "nbformat": 4,
 "nbformat_minor": 5
}
